{
 "cells": [
  {
   "cell_type": "markdown",
   "metadata": {},
   "source": [
    "## PageRank\n",
    "\n",
    "Developed by Larry Page and the backbone of Google, PageRank was initially applied to web pages and the links between them. In some cases, PageRank can also be a good ratings system in sports. I have found it does well in One vs. Many applications, like a golf tournament. I've added a way to implement time decay with it as well. Uniquely among rating systems, it also can be used to give a measure of entropy and uncertainty. There is a major limitation in my implementation however. In most cases, you'll want to also adjust for things like home/away and weather. PageRank doesn't have a great way to deal with that, other than using other computational methods to estimate the effects and then applying weights to your PageRank data. Yet still, I've found there are some niche applications where there are little other effects, like esports and already adjusted golf strokes gained data, where PageRank is very competitive. \n",
    "\n",
    "### Advantages\n",
    "- Simplicity, intuitiveness \n",
    "- Computational Speed\n",
    "- Can measure entropy\n",
    "- Can account for score difference\n",
    "- Can handle any number of opponents\n",
    "- Can scale as big as you need\n",
    "\n",
    "### Disadvantages\n",
    "- Need to keep number of players/teams constant or else ratings change scale\n",
    "- No innate way to adjust for meta factors\n",
    "- Not robust to param choices, and defaults aren't obvious because they depend on scale of scoring and number of teams\n",
    "- Need separate logic for differences and totals"
   ]
  },
  {
   "cell_type": "code",
   "execution_count": 6,
   "metadata": {},
   "outputs": [],
   "source": [
    "\n",
    "import os\n",
    "\n",
    "import torch\n",
    "import numpy as np\n",
    "import pandas as pd\n",
    "from tqdm import tqdm\n",
    "from scipy.sparse import csr_matrix\n",
    "from bayes_opt import BayesianOptimization\n",
    "from sklearn.metrics import mean_squared_error\n",
    "from sklearn.linear_model import LinearRegression\n"
   ]
  },
  {
   "cell_type": "code",
   "execution_count": 37,
   "metadata": {},
   "outputs": [],
   "source": [
    "class PageRankOptimizer(Optimizer):\n",
    "    def __init__(self, protag_col='team', antag_col='opponent', stat_col='score', static_protag_number=200, method='pagerank', time_decay=True):\n",
    "        super().__init__()\n",
    "        self.protag_col = protag_col\n",
    "        self.antag_col = antag_col\n",
    "        assert(protag_col != antag_col), \"Protagonist and Antagonist columns must be different\"\n",
    "        self.stat_col = stat_col\n",
    "        self.time_decay = time_decay\n",
    "        self.static_protag_number = static_protag_number\n",
    "        assert(method in ['pagerank', 'sparse', 'power_iteration']), \"Method not recognized\"\n",
    "        self.method = method\n",
    "\n",
    "    def load_data(self, data, path=None):\n",
    "        if path is not None:\n",
    "            self.data = pd.read_csv(path)\n",
    "        else:\n",
    "            self.data = data\n",
    "        self.preprocess_data()\n",
    "        \n",
    "    def preprocess_data(self):\n",
    "        assert(self.protag_col in self.data.columns), \"Protagonist column not found in data\"\n",
    "        assert(self.antag_col in self.data.columns), \"Antagonist column not found in data\"\n",
    "        assert(self.stat_col in self.data.columns), \"Stat column not found in data\"\n",
    "        assert('num_opponents' in self.data.columns), \"Number of opponents column not found in data\"\n",
    "\n",
    "        # Convert date column to datetime if needed\n",
    "        if isinstance(self.data['date'].iloc[0], str):\n",
    "            self.data['date'] = pd.to_datetime(self.data['date'])\n",
    "\n",
    "        # Sort data by date\n",
    "        self.data = self.data.sort_values('date').reset_index(drop=True)\n",
    "\n",
    "    def pagerank(self, A, l2):\n",
    "\n",
    "        num_protags = A.shape[0]\n",
    "        b = np.random.rand(num_protags,1)\n",
    "        b = b/np.linalg.norm(b, 1)\n",
    "        for i in range(50):\n",
    "            b = l2 * A@b + (1-l2)/num_protags\n",
    "\n",
    "        return b\n",
    "\n",
    "    def pagerank_sparse(self, A, l2):\n",
    "        \n",
    "        A = csr_matrix(A)\n",
    "        num_protags = A.shape[0]\n",
    "        b = np.random.rand(num_protags,1)\n",
    "        b = b/np.linalg.norm(b, 1)\n",
    "        for i in range(50):\n",
    "            b = l2 * A@b + (1-l2)/num_protags\n",
    "\n",
    "        return b\n",
    "\n",
    "    def pagerank_power_iteration(self, A, l2, b, p_iter=25):\n",
    "        num_protags = A.shape[0]\n",
    "        for i in range(p_iter):\n",
    "            for j in range(num_protags):\n",
    "                b[j] = (1-l2)/num_protags+l2*np.sum(A[k][j]*b[k] for k in range(num_protags))\n",
    "        return A, b\n",
    "    \n",
    "    def run_history(self, halflife, l2, record_dates, return_entropy=False):\n",
    "\n",
    "        ratings = []\n",
    "        print(\"halflife\", halflife, \"l2\", l2)\n",
    "        decay = np.exp(-np.log(2)/halflife)\n",
    "        A = np.zeros((self.static_protag_number, self.static_protag_number))\n",
    "        A_inv = np.zeros((self.static_protag_number, self.static_protag_number))\n",
    "        last_date = self.data['date'].iloc[0]\n",
    "\n",
    "        if self.method == 'power_iteration':\n",
    "            # need to initialize ratings\n",
    "            rtgs = np.random.rand(self.static_protag_number, 1)\n",
    "            rtgs_inv = np.random.rand(self.static_protag_number, 1)\n",
    "\n",
    "        \n",
    "        protags = self.data[self.protag_col].value_counts()[:self.static_protag_number]\n",
    "        protag_map = {protag: i for i, protag in enumerate(protags.index)}\n",
    "        protag_map_inv = {i: protag for i, protag in enumerate(protags.index)}\n",
    "\n",
    "        for date, day_df in tqdm(self.data.groupby(['date']), total=len(self.data['date'].unique())):\n",
    "            \n",
    "            ## decay ratings matrices\n",
    "            days_ago = (date-last_date).days\n",
    "            A = A * decay**days_ago\n",
    "            A_inv = A_inv * decay**days_ago\n",
    "            last_date = date\n",
    "\n",
    "            ## first update ratings\n",
    "            if date in record_dates:\n",
    "                # if date requested, calculate ratings\n",
    "                if self.method == 'pagerank':\n",
    "                    rtgs = self.pagerank(A, l2)\n",
    "                    rtgs_inv = self.pagerank(A_inv, l2)\n",
    "                elif self.method == 'sparse':\n",
    "                    rtgs = self.pagerank_sparse(A, l2)\n",
    "                    rtgs_inv = self.pagerank_sparse(A_inv, l2)\n",
    "                elif self.method == 'power_iteration':\n",
    "                    A, rtgs = self.pagerank_power_iteration(A, l2, rtgs)\n",
    "                    A_inv, rtgs_inv = self.pagerank_power_iteration(A_inv, l2, rtgs_inv)\n",
    "                rtg_df = pd.DataFrame({self.protag_col: [protag_map_inv[i] for i in range(self.static_protag_number)], 'rating': rtgs.reshape(-1)})\n",
    "                inv_rtg_df = pd.Series(rtgs_inv.reshape(-1), name='inv_rating')\n",
    "                rtg_df = pd.concat([rtg_df, inv_rtg_df], axis=1)\n",
    "                to_append = day_df.merge(rtg_df, on=self.protag_col)\n",
    "                rtg_df = rtg_df.rename(columns={self.protag_col: self.antag_col, 'rating': 'antag_rtg', 'inv_rating': 'inv_antag_rtg'})\n",
    "                to_append = to_append.merge(rtg_df, on=self.antag_col)\n",
    "                ratings.append(to_append)\n",
    "\n",
    "            # then use results to update rating matrix\n",
    "            day_df = day_df[day_df[self.protag_col].isin(protags.index)]\n",
    "            day_df = day_df[day_df[self.antag_col].isin(protags.index)]\n",
    "            day_df['protag_idx'] = day_df[self.protag_col].map(protag_map)\n",
    "            day_df['antag_idx'] = day_df[self.antag_col].map(protag_map)\n",
    "            ## positive only is more stable\n",
    "            day_df['stat'] = pd.DataFrame({\n",
    "                self.stat_col: day_df[self.stat_col],\n",
    "                'zero_max': np.zeros(len(day_df))\n",
    "            }).max(axis=1)\n",
    "            day_df['stat'] /= day_df['num_opponents']\n",
    "            A[day_df['protag_idx'], day_df['antag_idx']] += day_df[self.stat_col]\n",
    "            A_inv[day_df['antag_idx'], day_df['protag_idx']] += day_df[self.stat_col]\n",
    "\n",
    "\n",
    "        ratings = pd.concat(ratings, axis=0).reset_index(drop=True)\n",
    "        ratings['rating'] = ratings['rating'] - ratings['inv_rating']\n",
    "        ratings['opp_rating'] = ratings['antag_rtg'] - ratings['inv_antag_rtg']\n",
    "        ratings = ratings.drop(columns=['inv_rating', 'inv_antag_rtg', 'antag_rtg'])\n",
    "        return ratings\n",
    "\n",
    "    \n",
    "    def run_time_opt(self, init_points=10, n_iter=30, num_test_dates=20, halflife_bounds=(10, 800), l2_bounds=(1e-9, 10)):\n",
    "\n",
    "        # Select random test dates\n",
    "        unique_dates = self.data['date'].unique()\n",
    "        assert(len(self.data)>200), \"Not enough data to optimize\"\n",
    "        ## don't take from the first 10 or so dates\n",
    "        unique_dates = sorted(unique_dates)[10:]\n",
    "\n",
    "        test_dates = np.random.choice(unique_dates, size=num_test_dates, replace=False)\n",
    "        num_dates = len(unique_dates)\n",
    "\n",
    "        pbounds = {'halflife': halflife_bounds, 'l2': l2_bounds}\n",
    "\n",
    "        def time_bayes_objective(halflife, l2):\n",
    "            \n",
    "            ratings = self.run_history(halflife=halflife, l2=l2, record_dates=test_dates)\n",
    "            ## finding linreg covering up for deficiencies in pagerank\n",
    "            # X = ratings[['rating','opp_rating']]\n",
    "            # y = ratings[self.stat_col]\n",
    "            # lr = LinearRegression()\n",
    "            # lr.fit(X, y)\n",
    "            # preds = lr.predict(X)\n",
    "            # mse = -1*mean_squared_error(y, preds)\n",
    "\n",
    "            # if ratings['rating'].max() > 1e10:\n",
    "            #     return -1e10\n",
    "            positive_corr = ratings[['rating',self.stat_col]].corr().iloc[0,1]\n",
    "            negative_corr = ratings[['opp_rating',self.stat_col]].corr().iloc[0,1]\n",
    "            corr_score = (positive_corr - negative_corr)/2\n",
    "            return corr_score\n",
    "\n",
    "        # Initialize the Bayesian Optimization object\n",
    "        optimizer = BayesianOptimization(f=time_bayes_objective, pbounds=pbounds, random_state=17)\n",
    "\n",
    "        # Perform the optimization\n",
    "        optimizer.maximize(init_points=init_points, n_iter=n_iter)\n",
    "        \n",
    "        # Get the best parameters and correlation\n",
    "        best_params = optimizer.max['params']\n",
    "        print(best_params)\n",
    "        best_halflife = best_params['halflife']\n",
    "        best_l2 = best_params['l2']\n",
    "        best_mse = -optimizer.max['target']\n",
    "\n",
    "        return best_halflife, best_l2, best_mse\n",
    "    \n",
    "    def get_ratings_for_dates(self, dates, halflife, l2, stat_type='diff', return_entropy=False):\n",
    "        dates = pd.to_datetime(dates)\n",
    "        dates = sorted(dates)\n",
    "\n",
    "        ## pagerank it is easier to just run entire history\n",
    "        return self.run_history(halflife, l2, dates, return_entropy=return_entropy)\n",
    "\n"
   ]
  },
  {
   "cell_type": "code",
   "execution_count": 38,
   "metadata": {},
   "outputs": [
    {
     "data": {
      "text/plain": [
       "0.9972312513520695"
      ]
     },
     "execution_count": 38,
     "metadata": {},
     "output_type": "execute_result"
    }
   ],
   "source": [
    "halflife = 250\n",
    "np.exp(-np.log(2)/halflife)\n"
   ]
  },
  {
   "cell_type": "code",
   "execution_count": 39,
   "metadata": {},
   "outputs": [
    {
     "data": {
      "text/html": [
       "<div>\n",
       "<style scoped>\n",
       "    .dataframe tbody tr th:only-of-type {\n",
       "        vertical-align: middle;\n",
       "    }\n",
       "\n",
       "    .dataframe tbody tr th {\n",
       "        vertical-align: top;\n",
       "    }\n",
       "\n",
       "    .dataframe thead th {\n",
       "        text-align: right;\n",
       "    }\n",
       "</style>\n",
       "<table border=\"1\" class=\"dataframe\">\n",
       "  <thead>\n",
       "    <tr style=\"text-align: right;\">\n",
       "      <th></th>\n",
       "      <th>season</th>\n",
       "      <th>team_score</th>\n",
       "      <th>opp_score</th>\n",
       "      <th>is_home</th>\n",
       "      <th>numot</th>\n",
       "      <th>team_fgm</th>\n",
       "      <th>team_fga</th>\n",
       "      <th>team_fgm3</th>\n",
       "      <th>team_fga3</th>\n",
       "      <th>team_ftm</th>\n",
       "      <th>...</th>\n",
       "      <th>opp_ast</th>\n",
       "      <th>opp_to</th>\n",
       "      <th>opp_stl</th>\n",
       "      <th>opp_blk</th>\n",
       "      <th>opp_pf</th>\n",
       "      <th>team_name</th>\n",
       "      <th>opp_name</th>\n",
       "      <th>date</th>\n",
       "      <th>score_diff</th>\n",
       "      <th>num_opponents</th>\n",
       "    </tr>\n",
       "  </thead>\n",
       "  <tbody>\n",
       "    <tr>\n",
       "      <th>0</th>\n",
       "      <td>2020</td>\n",
       "      <td>81</td>\n",
       "      <td>80</td>\n",
       "      <td>-1</td>\n",
       "      <td>0</td>\n",
       "      <td>29</td>\n",
       "      <td>68</td>\n",
       "      <td>8</td>\n",
       "      <td>26</td>\n",
       "      <td>15</td>\n",
       "      <td>...</td>\n",
       "      <td>10</td>\n",
       "      <td>19</td>\n",
       "      <td>10</td>\n",
       "      <td>5</td>\n",
       "      <td>18</td>\n",
       "      <td>Penn</td>\n",
       "      <td>Alabama</td>\n",
       "      <td>2019-11-05</td>\n",
       "      <td>1</td>\n",
       "      <td>1</td>\n",
       "    </tr>\n",
       "    <tr>\n",
       "      <th>1</th>\n",
       "      <td>2020</td>\n",
       "      <td>84</td>\n",
       "      <td>46</td>\n",
       "      <td>1</td>\n",
       "      <td>0</td>\n",
       "      <td>29</td>\n",
       "      <td>58</td>\n",
       "      <td>12</td>\n",
       "      <td>31</td>\n",
       "      <td>14</td>\n",
       "      <td>...</td>\n",
       "      <td>8</td>\n",
       "      <td>19</td>\n",
       "      <td>7</td>\n",
       "      <td>1</td>\n",
       "      <td>22</td>\n",
       "      <td>Penn St</td>\n",
       "      <td>MD E Shore</td>\n",
       "      <td>2019-11-05</td>\n",
       "      <td>38</td>\n",
       "      <td>1</td>\n",
       "    </tr>\n",
       "    <tr>\n",
       "      <th>2</th>\n",
       "      <td>2020</td>\n",
       "      <td>71</td>\n",
       "      <td>87</td>\n",
       "      <td>-1</td>\n",
       "      <td>0</td>\n",
       "      <td>26</td>\n",
       "      <td>70</td>\n",
       "      <td>10</td>\n",
       "      <td>29</td>\n",
       "      <td>9</td>\n",
       "      <td>...</td>\n",
       "      <td>12</td>\n",
       "      <td>12</td>\n",
       "      <td>4</td>\n",
       "      <td>1</td>\n",
       "      <td>13</td>\n",
       "      <td>Pepperdine</td>\n",
       "      <td>California</td>\n",
       "      <td>2019-11-05</td>\n",
       "      <td>-16</td>\n",
       "      <td>1</td>\n",
       "    </tr>\n",
       "    <tr>\n",
       "      <th>3</th>\n",
       "      <td>2020</td>\n",
       "      <td>74</td>\n",
       "      <td>65</td>\n",
       "      <td>1</td>\n",
       "      <td>0</td>\n",
       "      <td>26</td>\n",
       "      <td>60</td>\n",
       "      <td>5</td>\n",
       "      <td>21</td>\n",
       "      <td>17</td>\n",
       "      <td>...</td>\n",
       "      <td>12</td>\n",
       "      <td>19</td>\n",
       "      <td>7</td>\n",
       "      <td>3</td>\n",
       "      <td>19</td>\n",
       "      <td>SMU</td>\n",
       "      <td>Jacksonville St</td>\n",
       "      <td>2019-11-05</td>\n",
       "      <td>9</td>\n",
       "      <td>1</td>\n",
       "    </tr>\n",
       "    <tr>\n",
       "      <th>4</th>\n",
       "      <td>2020</td>\n",
       "      <td>67</td>\n",
       "      <td>94</td>\n",
       "      <td>-1</td>\n",
       "      <td>0</td>\n",
       "      <td>27</td>\n",
       "      <td>57</td>\n",
       "      <td>7</td>\n",
       "      <td>22</td>\n",
       "      <td>6</td>\n",
       "      <td>...</td>\n",
       "      <td>13</td>\n",
       "      <td>8</td>\n",
       "      <td>10</td>\n",
       "      <td>5</td>\n",
       "      <td>15</td>\n",
       "      <td>Princeton</td>\n",
       "      <td>Duquesne</td>\n",
       "      <td>2019-11-05</td>\n",
       "      <td>-27</td>\n",
       "      <td>1</td>\n",
       "    </tr>\n",
       "  </tbody>\n",
       "</table>\n",
       "<p>5 rows × 36 columns</p>\n",
       "</div>"
      ],
      "text/plain": [
       "   season  team_score  opp_score  is_home  numot  team_fgm  team_fga  \\\n",
       "0    2020          81         80       -1      0        29        68   \n",
       "1    2020          84         46        1      0        29        58   \n",
       "2    2020          71         87       -1      0        26        70   \n",
       "3    2020          74         65        1      0        26        60   \n",
       "4    2020          67         94       -1      0        27        57   \n",
       "\n",
       "   team_fgm3  team_fga3  team_ftm  ...  opp_ast  opp_to  opp_stl  opp_blk  \\\n",
       "0          8         26        15  ...       10      19       10        5   \n",
       "1         12         31        14  ...        8      19        7        1   \n",
       "2         10         29         9  ...       12      12        4        1   \n",
       "3          5         21        17  ...       12      19        7        3   \n",
       "4          7         22         6  ...       13       8       10        5   \n",
       "\n",
       "   opp_pf   team_name         opp_name       date  score_diff  num_opponents  \n",
       "0      18        Penn          Alabama 2019-11-05           1              1  \n",
       "1      22     Penn St       MD E Shore 2019-11-05          38              1  \n",
       "2      13  Pepperdine       California 2019-11-05         -16              1  \n",
       "3      19         SMU  Jacksonville St 2019-11-05           9              1  \n",
       "4      15   Princeton         Duquesne 2019-11-05         -27              1  \n",
       "\n",
       "[5 rows x 36 columns]"
      ]
     },
     "execution_count": 39,
     "metadata": {},
     "output_type": "execute_result"
    }
   ],
   "source": [
    "\n",
    "data_path = '../data'\n",
    "sample_data = pd.read_csv(os.path.join(data_path, 'testing', 'ncaam_sample_data.csv'))\n",
    "sample_data['score_diff'] = sample_data['team_score'] - sample_data['opp_score']\n",
    "sample_data['date'] = pd.to_datetime(sample_data['date'])\n",
    "sample_data = sample_data.sort_values('date')\n",
    "sample_data = sample_data.loc[sample_data['date'] > '2019-10-01'].reset_index(drop=True)\n",
    "sample_data['num_opponents'] = 1\n",
    "sample_data.head()\n"
   ]
  },
  {
   "cell_type": "code",
   "execution_count": 40,
   "metadata": {},
   "outputs": [],
   "source": [
    "PO = PageRankOptimizer(\n",
    "    protag_col='team_name', \n",
    "    antag_col='opp_name', \n",
    "    stat_col='score_diff', \n",
    "    static_protag_number=sample_data['team_name'].nunique()\n",
    ")\n",
    "\n",
    "PO.load_data(sample_data)\n"
   ]
  },
  {
   "cell_type": "code",
   "execution_count": 41,
   "metadata": {},
   "outputs": [
    {
     "name": "stderr",
     "output_type": "stream",
     "text": [
      "  0%|          | 0/381 [00:00<?, ?it/s]c:\\Users\\Blake\\anaconda3\\Lib\\site-packages\\tqdm\\std.py:1178: FutureWarning: In a future version of pandas, a length 1 tuple will be returned when iterating over a groupby with a grouper equal to a list of length 1. Don't supply a list with a single grouper to avoid this warning.\n",
      "  for obj in iterable:\n",
      "100%|██████████| 381/381 [00:02<00:00, 151.07it/s]\n"
     ]
    }
   ],
   "source": [
    "\n",
    "rtgs_history = PO.get_ratings_for_dates(sample_data.date.unique()[-100:], l2=0.8/sample_data.team_name.nunique(), halflife=250, stat_type='diff', return_entropy=False)\n",
    "\n"
   ]
  },
  {
   "cell_type": "code",
   "execution_count": 44,
   "metadata": {},
   "outputs": [
    {
     "name": "stdout",
     "output_type": "stream",
     "text": [
      "|   iter    |  target   | halflife  |    l2     |\n",
      "-------------------------------------------------\n"
     ]
    },
    {
     "name": "stderr",
     "output_type": "stream",
     "text": [
      "  0%|          | 0/381 [00:00<?, ?it/s]c:\\Users\\Blake\\anaconda3\\Lib\\site-packages\\tqdm\\std.py:1178: FutureWarning: In a future version of pandas, a length 1 tuple will be returned when iterating over a groupby with a grouper equal to a list of length 1. Don't supply a list with a single grouper to avoid this warning.\n",
      "  for obj in iterable:\n",
      "100%|██████████| 381/381 [00:02<00:00, 182.87it/s]\n"
     ]
    },
    {
     "name": "stdout",
     "output_type": "stream",
     "text": [
      "| \u001b[0m1        \u001b[0m | \u001b[0m-203.3   \u001b[0m | \u001b[0m242.8    \u001b[0m | \u001b[0m0.002223 \u001b[0m |\n"
     ]
    },
    {
     "name": "stderr",
     "output_type": "stream",
     "text": [
      "  0%|          | 0/381 [00:00<?, ?it/s]c:\\Users\\Blake\\anaconda3\\Lib\\site-packages\\tqdm\\std.py:1178: FutureWarning: In a future version of pandas, a length 1 tuple will be returned when iterating over a groupby with a grouper equal to a list of length 1. Don't supply a list with a single grouper to avoid this warning.\n",
      "  for obj in iterable:\n",
      "100%|██████████| 381/381 [00:02<00:00, 178.12it/s]\n"
     ]
    },
    {
     "name": "stdout",
     "output_type": "stream",
     "text": [
      "| \u001b[0m2        \u001b[0m | \u001b[0m-203.3   \u001b[0m | \u001b[0m161.3    \u001b[0m | \u001b[0m0.0002845\u001b[0m |\n"
     ]
    },
    {
     "name": "stderr",
     "output_type": "stream",
     "text": [
      "  0%|          | 0/381 [00:00<?, ?it/s]c:\\Users\\Blake\\anaconda3\\Lib\\site-packages\\tqdm\\std.py:1178: FutureWarning: In a future version of pandas, a length 1 tuple will be returned when iterating over a groupby with a grouper equal to a list of length 1. Don't supply a list with a single grouper to avoid this warning.\n",
      "  for obj in iterable:\n",
      "100%|██████████| 381/381 [00:02<00:00, 184.17it/s]\n"
     ]
    },
    {
     "name": "stdout",
     "output_type": "stream",
     "text": [
      "| \u001b[95m3        \u001b[0m | \u001b[95m-203.3   \u001b[0m | \u001b[95m631.7    \u001b[0m | \u001b[95m0.00275  \u001b[0m |\n"
     ]
    },
    {
     "name": "stderr",
     "output_type": "stream",
     "text": [
      "  0%|          | 0/381 [00:00<?, ?it/s]c:\\Users\\Blake\\anaconda3\\Lib\\site-packages\\tqdm\\std.py:1178: FutureWarning: In a future version of pandas, a length 1 tuple will be returned when iterating over a groupby with a grouper equal to a list of length 1. Don't supply a list with a single grouper to avoid this warning.\n",
      "  for obj in iterable:\n",
      "100%|██████████| 381/381 [00:02<00:00, 183.55it/s]\n"
     ]
    },
    {
     "name": "stdout",
     "output_type": "stream",
     "text": [
      "| \u001b[0m4        \u001b[0m | \u001b[0m-203.3   \u001b[0m | \u001b[0m513.6    \u001b[0m | \u001b[0m0.002412 \u001b[0m |\n"
     ]
    },
    {
     "name": "stderr",
     "output_type": "stream",
     "text": [
      "  0%|          | 0/381 [00:00<?, ?it/s]c:\\Users\\Blake\\anaconda3\\Lib\\site-packages\\tqdm\\std.py:1178: FutureWarning: In a future version of pandas, a length 1 tuple will be returned when iterating over a groupby with a grouper equal to a list of length 1. Don't supply a list with a single grouper to avoid this warning.\n",
      "  for obj in iterable:\n",
      "100%|██████████| 381/381 [00:02<00:00, 179.57it/s]\n"
     ]
    },
    {
     "name": "stdout",
     "output_type": "stream",
     "text": [
      "| \u001b[0m5        \u001b[0m | \u001b[0m-203.3   \u001b[0m | \u001b[0m40.86    \u001b[0m | \u001b[0m0.001499 \u001b[0m |\n"
     ]
    },
    {
     "name": "stderr",
     "output_type": "stream",
     "text": [
      "  0%|          | 0/381 [00:00<?, ?it/s]c:\\Users\\Blake\\anaconda3\\Lib\\site-packages\\tqdm\\std.py:1178: FutureWarning: In a future version of pandas, a length 1 tuple will be returned when iterating over a groupby with a grouper equal to a list of length 1. Don't supply a list with a single grouper to avoid this warning.\n",
      "  for obj in iterable:\n",
      "100%|██████████| 381/381 [00:02<00:00, 187.37it/s]\n"
     ]
    },
    {
     "name": "stdout",
     "output_type": "stream",
     "text": [
      "| \u001b[0m6        \u001b[0m | \u001b[0m-203.3   \u001b[0m | \u001b[0m757.1    \u001b[0m | \u001b[0m0.0002516\u001b[0m |\n"
     ]
    },
    {
     "name": "stderr",
     "output_type": "stream",
     "text": [
      "  0%|          | 0/381 [00:00<?, ?it/s]c:\\Users\\Blake\\anaconda3\\Lib\\site-packages\\tqdm\\std.py:1178: FutureWarning: In a future version of pandas, a length 1 tuple will be returned when iterating over a groupby with a grouper equal to a list of length 1. Don't supply a list with a single grouper to avoid this warning.\n",
      "  for obj in iterable:\n",
      "100%|██████████| 381/381 [00:02<00:00, 176.08it/s]\n"
     ]
    },
    {
     "name": "stdout",
     "output_type": "stream",
     "text": [
      "| \u001b[95m7        \u001b[0m | \u001b[95m-203.3   \u001b[0m | \u001b[95m692.6    \u001b[0m | \u001b[95m0.003676 \u001b[0m |\n"
     ]
    },
    {
     "name": "stderr",
     "output_type": "stream",
     "text": [
      "  0%|          | 0/381 [00:00<?, ?it/s]c:\\Users\\Blake\\anaconda3\\Lib\\site-packages\\tqdm\\std.py:1178: FutureWarning: In a future version of pandas, a length 1 tuple will be returned when iterating over a groupby with a grouper equal to a list of length 1. Don't supply a list with a single grouper to avoid this warning.\n",
      "  for obj in iterable:\n",
      "100%|██████████| 381/381 [00:02<00:00, 181.11it/s]\n"
     ]
    },
    {
     "name": "stdout",
     "output_type": "stream",
     "text": [
      "| \u001b[0m8        \u001b[0m | \u001b[0m-203.3   \u001b[0m | \u001b[0m50.44    \u001b[0m | \u001b[0m0.002734 \u001b[0m |\n"
     ]
    },
    {
     "name": "stderr",
     "output_type": "stream",
     "text": [
      "  0%|          | 0/381 [00:00<?, ?it/s]c:\\Users\\Blake\\anaconda3\\Lib\\site-packages\\tqdm\\std.py:1178: FutureWarning: In a future version of pandas, a length 1 tuple will be returned when iterating over a groupby with a grouper equal to a list of length 1. Don't supply a list with a single grouper to avoid this warning.\n",
      "  for obj in iterable:\n",
      "100%|██████████| 381/381 [00:02<00:00, 184.97it/s]\n"
     ]
    },
    {
     "name": "stdout",
     "output_type": "stream",
     "text": [
      "| \u001b[0m9        \u001b[0m | \u001b[0m-203.3   \u001b[0m | \u001b[0m445.9    \u001b[0m | \u001b[0m0.002504 \u001b[0m |\n"
     ]
    },
    {
     "name": "stderr",
     "output_type": "stream",
     "text": [
      "  0%|          | 0/381 [00:00<?, ?it/s]c:\\Users\\Blake\\anaconda3\\Lib\\site-packages\\tqdm\\std.py:1178: FutureWarning: In a future version of pandas, a length 1 tuple will be returned when iterating over a groupby with a grouper equal to a list of length 1. Don't supply a list with a single grouper to avoid this warning.\n",
      "  for obj in iterable:\n",
      "100%|██████████| 381/381 [00:02<00:00, 180.17it/s]\n"
     ]
    },
    {
     "name": "stdout",
     "output_type": "stream",
     "text": [
      "| \u001b[0m10       \u001b[0m | \u001b[0m-203.3   \u001b[0m | \u001b[0m392.0    \u001b[0m | \u001b[0m0.001186 \u001b[0m |\n"
     ]
    },
    {
     "name": "stderr",
     "output_type": "stream",
     "text": [
      "  0%|          | 0/381 [00:00<?, ?it/s]c:\\Users\\Blake\\anaconda3\\Lib\\site-packages\\tqdm\\std.py:1178: FutureWarning: In a future version of pandas, a length 1 tuple will be returned when iterating over a groupby with a grouper equal to a list of length 1. Don't supply a list with a single grouper to avoid this warning.\n",
      "  for obj in iterable:\n",
      "100%|██████████| 381/381 [00:02<00:00, 181.04it/s]\n"
     ]
    },
    {
     "name": "stdout",
     "output_type": "stream",
     "text": [
      "| \u001b[0m11       \u001b[0m | \u001b[0m-203.3   \u001b[0m | \u001b[0m692.6    \u001b[0m | \u001b[0m0.001353 \u001b[0m |\n"
     ]
    },
    {
     "name": "stderr",
     "output_type": "stream",
     "text": [
      "  0%|          | 0/381 [00:00<?, ?it/s]c:\\Users\\Blake\\anaconda3\\Lib\\site-packages\\tqdm\\std.py:1178: FutureWarning: In a future version of pandas, a length 1 tuple will be returned when iterating over a groupby with a grouper equal to a list of length 1. Don't supply a list with a single grouper to avoid this warning.\n",
      "  for obj in iterable:\n",
      "100%|██████████| 381/381 [00:02<00:00, 182.00it/s]\n"
     ]
    },
    {
     "name": "stdout",
     "output_type": "stream",
     "text": [
      "| \u001b[0m12       \u001b[0m | \u001b[0m-203.3   \u001b[0m | \u001b[0m137.2    \u001b[0m | \u001b[0m0.001334 \u001b[0m |\n"
     ]
    },
    {
     "name": "stderr",
     "output_type": "stream",
     "text": [
      "  0%|          | 0/381 [00:00<?, ?it/s]c:\\Users\\Blake\\anaconda3\\Lib\\site-packages\\tqdm\\std.py:1178: FutureWarning: In a future version of pandas, a length 1 tuple will be returned when iterating over a groupby with a grouper equal to a list of length 1. Don't supply a list with a single grouper to avoid this warning.\n",
      "  for obj in iterable:\n",
      "100%|██████████| 381/381 [00:02<00:00, 180.41it/s]\n"
     ]
    },
    {
     "name": "stdout",
     "output_type": "stream",
     "text": [
      "| \u001b[0m13       \u001b[0m | \u001b[0m-203.3   \u001b[0m | \u001b[0m264.1    \u001b[0m | \u001b[0m0.002167 \u001b[0m |\n"
     ]
    },
    {
     "name": "stderr",
     "output_type": "stream",
     "text": [
      "  0%|          | 0/381 [00:00<?, ?it/s]c:\\Users\\Blake\\anaconda3\\Lib\\site-packages\\tqdm\\std.py:1178: FutureWarning: In a future version of pandas, a length 1 tuple will be returned when iterating over a groupby with a grouper equal to a list of length 1. Don't supply a list with a single grouper to avoid this warning.\n",
      "  for obj in iterable:\n",
      "100%|██████████| 381/381 [00:02<00:00, 186.16it/s]\n"
     ]
    },
    {
     "name": "stdout",
     "output_type": "stream",
     "text": [
      "| \u001b[0m14       \u001b[0m | \u001b[0m-203.3   \u001b[0m | \u001b[0m136.8    \u001b[0m | \u001b[0m0.002704 \u001b[0m |\n"
     ]
    },
    {
     "name": "stderr",
     "output_type": "stream",
     "text": [
      "  0%|          | 0/381 [00:00<?, ?it/s]c:\\Users\\Blake\\anaconda3\\Lib\\site-packages\\tqdm\\std.py:1178: FutureWarning: In a future version of pandas, a length 1 tuple will be returned when iterating over a groupby with a grouper equal to a list of length 1. Don't supply a list with a single grouper to avoid this warning.\n",
      "  for obj in iterable:\n",
      "100%|██████████| 381/381 [00:02<00:00, 179.90it/s]\n"
     ]
    },
    {
     "name": "stdout",
     "output_type": "stream",
     "text": [
      "| \u001b[0m15       \u001b[0m | \u001b[0m-203.3   \u001b[0m | \u001b[0m765.8    \u001b[0m | \u001b[0m0.002342 \u001b[0m |\n"
     ]
    },
    {
     "name": "stderr",
     "output_type": "stream",
     "text": [
      "  0%|          | 0/381 [00:00<?, ?it/s]c:\\Users\\Blake\\anaconda3\\Lib\\site-packages\\tqdm\\std.py:1178: FutureWarning: In a future version of pandas, a length 1 tuple will be returned when iterating over a groupby with a grouper equal to a list of length 1. Don't supply a list with a single grouper to avoid this warning.\n",
      "  for obj in iterable:\n",
      "100%|██████████| 381/381 [00:02<00:00, 182.21it/s]\n"
     ]
    },
    {
     "name": "stdout",
     "output_type": "stream",
     "text": [
      "| \u001b[0m16       \u001b[0m | \u001b[0m-203.3   \u001b[0m | \u001b[0m731.5    \u001b[0m | \u001b[0m0.001484 \u001b[0m |\n"
     ]
    },
    {
     "name": "stderr",
     "output_type": "stream",
     "text": [
      "  0%|          | 0/381 [00:00<?, ?it/s]c:\\Users\\Blake\\anaconda3\\Lib\\site-packages\\tqdm\\std.py:1178: FutureWarning: In a future version of pandas, a length 1 tuple will be returned when iterating over a groupby with a grouper equal to a list of length 1. Don't supply a list with a single grouper to avoid this warning.\n",
      "  for obj in iterable:\n",
      "100%|██████████| 381/381 [00:02<00:00, 184.09it/s]\n"
     ]
    },
    {
     "name": "stdout",
     "output_type": "stream",
     "text": [
      "| \u001b[0m17       \u001b[0m | \u001b[0m-203.3   \u001b[0m | \u001b[0m136.3    \u001b[0m | \u001b[0m0.001874 \u001b[0m |\n"
     ]
    },
    {
     "name": "stderr",
     "output_type": "stream",
     "text": [
      "  0%|          | 0/381 [00:00<?, ?it/s]c:\\Users\\Blake\\anaconda3\\Lib\\site-packages\\tqdm\\std.py:1178: FutureWarning: In a future version of pandas, a length 1 tuple will be returned when iterating over a groupby with a grouper equal to a list of length 1. Don't supply a list with a single grouper to avoid this warning.\n",
      "  for obj in iterable:\n",
      "100%|██████████| 381/381 [00:02<00:00, 178.69it/s]\n"
     ]
    },
    {
     "name": "stdout",
     "output_type": "stream",
     "text": [
      "| \u001b[0m18       \u001b[0m | \u001b[0m-203.3   \u001b[0m | \u001b[0m139.9    \u001b[0m | \u001b[0m0.001877 \u001b[0m |\n"
     ]
    },
    {
     "name": "stderr",
     "output_type": "stream",
     "text": [
      "  0%|          | 0/381 [00:00<?, ?it/s]c:\\Users\\Blake\\anaconda3\\Lib\\site-packages\\tqdm\\std.py:1178: FutureWarning: In a future version of pandas, a length 1 tuple will be returned when iterating over a groupby with a grouper equal to a list of length 1. Don't supply a list with a single grouper to avoid this warning.\n",
      "  for obj in iterable:\n",
      "100%|██████████| 381/381 [00:02<00:00, 186.52it/s]\n"
     ]
    },
    {
     "name": "stdout",
     "output_type": "stream",
     "text": [
      "| \u001b[0m19       \u001b[0m | \u001b[0m-203.3   \u001b[0m | \u001b[0m561.0    \u001b[0m | \u001b[0m0.001482 \u001b[0m |\n"
     ]
    },
    {
     "name": "stderr",
     "output_type": "stream",
     "text": [
      "  0%|          | 0/381 [00:00<?, ?it/s]c:\\Users\\Blake\\anaconda3\\Lib\\site-packages\\tqdm\\std.py:1178: FutureWarning: In a future version of pandas, a length 1 tuple will be returned when iterating over a groupby with a grouper equal to a list of length 1. Don't supply a list with a single grouper to avoid this warning.\n",
      "  for obj in iterable:\n",
      "100%|██████████| 381/381 [00:02<00:00, 175.41it/s]\n"
     ]
    },
    {
     "name": "stdout",
     "output_type": "stream",
     "text": [
      "| \u001b[0m20       \u001b[0m | \u001b[0m-203.3   \u001b[0m | \u001b[0m338.3    \u001b[0m | \u001b[0m0.0008826\u001b[0m |\n"
     ]
    },
    {
     "name": "stderr",
     "output_type": "stream",
     "text": [
      "  0%|          | 0/381 [00:00<?, ?it/s]c:\\Users\\Blake\\anaconda3\\Lib\\site-packages\\tqdm\\std.py:1178: FutureWarning: In a future version of pandas, a length 1 tuple will be returned when iterating over a groupby with a grouper equal to a list of length 1. Don't supply a list with a single grouper to avoid this warning.\n",
      "  for obj in iterable:\n",
      "100%|██████████| 381/381 [00:02<00:00, 179.40it/s]\n"
     ]
    },
    {
     "name": "stdout",
     "output_type": "stream",
     "text": [
      "| \u001b[0m21       \u001b[0m | \u001b[0m-203.3   \u001b[0m | \u001b[0m535.6    \u001b[0m | \u001b[0m0.002973 \u001b[0m |\n"
     ]
    },
    {
     "name": "stderr",
     "output_type": "stream",
     "text": [
      "  0%|          | 0/381 [00:00<?, ?it/s]c:\\Users\\Blake\\anaconda3\\Lib\\site-packages\\tqdm\\std.py:1178: FutureWarning: In a future version of pandas, a length 1 tuple will be returned when iterating over a groupby with a grouper equal to a list of length 1. Don't supply a list with a single grouper to avoid this warning.\n",
      "  for obj in iterable:\n",
      "100%|██████████| 381/381 [00:02<00:00, 185.18it/s]\n"
     ]
    },
    {
     "name": "stdout",
     "output_type": "stream",
     "text": [
      "| \u001b[0m22       \u001b[0m | \u001b[0m-203.3   \u001b[0m | \u001b[0m383.2    \u001b[0m | \u001b[0m0.002539 \u001b[0m |\n"
     ]
    },
    {
     "name": "stderr",
     "output_type": "stream",
     "text": [
      "  0%|          | 0/381 [00:00<?, ?it/s]c:\\Users\\Blake\\anaconda3\\Lib\\site-packages\\tqdm\\std.py:1178: FutureWarning: In a future version of pandas, a length 1 tuple will be returned when iterating over a groupby with a grouper equal to a list of length 1. Don't supply a list with a single grouper to avoid this warning.\n",
      "  for obj in iterable:\n",
      "100%|██████████| 381/381 [00:02<00:00, 180.29it/s]\n"
     ]
    },
    {
     "name": "stdout",
     "output_type": "stream",
     "text": [
      "| \u001b[0m23       \u001b[0m | \u001b[0m-203.3   \u001b[0m | \u001b[0m174.0    \u001b[0m | \u001b[0m9.85e-05 \u001b[0m |\n"
     ]
    },
    {
     "name": "stderr",
     "output_type": "stream",
     "text": [
      "  0%|          | 0/381 [00:00<?, ?it/s]c:\\Users\\Blake\\anaconda3\\Lib\\site-packages\\tqdm\\std.py:1178: FutureWarning: In a future version of pandas, a length 1 tuple will be returned when iterating over a groupby with a grouper equal to a list of length 1. Don't supply a list with a single grouper to avoid this warning.\n",
      "  for obj in iterable:\n",
      "100%|██████████| 381/381 [00:02<00:00, 182.91it/s]\n"
     ]
    },
    {
     "name": "stdout",
     "output_type": "stream",
     "text": [
      "| \u001b[0m24       \u001b[0m | \u001b[0m-203.3   \u001b[0m | \u001b[0m119.9    \u001b[0m | \u001b[0m0.001862 \u001b[0m |\n"
     ]
    },
    {
     "name": "stderr",
     "output_type": "stream",
     "text": [
      "  0%|          | 0/381 [00:00<?, ?it/s]c:\\Users\\Blake\\anaconda3\\Lib\\site-packages\\tqdm\\std.py:1178: FutureWarning: In a future version of pandas, a length 1 tuple will be returned when iterating over a groupby with a grouper equal to a list of length 1. Don't supply a list with a single grouper to avoid this warning.\n",
      "  for obj in iterable:\n",
      "100%|██████████| 381/381 [00:02<00:00, 179.79it/s]\n"
     ]
    },
    {
     "name": "stdout",
     "output_type": "stream",
     "text": [
      "| \u001b[0m25       \u001b[0m | \u001b[0m-203.3   \u001b[0m | \u001b[0m733.3    \u001b[0m | \u001b[0m0.0027   \u001b[0m |\n"
     ]
    },
    {
     "name": "stderr",
     "output_type": "stream",
     "text": [
      "  0%|          | 0/381 [00:00<?, ?it/s]c:\\Users\\Blake\\anaconda3\\Lib\\site-packages\\tqdm\\std.py:1178: FutureWarning: In a future version of pandas, a length 1 tuple will be returned when iterating over a groupby with a grouper equal to a list of length 1. Don't supply a list with a single grouper to avoid this warning.\n",
      "  for obj in iterable:\n",
      "100%|██████████| 381/381 [00:02<00:00, 181.65it/s]\n"
     ]
    },
    {
     "name": "stdout",
     "output_type": "stream",
     "text": [
      "| \u001b[0m26       \u001b[0m | \u001b[0m-203.3   \u001b[0m | \u001b[0m393.0    \u001b[0m | \u001b[0m0.00318  \u001b[0m |\n"
     ]
    },
    {
     "name": "stderr",
     "output_type": "stream",
     "text": [
      "  0%|          | 0/381 [00:00<?, ?it/s]c:\\Users\\Blake\\anaconda3\\Lib\\site-packages\\tqdm\\std.py:1178: FutureWarning: In a future version of pandas, a length 1 tuple will be returned when iterating over a groupby with a grouper equal to a list of length 1. Don't supply a list with a single grouper to avoid this warning.\n",
      "  for obj in iterable:\n",
      "100%|██████████| 381/381 [00:02<00:00, 186.27it/s]\n"
     ]
    },
    {
     "name": "stdout",
     "output_type": "stream",
     "text": [
      "| \u001b[0m27       \u001b[0m | \u001b[0m-203.3   \u001b[0m | \u001b[0m174.8    \u001b[0m | \u001b[0m0.001321 \u001b[0m |\n"
     ]
    },
    {
     "name": "stderr",
     "output_type": "stream",
     "text": [
      "  0%|          | 0/381 [00:00<?, ?it/s]c:\\Users\\Blake\\anaconda3\\Lib\\site-packages\\tqdm\\std.py:1178: FutureWarning: In a future version of pandas, a length 1 tuple will be returned when iterating over a groupby with a grouper equal to a list of length 1. Don't supply a list with a single grouper to avoid this warning.\n",
      "  for obj in iterable:\n",
      "100%|██████████| 381/381 [00:02<00:00, 180.04it/s]\n"
     ]
    },
    {
     "name": "stdout",
     "output_type": "stream",
     "text": [
      "| \u001b[0m28       \u001b[0m | \u001b[0m-203.3   \u001b[0m | \u001b[0m515.7    \u001b[0m | \u001b[0m0.003166 \u001b[0m |\n"
     ]
    },
    {
     "name": "stderr",
     "output_type": "stream",
     "text": [
      "  0%|          | 0/381 [00:00<?, ?it/s]c:\\Users\\Blake\\anaconda3\\Lib\\site-packages\\tqdm\\std.py:1178: FutureWarning: In a future version of pandas, a length 1 tuple will be returned when iterating over a groupby with a grouper equal to a list of length 1. Don't supply a list with a single grouper to avoid this warning.\n",
      "  for obj in iterable:\n",
      "100%|██████████| 381/381 [00:02<00:00, 180.94it/s]\n"
     ]
    },
    {
     "name": "stdout",
     "output_type": "stream",
     "text": [
      "| \u001b[0m29       \u001b[0m | \u001b[0m-203.3   \u001b[0m | \u001b[0m323.8    \u001b[0m | \u001b[0m4.43e-05 \u001b[0m |\n"
     ]
    },
    {
     "name": "stderr",
     "output_type": "stream",
     "text": [
      "  0%|          | 0/381 [00:00<?, ?it/s]c:\\Users\\Blake\\anaconda3\\Lib\\site-packages\\tqdm\\std.py:1178: FutureWarning: In a future version of pandas, a length 1 tuple will be returned when iterating over a groupby with a grouper equal to a list of length 1. Don't supply a list with a single grouper to avoid this warning.\n",
      "  for obj in iterable:\n",
      "100%|██████████| 381/381 [00:02<00:00, 180.17it/s]\n"
     ]
    },
    {
     "name": "stdout",
     "output_type": "stream",
     "text": [
      "| \u001b[95m30       \u001b[0m | \u001b[95m-203.3   \u001b[0m | \u001b[95m39.79    \u001b[0m | \u001b[95m0.00376  \u001b[0m |\n"
     ]
    },
    {
     "name": "stderr",
     "output_type": "stream",
     "text": [
      "  0%|          | 0/381 [00:00<?, ?it/s]c:\\Users\\Blake\\anaconda3\\Lib\\site-packages\\tqdm\\std.py:1178: FutureWarning: In a future version of pandas, a length 1 tuple will be returned when iterating over a groupby with a grouper equal to a list of length 1. Don't supply a list with a single grouper to avoid this warning.\n",
      "  for obj in iterable:\n",
      "100%|██████████| 381/381 [00:02<00:00, 182.03it/s]\n"
     ]
    },
    {
     "name": "stdout",
     "output_type": "stream",
     "text": [
      "| \u001b[0m31       \u001b[0m | \u001b[0m-203.3   \u001b[0m | \u001b[0m441.1    \u001b[0m | \u001b[0m0.0004987\u001b[0m |\n"
     ]
    },
    {
     "name": "stderr",
     "output_type": "stream",
     "text": [
      "  0%|          | 0/381 [00:00<?, ?it/s]c:\\Users\\Blake\\anaconda3\\Lib\\site-packages\\tqdm\\std.py:1178: FutureWarning: In a future version of pandas, a length 1 tuple will be returned when iterating over a groupby with a grouper equal to a list of length 1. Don't supply a list with a single grouper to avoid this warning.\n",
      "  for obj in iterable:\n",
      "100%|██████████| 381/381 [00:02<00:00, 182.76it/s]\n"
     ]
    },
    {
     "name": "stdout",
     "output_type": "stream",
     "text": [
      "| \u001b[0m32       \u001b[0m | \u001b[0m-203.3   \u001b[0m | \u001b[0m349.1    \u001b[0m | \u001b[0m0.00115  \u001b[0m |\n"
     ]
    },
    {
     "name": "stderr",
     "output_type": "stream",
     "text": [
      "  0%|          | 0/381 [00:00<?, ?it/s]c:\\Users\\Blake\\anaconda3\\Lib\\site-packages\\tqdm\\std.py:1178: FutureWarning: In a future version of pandas, a length 1 tuple will be returned when iterating over a groupby with a grouper equal to a list of length 1. Don't supply a list with a single grouper to avoid this warning.\n",
      "  for obj in iterable:\n",
      "100%|██████████| 381/381 [00:02<00:00, 178.34it/s]\n"
     ]
    },
    {
     "name": "stdout",
     "output_type": "stream",
     "text": [
      "| \u001b[0m33       \u001b[0m | \u001b[0m-203.3   \u001b[0m | \u001b[0m756.3    \u001b[0m | \u001b[0m0.001696 \u001b[0m |\n"
     ]
    },
    {
     "name": "stderr",
     "output_type": "stream",
     "text": [
      "  0%|          | 0/381 [00:00<?, ?it/s]c:\\Users\\Blake\\anaconda3\\Lib\\site-packages\\tqdm\\std.py:1178: FutureWarning: In a future version of pandas, a length 1 tuple will be returned when iterating over a groupby with a grouper equal to a list of length 1. Don't supply a list with a single grouper to avoid this warning.\n",
      "  for obj in iterable:\n",
      "100%|██████████| 381/381 [00:02<00:00, 179.84it/s]\n"
     ]
    },
    {
     "name": "stdout",
     "output_type": "stream",
     "text": [
      "| \u001b[0m34       \u001b[0m | \u001b[0m-203.3   \u001b[0m | \u001b[0m189.9    \u001b[0m | \u001b[0m0.002822 \u001b[0m |\n"
     ]
    },
    {
     "name": "stderr",
     "output_type": "stream",
     "text": [
      "  0%|          | 0/381 [00:00<?, ?it/s]c:\\Users\\Blake\\anaconda3\\Lib\\site-packages\\tqdm\\std.py:1178: FutureWarning: In a future version of pandas, a length 1 tuple will be returned when iterating over a groupby with a grouper equal to a list of length 1. Don't supply a list with a single grouper to avoid this warning.\n",
      "  for obj in iterable:\n",
      "100%|██████████| 381/381 [00:02<00:00, 182.83it/s]\n"
     ]
    },
    {
     "name": "stdout",
     "output_type": "stream",
     "text": [
      "| \u001b[0m35       \u001b[0m | \u001b[0m-203.3   \u001b[0m | \u001b[0m564.7    \u001b[0m | \u001b[0m0.00372  \u001b[0m |\n"
     ]
    },
    {
     "name": "stderr",
     "output_type": "stream",
     "text": [
      "  0%|          | 0/381 [00:00<?, ?it/s]c:\\Users\\Blake\\anaconda3\\Lib\\site-packages\\tqdm\\std.py:1178: FutureWarning: In a future version of pandas, a length 1 tuple will be returned when iterating over a groupby with a grouper equal to a list of length 1. Don't supply a list with a single grouper to avoid this warning.\n",
      "  for obj in iterable:\n",
      "100%|██████████| 381/381 [00:02<00:00, 179.36it/s]\n"
     ]
    },
    {
     "name": "stdout",
     "output_type": "stream",
     "text": [
      "| \u001b[0m36       \u001b[0m | \u001b[0m-203.3   \u001b[0m | \u001b[0m411.6    \u001b[0m | \u001b[0m0.001084 \u001b[0m |\n"
     ]
    },
    {
     "name": "stderr",
     "output_type": "stream",
     "text": [
      "  0%|          | 0/381 [00:00<?, ?it/s]c:\\Users\\Blake\\anaconda3\\Lib\\site-packages\\tqdm\\std.py:1178: FutureWarning: In a future version of pandas, a length 1 tuple will be returned when iterating over a groupby with a grouper equal to a list of length 1. Don't supply a list with a single grouper to avoid this warning.\n",
      "  for obj in iterable:\n",
      "100%|██████████| 381/381 [00:02<00:00, 181.98it/s]\n"
     ]
    },
    {
     "name": "stdout",
     "output_type": "stream",
     "text": [
      "| \u001b[0m37       \u001b[0m | \u001b[0m-203.3   \u001b[0m | \u001b[0m741.3    \u001b[0m | \u001b[0m0.00213  \u001b[0m |\n"
     ]
    },
    {
     "name": "stderr",
     "output_type": "stream",
     "text": [
      "  0%|          | 0/381 [00:00<?, ?it/s]c:\\Users\\Blake\\anaconda3\\Lib\\site-packages\\tqdm\\std.py:1178: FutureWarning: In a future version of pandas, a length 1 tuple will be returned when iterating over a groupby with a grouper equal to a list of length 1. Don't supply a list with a single grouper to avoid this warning.\n",
      "  for obj in iterable:\n",
      "100%|██████████| 381/381 [00:02<00:00, 182.69it/s]\n"
     ]
    },
    {
     "name": "stdout",
     "output_type": "stream",
     "text": [
      "| \u001b[95m38       \u001b[0m | \u001b[95m-203.3   \u001b[0m | \u001b[95m193.1    \u001b[0m | \u001b[95m0.003845 \u001b[0m |\n"
     ]
    },
    {
     "name": "stderr",
     "output_type": "stream",
     "text": [
      "  0%|          | 0/381 [00:00<?, ?it/s]c:\\Users\\Blake\\anaconda3\\Lib\\site-packages\\tqdm\\std.py:1178: FutureWarning: In a future version of pandas, a length 1 tuple will be returned when iterating over a groupby with a grouper equal to a list of length 1. Don't supply a list with a single grouper to avoid this warning.\n",
      "  for obj in iterable:\n",
      "100%|██████████| 381/381 [00:02<00:00, 187.13it/s]\n"
     ]
    },
    {
     "name": "stdout",
     "output_type": "stream",
     "text": [
      "| \u001b[0m39       \u001b[0m | \u001b[0m-203.3   \u001b[0m | \u001b[0m419.4    \u001b[0m | \u001b[0m1.931e-05\u001b[0m |\n"
     ]
    },
    {
     "name": "stderr",
     "output_type": "stream",
     "text": [
      "  0%|          | 0/381 [00:00<?, ?it/s]c:\\Users\\Blake\\anaconda3\\Lib\\site-packages\\tqdm\\std.py:1178: FutureWarning: In a future version of pandas, a length 1 tuple will be returned when iterating over a groupby with a grouper equal to a list of length 1. Don't supply a list with a single grouper to avoid this warning.\n",
      "  for obj in iterable:\n",
      "100%|██████████| 381/381 [00:02<00:00, 182.98it/s]"
     ]
    },
    {
     "name": "stdout",
     "output_type": "stream",
     "text": [
      "| \u001b[0m40       \u001b[0m | \u001b[0m-203.3   \u001b[0m | \u001b[0m111.5    \u001b[0m | \u001b[0m0.0002208\u001b[0m |\n",
      "=================================================\n",
      "{'halflife': 193.13398635562825, 'l2': 0.0038445287245576797}\n"
     ]
    },
    {
     "name": "stderr",
     "output_type": "stream",
     "text": [
      "\n"
     ]
    }
   ],
   "source": [
    "\n",
    "halflife, l2, mse = PO.run_time_opt(init_points=10, n_iter=30, num_test_dates=60, halflife_bounds=(10, 800), l2_bounds=(1e-9, 1.5/sample_data.team_name.nunique()))\n"
   ]
  },
  {
   "cell_type": "code",
   "execution_count": 45,
   "metadata": {},
   "outputs": [
    {
     "name": "stderr",
     "output_type": "stream",
     "text": [
      "  0%|          | 0/381 [00:00<?, ?it/s]c:\\Users\\Blake\\anaconda3\\Lib\\site-packages\\tqdm\\std.py:1178: FutureWarning: In a future version of pandas, a length 1 tuple will be returned when iterating over a groupby with a grouper equal to a list of length 1. Don't supply a list with a single grouper to avoid this warning.\n",
      "  for obj in iterable:\n",
      "100%|██████████| 381/381 [00:02<00:00, 151.19it/s]\n"
     ]
    }
   ],
   "source": [
    "\n",
    "\n",
    "\n",
    "rtgs_history = PO.get_ratings_for_dates(sample_data.date.unique()[-100:], l2=l2, halflife=halflife, stat_type='diff', return_entropy=False)\n",
    "\n"
   ]
  },
  {
   "cell_type": "code",
   "execution_count": 46,
   "metadata": {},
   "outputs": [
    {
     "data": {
      "text/html": [
       "<div>\n",
       "<style scoped>\n",
       "    .dataframe tbody tr th:only-of-type {\n",
       "        vertical-align: middle;\n",
       "    }\n",
       "\n",
       "    .dataframe tbody tr th {\n",
       "        vertical-align: top;\n",
       "    }\n",
       "\n",
       "    .dataframe thead th {\n",
       "        text-align: right;\n",
       "    }\n",
       "</style>\n",
       "<table border=\"1\" class=\"dataframe\">\n",
       "  <thead>\n",
       "    <tr style=\"text-align: right;\">\n",
       "      <th></th>\n",
       "      <th>team_name</th>\n",
       "      <th>rating</th>\n",
       "    </tr>\n",
       "  </thead>\n",
       "  <tbody>\n",
       "    <tr>\n",
       "      <th>104</th>\n",
       "      <td>Gonzaga</td>\n",
       "      <td>0.008139</td>\n",
       "    </tr>\n",
       "    <tr>\n",
       "      <th>114</th>\n",
       "      <td>Houston</td>\n",
       "      <td>0.007393</td>\n",
       "    </tr>\n",
       "    <tr>\n",
       "      <th>9</th>\n",
       "      <td>Arizona</td>\n",
       "      <td>0.006288</td>\n",
       "    </tr>\n",
       "    <tr>\n",
       "      <th>75</th>\n",
       "      <td>Duke</td>\n",
       "      <td>0.005932</td>\n",
       "    </tr>\n",
       "    <tr>\n",
       "      <th>332</th>\n",
       "      <td>Vermont</td>\n",
       "      <td>0.005695</td>\n",
       "    </tr>\n",
       "    <tr>\n",
       "      <th>127</th>\n",
       "      <td>Iowa</td>\n",
       "      <td>0.005508</td>\n",
       "    </tr>\n",
       "    <tr>\n",
       "      <th>20</th>\n",
       "      <td>Baylor</td>\n",
       "      <td>0.005326</td>\n",
       "    </tr>\n",
       "    <tr>\n",
       "      <th>299</th>\n",
       "      <td>Texas Tech</td>\n",
       "      <td>0.005186</td>\n",
       "    </tr>\n",
       "    <tr>\n",
       "      <th>133</th>\n",
       "      <td>Kansas</td>\n",
       "      <td>0.005067</td>\n",
       "    </tr>\n",
       "    <tr>\n",
       "      <th>57</th>\n",
       "      <td>Colgate</td>\n",
       "      <td>0.005011</td>\n",
       "    </tr>\n",
       "    <tr>\n",
       "      <th>137</th>\n",
       "      <td>Kentucky</td>\n",
       "      <td>0.004800</td>\n",
       "    </tr>\n",
       "    <tr>\n",
       "      <th>305</th>\n",
       "      <td>UAB</td>\n",
       "      <td>0.004783</td>\n",
       "    </tr>\n",
       "    <tr>\n",
       "      <th>153</th>\n",
       "      <td>Loyola-Chicago</td>\n",
       "      <td>0.004692</td>\n",
       "    </tr>\n",
       "    <tr>\n",
       "      <th>333</th>\n",
       "      <td>Villanova</td>\n",
       "      <td>0.004627</td>\n",
       "    </tr>\n",
       "    <tr>\n",
       "      <th>185</th>\n",
       "      <td>Murray St</td>\n",
       "      <td>0.004544</td>\n",
       "    </tr>\n",
       "    <tr>\n",
       "      <th>22</th>\n",
       "      <td>Belmont</td>\n",
       "      <td>0.004513</td>\n",
       "    </tr>\n",
       "    <tr>\n",
       "      <th>293</th>\n",
       "      <td>Tennessee</td>\n",
       "      <td>0.004464</td>\n",
       "    </tr>\n",
       "    <tr>\n",
       "      <th>312</th>\n",
       "      <td>UCLA</td>\n",
       "      <td>0.004380</td>\n",
       "    </tr>\n",
       "    <tr>\n",
       "      <th>16</th>\n",
       "      <td>Auburn</td>\n",
       "      <td>0.004325</td>\n",
       "    </tr>\n",
       "    <tr>\n",
       "      <th>300</th>\n",
       "      <td>Toledo</td>\n",
       "      <td>0.004282</td>\n",
       "    </tr>\n",
       "    <tr>\n",
       "      <th>247</th>\n",
       "      <td>S Dakota St</td>\n",
       "      <td>0.004238</td>\n",
       "    </tr>\n",
       "    <tr>\n",
       "      <th>237</th>\n",
       "      <td>Purdue</td>\n",
       "      <td>0.004109</td>\n",
       "    </tr>\n",
       "    <tr>\n",
       "      <th>67</th>\n",
       "      <td>Dayton</td>\n",
       "      <td>0.004014</td>\n",
       "    </tr>\n",
       "    <tr>\n",
       "      <th>95</th>\n",
       "      <td>Furman</td>\n",
       "      <td>0.004002</td>\n",
       "    </tr>\n",
       "    <tr>\n",
       "      <th>13</th>\n",
       "      <td>Arkansas</td>\n",
       "      <td>0.003875</td>\n",
       "    </tr>\n",
       "  </tbody>\n",
       "</table>\n",
       "</div>"
      ],
      "text/plain": [
       "          team_name    rating\n",
       "104         Gonzaga  0.008139\n",
       "114         Houston  0.007393\n",
       "9           Arizona  0.006288\n",
       "75             Duke  0.005932\n",
       "332         Vermont  0.005695\n",
       "127            Iowa  0.005508\n",
       "20           Baylor  0.005326\n",
       "299      Texas Tech  0.005186\n",
       "133          Kansas  0.005067\n",
       "57          Colgate  0.005011\n",
       "137        Kentucky  0.004800\n",
       "305             UAB  0.004783\n",
       "153  Loyola-Chicago  0.004692\n",
       "333       Villanova  0.004627\n",
       "185       Murray St  0.004544\n",
       "22          Belmont  0.004513\n",
       "293       Tennessee  0.004464\n",
       "312            UCLA  0.004380\n",
       "16           Auburn  0.004325\n",
       "300          Toledo  0.004282\n",
       "247     S Dakota St  0.004238\n",
       "237          Purdue  0.004109\n",
       "67           Dayton  0.004014\n",
       "95           Furman  0.004002\n",
       "13         Arkansas  0.003875"
      ]
     },
     "execution_count": 46,
     "metadata": {},
     "output_type": "execute_result"
    }
   ],
   "source": [
    "test_ratings = rtgs_history.groupby(['team_name'])[['rating']].last().copy().reset_index()\n",
    "test_ratings.sort_values(by=['rating'], ascending=False).head(25)"
   ]
  },
  {
   "cell_type": "code",
   "execution_count": null,
   "metadata": {},
   "outputs": [],
   "source": []
  },
  {
   "cell_type": "code",
   "execution_count": null,
   "metadata": {},
   "outputs": [],
   "source": []
  },
  {
   "cell_type": "code",
   "execution_count": null,
   "metadata": {},
   "outputs": [],
   "source": []
  },
  {
   "cell_type": "code",
   "execution_count": null,
   "metadata": {},
   "outputs": [],
   "source": []
  }
 ],
 "metadata": {
  "kernelspec": {
   "display_name": "base",
   "language": "python",
   "name": "python3"
  },
  "language_info": {
   "codemirror_mode": {
    "name": "ipython",
    "version": 3
   },
   "file_extension": ".py",
   "mimetype": "text/x-python",
   "name": "python",
   "nbconvert_exporter": "python",
   "pygments_lexer": "ipython3",
   "version": "3.11.4"
  }
 },
 "nbformat": 4,
 "nbformat_minor": 2
}
