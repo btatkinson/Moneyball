{
 "cells": [
  {
   "cell_type": "code",
   "execution_count": 11,
   "metadata": {},
   "outputs": [
    {
     "data": {
      "text/plain": [
       "0"
      ]
     },
     "execution_count": 11,
     "metadata": {},
     "output_type": "execute_result"
    }
   ],
   "source": [
    "import gc\n",
    "import os\n",
    "import numpy as np\n",
    "import pandas as pd\n",
    "\n",
    "from tqdm import tqdm\n",
    "from bayes_opt import BayesianOptimization\n",
    "\n",
    "gc.collect()"
   ]
  },
  {
   "cell_type": "code",
   "execution_count": 12,
   "metadata": {},
   "outputs": [],
   "source": [
    "\n",
    "DATA_PATH = '../data/testing/ncaam_sample_data.csv'\n",
    "def load_data(data_path):\n",
    "    m_data = pd.read_csv(data_path)\n",
    "    m_data['date'] = pd.to_datetime(m_data['date'])\n",
    "    m_data = m_data.sort_values(by=['date', 'team_name']).reset_index(drop=True)\n",
    "\n",
    "    m_data['team_fgm2'] = m_data['team_fgm'] - m_data['team_fgm3']\n",
    "    m_data['team_fga2'] = m_data['team_fga'] - m_data['team_fga3']\n",
    "    m_data['opp_fgm2'] = m_data['opp_fgm'] - m_data['opp_fgm3']\n",
    "    m_data['opp_fga2'] = m_data['opp_fga'] - m_data['opp_fga3']\n",
    "    return m_data\n",
    "\n",
    "\n",
    "sample = load_data(DATA_PATH)"
   ]
  },
  {
   "cell_type": "code",
   "execution_count": 13,
   "metadata": {},
   "outputs": [],
   "source": [
    "sample['fgm2_diff'] = sample['team_fgm2'] - sample['opp_fgm2']\n",
    "sample['fgm3_diff'] = sample['team_fgm3'] - sample['opp_fgm3']\n",
    "sample['ftm_diff'] = sample['team_ftm'] - sample['opp_ftm']\n",
    "sample['or_diff'] = sample['team_or'] - sample['opp_or']\n",
    "sample['dr_diff'] = sample['team_dr'] - sample['opp_dr']\n",
    "sample['ast_diff'] = sample['team_ast'] - sample['opp_ast']\n",
    "sample['to_diff'] = sample['team_to'] - sample['opp_to']\n",
    "sample['stl_diff'] = sample['team_stl'] - sample['opp_stl']\n",
    "sample['blk_diff'] = sample['team_blk'] - sample['opp_blk']\n",
    "sample['pf_diff'] = sample['team_pf'] - sample['opp_pf']"
   ]
  },
  {
   "cell_type": "code",
   "execution_count": 14,
   "metadata": {},
   "outputs": [],
   "source": [
    "import torch\n",
    "import torch.nn as nn\n",
    "\n",
    "class FlexibleKAN(nn.Module):\n",
    "    def __init__(self, input_dim, output_dim, num_functions):\n",
    "        super(FlexibleKAN, self).__init__()\n",
    "        self.input_dim = input_dim\n",
    "        self.output_dim = output_dim\n",
    "        self.num_functions = num_functions\n",
    "        \n",
    "        # Create univariate functions\n",
    "        self.univariate_functions = nn.ModuleList([\n",
    "            nn.Sequential(\n",
    "                nn.Linear(1, 10),\n",
    "                nn.ReLU(),\n",
    "                nn.Linear(10, 1)\n",
    "            ) for _ in range(num_functions)\n",
    "        ])\n",
    "        \n",
    "        # Final layer to combine outputs\n",
    "        self.final_layer = nn.Linear(num_functions, output_dim)\n",
    "    \n",
    "    def forward(self, x):\n",
    "        # Apply univariate functions\n",
    "        univariate_outputs = torch.stack([f(x[:, i].unsqueeze(1)) for i, f in enumerate(self.univariate_functions)], dim=1)\n",
    "        \n",
    "        # Combine outputs\n",
    "        output = self.final_layer(univariate_outputs.squeeze(-1))\n",
    "        \n",
    "        return output\n",
    "\n",
    "def prediction_KAN(team_embed, opponent_embed, is_home, num_functions, num_stats):\n",
    "    \n",
    "    # Combine inputs\n",
    "    x = torch.cat([team_embed, opponent_embed, is_home], dim=1)\n",
    "    \n",
    "    # Create and apply KAN\n",
    "    input_dim = x.size(1)\n",
    "    kan = FlexibleKAN(input_dim, num_stats, num_functions)\n",
    "    \n",
    "    return kan(x)\n",
    "\n",
    "def update_KAN(actual_diff, predicted_diff, num_functions, embed_dim):\n",
    "    # Combine inputs\n",
    "    x = torch.cat([actual_diff, predicted_diff], dim=1)\n",
    "    \n",
    "    # Create and apply KAN\n",
    "    input_dim = x.size(1)\n",
    "    kan = FlexibleKAN(input_dim, embed_dim, num_functions)\n",
    "    \n",
    "    return kan(x)"
   ]
  },
  {
   "cell_type": "code",
   "execution_count": 15,
   "metadata": {},
   "outputs": [
    {
     "name": "stdout",
     "output_type": "stream",
     "text": [
      "torch.Size([1, 4]) torch.Size([1, 4]) torch.Size([1, 1])\n"
     ]
    }
   ],
   "source": [
    "# Example usage\n",
    "team_embed_dim = 4\n",
    "num_stats = 10\n",
    "team_embed = torch.randn(1, team_embed_dim)\n",
    "opponent_embed = torch.randn(1, team_embed_dim)\n",
    "is_home = torch.tensor([[1.0]])\n",
    "num_pred_functions = 6\n",
    "print(team_embed.shape, opponent_embed.shape, is_home.shape)\n",
    "predicted_diff = prediction_KAN(team_embed, opponent_embed, is_home, num_pred_functions, num_stats)\n",
    "\n",
    "# For update KAN\n",
    "actual_diff = torch.randn(1, num_stats)\n",
    "predicted_diff = torch.randn(1, num_stats)\n",
    "num_update_functions = 4\n",
    "\n",
    "update_vector = update_KAN(actual_diff, predicted_diff, num_update_functions, team_embed_dim)"
   ]
  },
  {
   "cell_type": "code",
   "execution_count": 18,
   "metadata": {},
   "outputs": [
    {
     "data": {
      "text/plain": [
       "['season',\n",
       " 'team_score',\n",
       " 'opp_score',\n",
       " 'is_home',\n",
       " 'numot',\n",
       " 'team_fgm',\n",
       " 'team_fga',\n",
       " 'team_fgm3',\n",
       " 'team_fga3',\n",
       " 'team_ftm',\n",
       " 'team_fta',\n",
       " 'team_or',\n",
       " 'team_dr',\n",
       " 'team_ast',\n",
       " 'team_to',\n",
       " 'team_stl',\n",
       " 'team_blk',\n",
       " 'team_pf',\n",
       " 'opp_fgm',\n",
       " 'opp_fga',\n",
       " 'opp_fgm3',\n",
       " 'opp_fga3',\n",
       " 'opp_ftm',\n",
       " 'opp_fta',\n",
       " 'opp_or',\n",
       " 'opp_dr',\n",
       " 'opp_ast',\n",
       " 'opp_to',\n",
       " 'opp_stl',\n",
       " 'opp_blk',\n",
       " 'opp_pf',\n",
       " 'team_name',\n",
       " 'opp_name',\n",
       " 'date',\n",
       " 'team_fgm2',\n",
       " 'team_fga2',\n",
       " 'opp_fgm2',\n",
       " 'opp_fga2',\n",
       " 'fgm2_diff',\n",
       " 'fgm3_diff',\n",
       " 'ftm_diff',\n",
       " 'or_diff',\n",
       " 'dr_diff',\n",
       " 'ast_diff',\n",
       " 'to_diff',\n",
       " 'stl_diff',\n",
       " 'blk_diff',\n",
       " 'pf_diff']"
      ]
     },
     "execution_count": 18,
     "metadata": {},
     "output_type": "execute_result"
    }
   ],
   "source": [
    "list(sample)"
   ]
  },
  {
   "cell_type": "code",
   "execution_count": 23,
   "metadata": {},
   "outputs": [],
   "source": [
    "learning_rate = 0.01\n",
    "end_season = 2019\n",
    "\n",
    "# Initialize team embeddings\n",
    "teams = sample['team_name'].unique()\n",
    "team_embeddings = {team: torch.zeros(team_embed_dim) for team in teams}\n",
    "\n"
   ]
  },
  {
   "cell_type": "code",
   "execution_count": 20,
   "metadata": {},
   "outputs": [],
   "source": [
    "  "
   ]
  },
  {
   "cell_type": "code",
   "execution_count": null,
   "metadata": {},
   "outputs": [],
   "source": []
  }
 ],
 "metadata": {
  "kernelspec": {
   "display_name": "base",
   "language": "python",
   "name": "python3"
  },
  "language_info": {
   "codemirror_mode": {
    "name": "ipython",
    "version": 3
   },
   "file_extension": ".py",
   "mimetype": "text/x-python",
   "name": "python",
   "nbconvert_exporter": "python",
   "pygments_lexer": "ipython3",
   "version": "3.11.4"
  }
 },
 "nbformat": 4,
 "nbformat_minor": 2
}
