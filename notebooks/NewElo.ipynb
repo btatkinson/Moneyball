{
 "cells": [
  {
   "cell_type": "code",
   "execution_count": 16,
   "metadata": {},
   "outputs": [],
   "source": [
    "\n",
    "\n",
    "import os\n",
    "# import torch\n",
    "import numpy as np\n",
    "import pandas as pd\n",
    "\n",
    "from tqdm import tqdm\n",
    "# from scipy import sparse\n",
    "# from datetime import datetime\n",
    "# from scipy.linalg import solve\n",
    "# from scipy.optimize import minimize\n",
    "# from scipy.sparse.linalg import spsolve\n",
    "from bayes_opt import BayesianOptimization\n",
    "from sklearn.preprocessing import MinMaxScaler\n",
    "# from sklearn.linear_model import LinearRegression\n",
    "# from sklearn.model_selection import cross_val_predict\n",
    "\n"
   ]
  },
  {
   "cell_type": "code",
   "execution_count": 3,
   "metadata": {},
   "outputs": [],
   "source": [
    "\n",
    "\n",
    "DATA_PATH = '../data/testing/ncaam_sample_data.csv'\n",
    "def load_data(data_path):\n",
    "    return pd.read_csv(data_path)\n",
    "\n",
    "m_data = load_data(DATA_PATH)\n",
    "scaler = MinMaxScaler()\n",
    "m_data['team_score']= m_data['team_score'].clip(36, 120)\n",
    "m_data['continuous_target'] = scaler.fit_transform(m_data['team_score'].values.reshape(-1, 1))\n",
    "m_data['continuous_target_2'] = m_data['team_fgm'].copy()/m_data['team_fga'].copy()\n",
    "m_data['date'] = pd.to_datetime(m_data['date'])\n",
    "m_data = m_data.sort_values(by=['date', 'team_name']).reset_index(drop=True)\n",
    "\n"
   ]
  },
  {
   "cell_type": "code",
   "execution_count": 31,
   "metadata": {},
   "outputs": [
    {
     "name": "stderr",
     "output_type": "stream",
     "text": [
      "100%|██████████| 2674/2674 [00:00<00:00, 2883.08it/s]\n"
     ]
    },
    {
     "data": {
      "text/html": [
       "<div>\n",
       "<style scoped>\n",
       "    .dataframe tbody tr th:only-of-type {\n",
       "        vertical-align: middle;\n",
       "    }\n",
       "\n",
       "    .dataframe tbody tr th {\n",
       "        vertical-align: top;\n",
       "    }\n",
       "\n",
       "    .dataframe thead th {\n",
       "        text-align: right;\n",
       "    }\n",
       "</style>\n",
       "<table border=\"1\" class=\"dataframe\">\n",
       "  <thead>\n",
       "    <tr style=\"text-align: right;\">\n",
       "      <th></th>\n",
       "      <th>date</th>\n",
       "      <th>protag</th>\n",
       "      <th>antag</th>\n",
       "      <th>stat</th>\n",
       "      <th>protag_rating</th>\n",
       "      <th>antag_rating</th>\n",
       "      <th>protag_win_prob</th>\n",
       "      <th>antag_win_prob</th>\n",
       "      <th>protag_update</th>\n",
       "      <th>antag_update</th>\n",
       "      <th>protag_result</th>\n",
       "      <th>antag_result</th>\n",
       "      <th>protag_postgame_rating</th>\n",
       "      <th>antag_postgame_rating</th>\n",
       "    </tr>\n",
       "  </thead>\n",
       "  <tbody>\n",
       "    <tr>\n",
       "      <th>0</th>\n",
       "      <td>2002-11-14</td>\n",
       "      <td>Alabama</td>\n",
       "      <td>Oklahoma</td>\n",
       "      <td>continuous_target</td>\n",
       "      <td>1500.000000</td>\n",
       "      <td>1500.000000</td>\n",
       "      <td>0.500000</td>\n",
       "      <td>0.500000</td>\n",
       "      <td>-5.357143</td>\n",
       "      <td>5.357143</td>\n",
       "      <td>0.380952</td>\n",
       "      <td>0.619048</td>\n",
       "      <td>1494.642857</td>\n",
       "      <td>1505.357143</td>\n",
       "    </tr>\n",
       "    <tr>\n",
       "      <th>1</th>\n",
       "      <td>2002-11-14</td>\n",
       "      <td>Syracuse</td>\n",
       "      <td>Memphis</td>\n",
       "      <td>continuous_target_2</td>\n",
       "      <td>1500.000000</td>\n",
       "      <td>1500.000000</td>\n",
       "      <td>0.500000</td>\n",
       "      <td>0.500000</td>\n",
       "      <td>-6.380597</td>\n",
       "      <td>6.380597</td>\n",
       "      <td>0.358209</td>\n",
       "      <td>0.641791</td>\n",
       "      <td>1493.619403</td>\n",
       "      <td>1506.380597</td>\n",
       "    </tr>\n",
       "    <tr>\n",
       "      <th>2</th>\n",
       "      <td>2002-11-14</td>\n",
       "      <td>Oklahoma</td>\n",
       "      <td>Alabama</td>\n",
       "      <td>continuous_target_2</td>\n",
       "      <td>1500.000000</td>\n",
       "      <td>1500.000000</td>\n",
       "      <td>0.500000</td>\n",
       "      <td>0.500000</td>\n",
       "      <td>-3.820755</td>\n",
       "      <td>3.820755</td>\n",
       "      <td>0.415094</td>\n",
       "      <td>0.584906</td>\n",
       "      <td>1496.179245</td>\n",
       "      <td>1503.820755</td>\n",
       "    </tr>\n",
       "    <tr>\n",
       "      <th>3</th>\n",
       "      <td>2002-11-14</td>\n",
       "      <td>Alabama</td>\n",
       "      <td>Oklahoma</td>\n",
       "      <td>continuous_target_2</td>\n",
       "      <td>1500.000000</td>\n",
       "      <td>1500.000000</td>\n",
       "      <td>0.500000</td>\n",
       "      <td>0.500000</td>\n",
       "      <td>-1.551724</td>\n",
       "      <td>1.551724</td>\n",
       "      <td>0.465517</td>\n",
       "      <td>0.534483</td>\n",
       "      <td>1498.448276</td>\n",
       "      <td>1501.551724</td>\n",
       "    </tr>\n",
       "    <tr>\n",
       "      <th>4</th>\n",
       "      <td>2002-11-14</td>\n",
       "      <td>Memphis</td>\n",
       "      <td>Syracuse</td>\n",
       "      <td>continuous_target_2</td>\n",
       "      <td>1500.000000</td>\n",
       "      <td>1500.000000</td>\n",
       "      <td>0.500000</td>\n",
       "      <td>0.500000</td>\n",
       "      <td>-3.629032</td>\n",
       "      <td>3.629032</td>\n",
       "      <td>0.419355</td>\n",
       "      <td>0.580645</td>\n",
       "      <td>1496.370968</td>\n",
       "      <td>1503.629032</td>\n",
       "    </tr>\n",
       "    <tr>\n",
       "      <th>...</th>\n",
       "      <td>...</td>\n",
       "      <td>...</td>\n",
       "      <td>...</td>\n",
       "      <td>...</td>\n",
       "      <td>...</td>\n",
       "      <td>...</td>\n",
       "      <td>...</td>\n",
       "      <td>...</td>\n",
       "      <td>...</td>\n",
       "      <td>...</td>\n",
       "      <td>...</td>\n",
       "      <td>...</td>\n",
       "      <td>...</td>\n",
       "      <td>...</td>\n",
       "    </tr>\n",
       "    <tr>\n",
       "      <th>413115</th>\n",
       "      <td>2022-04-02</td>\n",
       "      <td>Kansas</td>\n",
       "      <td>Villanova</td>\n",
       "      <td>continuous_target_2</td>\n",
       "      <td>1503.434167</td>\n",
       "      <td>1557.041366</td>\n",
       "      <td>0.423459</td>\n",
       "      <td>0.576541</td>\n",
       "      <td>5.110991</td>\n",
       "      <td>-5.110991</td>\n",
       "      <td>0.537037</td>\n",
       "      <td>0.462963</td>\n",
       "      <td>1508.545158</td>\n",
       "      <td>1551.930375</td>\n",
       "    </tr>\n",
       "    <tr>\n",
       "      <th>413116</th>\n",
       "      <td>2022-04-04</td>\n",
       "      <td>North Carolina</td>\n",
       "      <td>Kansas</td>\n",
       "      <td>continuous_target</td>\n",
       "      <td>1572.190795</td>\n",
       "      <td>1592.941933</td>\n",
       "      <td>0.470172</td>\n",
       "      <td>0.529828</td>\n",
       "      <td>-3.479176</td>\n",
       "      <td>3.479176</td>\n",
       "      <td>0.392857</td>\n",
       "      <td>0.607143</td>\n",
       "      <td>1568.711619</td>\n",
       "      <td>1596.421109</td>\n",
       "    </tr>\n",
       "    <tr>\n",
       "      <th>413117</th>\n",
       "      <td>2022-04-04</td>\n",
       "      <td>Kansas</td>\n",
       "      <td>North Carolina</td>\n",
       "      <td>continuous_target</td>\n",
       "      <td>1568.666758</td>\n",
       "      <td>1563.774036</td>\n",
       "      <td>0.507041</td>\n",
       "      <td>0.492959</td>\n",
       "      <td>-3.531118</td>\n",
       "      <td>3.531118</td>\n",
       "      <td>0.428571</td>\n",
       "      <td>0.571429</td>\n",
       "      <td>1565.135639</td>\n",
       "      <td>1567.305154</td>\n",
       "    </tr>\n",
       "    <tr>\n",
       "      <th>413118</th>\n",
       "      <td>2022-04-04</td>\n",
       "      <td>Kansas</td>\n",
       "      <td>North Carolina</td>\n",
       "      <td>continuous_target_2</td>\n",
       "      <td>1508.545158</td>\n",
       "      <td>1548.721302</td>\n",
       "      <td>0.442438</td>\n",
       "      <td>0.557562</td>\n",
       "      <td>-0.136993</td>\n",
       "      <td>0.136993</td>\n",
       "      <td>0.439394</td>\n",
       "      <td>0.560606</td>\n",
       "      <td>1508.408165</td>\n",
       "      <td>1548.858294</td>\n",
       "    </tr>\n",
       "    <tr>\n",
       "      <th>413119</th>\n",
       "      <td>2022-04-04</td>\n",
       "      <td>North Carolina</td>\n",
       "      <td>Kansas</td>\n",
       "      <td>continuous_target_2</td>\n",
       "      <td>1489.587393</td>\n",
       "      <td>1557.293443</td>\n",
       "      <td>0.403778</td>\n",
       "      <td>0.596222</td>\n",
       "      <td>-3.991933</td>\n",
       "      <td>3.991933</td>\n",
       "      <td>0.315068</td>\n",
       "      <td>0.684932</td>\n",
       "      <td>1485.595460</td>\n",
       "      <td>1561.285376</td>\n",
       "    </tr>\n",
       "  </tbody>\n",
       "</table>\n",
       "<p>413120 rows × 14 columns</p>\n",
       "</div>"
      ],
      "text/plain": [
       "             date          protag           antag                 stat  \\\n",
       "0      2002-11-14         Alabama        Oklahoma    continuous_target   \n",
       "1      2002-11-14        Syracuse         Memphis  continuous_target_2   \n",
       "2      2002-11-14        Oklahoma         Alabama  continuous_target_2   \n",
       "3      2002-11-14         Alabama        Oklahoma  continuous_target_2   \n",
       "4      2002-11-14         Memphis        Syracuse  continuous_target_2   \n",
       "...           ...             ...             ...                  ...   \n",
       "413115 2022-04-02          Kansas       Villanova  continuous_target_2   \n",
       "413116 2022-04-04  North Carolina          Kansas    continuous_target   \n",
       "413117 2022-04-04          Kansas  North Carolina    continuous_target   \n",
       "413118 2022-04-04          Kansas  North Carolina  continuous_target_2   \n",
       "413119 2022-04-04  North Carolina          Kansas  continuous_target_2   \n",
       "\n",
       "        protag_rating  antag_rating  protag_win_prob  antag_win_prob  \\\n",
       "0         1500.000000   1500.000000         0.500000        0.500000   \n",
       "1         1500.000000   1500.000000         0.500000        0.500000   \n",
       "2         1500.000000   1500.000000         0.500000        0.500000   \n",
       "3         1500.000000   1500.000000         0.500000        0.500000   \n",
       "4         1500.000000   1500.000000         0.500000        0.500000   \n",
       "...               ...           ...              ...             ...   \n",
       "413115    1503.434167   1557.041366         0.423459        0.576541   \n",
       "413116    1572.190795   1592.941933         0.470172        0.529828   \n",
       "413117    1568.666758   1563.774036         0.507041        0.492959   \n",
       "413118    1508.545158   1548.721302         0.442438        0.557562   \n",
       "413119    1489.587393   1557.293443         0.403778        0.596222   \n",
       "\n",
       "        protag_update  antag_update  protag_result  antag_result  \\\n",
       "0           -5.357143      5.357143       0.380952      0.619048   \n",
       "1           -6.380597      6.380597       0.358209      0.641791   \n",
       "2           -3.820755      3.820755       0.415094      0.584906   \n",
       "3           -1.551724      1.551724       0.465517      0.534483   \n",
       "4           -3.629032      3.629032       0.419355      0.580645   \n",
       "...               ...           ...            ...           ...   \n",
       "413115       5.110991     -5.110991       0.537037      0.462963   \n",
       "413116      -3.479176      3.479176       0.392857      0.607143   \n",
       "413117      -3.531118      3.531118       0.428571      0.571429   \n",
       "413118      -0.136993      0.136993       0.439394      0.560606   \n",
       "413119      -3.991933      3.991933       0.315068      0.684932   \n",
       "\n",
       "        protag_postgame_rating  antag_postgame_rating  \n",
       "0                  1494.642857            1505.357143  \n",
       "1                  1493.619403            1506.380597  \n",
       "2                  1496.179245            1503.820755  \n",
       "3                  1498.448276            1501.551724  \n",
       "4                  1496.370968            1503.629032  \n",
       "...                        ...                    ...  \n",
       "413115             1508.545158            1551.930375  \n",
       "413116             1568.711619            1596.421109  \n",
       "413117             1565.135639            1567.305154  \n",
       "413118             1508.408165            1548.858294  \n",
       "413119             1485.595460            1561.285376  \n",
       "\n",
       "[413120 rows x 14 columns]"
      ]
     },
     "execution_count": 31,
     "metadata": {},
     "output_type": "execute_result"
    }
   ],
   "source": [
    "class Optimizer:\n",
    "    def __init__(self):\n",
    "        pass\n",
    "\n",
    "    def load_data(self):\n",
    "        raise NotImplementedError(\"Subclasses must implement the load_data method.\")\n",
    "    \n",
    "    def optimize(self):\n",
    "        raise NotImplementedError(\"Subclasses must implement the optimize method.\")\n",
    "    \n",
    "\n",
    "class EloOptimizer(Optimizer):\n",
    "    def __init__(self, protag_col='team', antag_col='opponent', stat_cols=['team_sq_score'], order_col='date', meta_cols=['location']):\n",
    "        super().__init__()\n",
    "        self.protag_col = protag_col\n",
    "        self.antag_col = antag_col\n",
    "        self.stat_cols = stat_cols\n",
    "        self.order_col = order_col  \n",
    "        self.meta_cols = meta_cols\n",
    "        \n",
    "\n",
    "    def load_data(self, data_or_path):\n",
    "        if type(data_or_path) == str:\n",
    "            self.data = pd.read_csv(data_or_path)\n",
    "        else:\n",
    "            self.data = data_or_path\n",
    "\n",
    "        for col in [self.protag_col, self.antag_col]+self.stat_cols+[self.order_col]+self.meta_cols:\n",
    "            assert(col in self.data.columns), f\"{col} not found in data columns.\"\n",
    "        self.preprocess_data()\n",
    "\n",
    "    def preprocess_data(self):\n",
    "\n",
    "        if len(self.stat_cols) > 1:\n",
    "            self.data = self.data.melt(id_vars=[self.order_col, self.protag_col, self.antag_col]+self.meta_cols, value_vars=self.stat_cols, var_name='stat', value_name='stat_value')\n",
    "        \n",
    "        self.data = self.data.sort_values(by=self.order_col)\n",
    "        return self.data\n",
    "    \n",
    "    def checks(self, k, meta_k, priors, initial_rating):\n",
    "        assert(type(priors) == dict), \"Priors must be a dictionary with key as protag and value as Elo rating.\"\n",
    "        if k is None:\n",
    "            raise ValueError(\"Must provide K value\")\n",
    "        else:\n",
    "            assert(type(k) in [dict, float, int]), \"K must be a single numeric quantity, or a dict that has unique values for each stat\"\n",
    "        assert(type(initial_rating) in [dict, float, int]), \"Initial rating must be a single numeric quantity, or a dict that has unique values for each stat\"\n",
    "        if len(meta_k) > 0:\n",
    "            assert(type(meta_k) == dict), \"Meta K must be a dictionary with key as meta column and value as K value\"\n",
    "            for meta_col, k_val in meta_k.items():\n",
    "                assert(type(k_val) in [dict, float, int]), \"K must be a single numeric quantity, or a dict that has unique values for each stat\"\n",
    "\n",
    "    def optimize(self):\n",
    "\n",
    "        ## taking a shortcut for now\n",
    "        def opt_helper(k, is_home_continuous_target, is_home_continuous_target_2):\n",
    "            meta_k = {'is_home': {'continuous_target': is_home_continuous_target, 'continuous_target_2': is_home_continuous_target_2}}\n",
    "            k = int(k)\n",
    "            rtgs = self.run_history(k=k, meta_adj=meta_k)\n",
    "            ## log loss formula, negative because we are maximizing\n",
    "            log_loss = np.mean(rtgs['protag_result'] * np.log(rtgs['protag_win_prob']) + (1 - rtgs['protag_result']) * np.log(1 - rtgs['protag_win_prob']))\n",
    "            return log_loss\n",
    "\n",
    "        pbounds = {\n",
    "            'k': (10, 75),\n",
    "            'is_home_continuous_target': (0, 100),\n",
    "            'is_home_continuous_target_2': (0, 100)\n",
    "        }\n",
    "\n",
    "        optimizer = BayesianOptimization(\n",
    "            f=opt_helper,\n",
    "            pbounds=pbounds,\n",
    "            random_state=17,\n",
    "        )\n",
    "\n",
    "        optimizer.maximize(\n",
    "            init_points=10,\n",
    "            n_iter=35,\n",
    "        )\n",
    "        print(optimizer.max['target'], optimizer.max['params'])\n",
    "        return optimizer.max['params']\n",
    "\n",
    "    def run_history(self, k, meta_adj={}, priors={}, initial_rating=1500):\n",
    "\n",
    "        self.checks(k, meta_adj, priors, initial_rating)\n",
    "\n",
    "        protags = self.data[self.protag_col].unique()\n",
    "        antags = self.data[self.antag_col].unique()\n",
    "        protags = sorted(protags)\n",
    "        antags = sorted(antags)\n",
    "        stats = sorted(self.stat_cols)\n",
    "\n",
    "        protag_idx_map = {protag: idx for idx, protag in enumerate(protags)}\n",
    "        antag_idx_map = {antag: idx + len(protags) for idx, antag in enumerate(antags)}\n",
    "        stat_idx_map = {stat: idx for idx, stat in enumerate(stats)}\n",
    "\n",
    "        self.data['protag_idx'] = self.data[self.protag_col].map(protag_idx_map)\n",
    "        self.data['antag_idx'] = self.data[self.antag_col].map(antag_idx_map) \n",
    "        if len(stats) > 1:\n",
    "            self.data['stat_idx'] = self.data['stat'].map(stat_idx_map)\n",
    "        else:\n",
    "            self.data['stat'] = self.stat_cols[0]\n",
    "            self.data['stat_idx'] = 0\n",
    "        \n",
    "        if len(stats) == 1:\n",
    "            self.data['stat_value'] = self.data[self.stat_cols[0]]\n",
    "\n",
    "        i = 0\n",
    "        for meta_col in self.meta_cols:\n",
    "            i += 1\n",
    "            self.data[f'meta_adj_{i}'] = self.data[[meta_col, 'stat']].apply(lambda x: meta_adj[meta_col][x['stat']], axis=1)\n",
    "            self.data[f'meta_adj_{i}'] = self.data[f'meta_adj_{i}']*self.data[meta_col]\n",
    "            \n",
    "        self.data['meta_adj'] = self.data[[f'meta_adj_{i}' for i in range(1, i+1)]].sum(axis=1)\n",
    "\n",
    "        ratings_mat = np.zeros((len(protags)+len(antags),len(self.stat_cols)))\n",
    "\n",
    "        if len(stats)==1:\n",
    "            for entity, prior in priors.items():\n",
    "                if entity in protags:\n",
    "                    ratings_mat[protag_idx_map[entity], 0] = prior\n",
    "                else:\n",
    "                    ratings_mat[antag_idx_map[entity], 0] = prior\n",
    "        else:\n",
    "            for entity, prior in priors.items():\n",
    "                if entity in protags:\n",
    "                    for idx, stat in enumerate(stats):\n",
    "                        ratings_mat[protag_idx_map[entity], idx] = prior[stat]\n",
    "                else:\n",
    "                    for idx, stat in enumerate(stats):\n",
    "                        ratings_mat[antag_idx_map[entity], idx] = prior[stat]\n",
    "\n",
    "        no_prior_protags = set(protags) - set(priors.keys())\n",
    "        no_prior_antags = set(antags) - set(priors.keys())\n",
    "        for protag in no_prior_protags:\n",
    "            if len(stats)==1:\n",
    "                ratings_mat[protag_idx_map[protag], 0] = initial_rating\n",
    "            else:\n",
    "                for idx, stat in enumerate(stats):\n",
    "                    ratings_mat[protag_idx_map[protag], idx] = initial_rating\n",
    "        for antag in no_prior_antags:\n",
    "            if len(stats)==1:\n",
    "                ratings_mat[antag_idx_map[antag], 0] = initial_rating\n",
    "            else:\n",
    "                for idx, stat in enumerate(stats):\n",
    "                    ratings_mat[antag_idx_map[antag], idx] = initial_rating\n",
    "\n",
    "        ratings = []\n",
    "        for rating_period, results in tqdm(self.data.groupby(self.order_col), total=self.data[self.order_col].nunique()):\n",
    "            \n",
    "            protag_idxs = results['protag_idx'].values\n",
    "            antag_idxs = results['antag_idx'].values\n",
    "            stat_idxs = results['stat_idx'].values\n",
    "\n",
    "            protag_ratings = ratings_mat[protag_idxs, stat_idxs]\n",
    "            antag_ratings = ratings_mat[antag_idxs, stat_idxs]\n",
    "\n",
    "            if len(meta_adj) > 0:\n",
    "                meta_values = results['meta_adj'].values\n",
    "                protag_ratings += meta_values\n",
    "\n",
    "            protag_win_probs = 1 / (1 + 10**((antag_ratings - protag_ratings) / 400))\n",
    "            antag_win_probs = 1 - protag_win_probs\n",
    "\n",
    "            ## todo: upgrade for multiple stats\n",
    "            protag_wins = results['stat_value'].values\n",
    "            antag_wins = 1 - protag_wins\n",
    "\n",
    "            protag_update = k * (protag_wins - protag_win_probs)\n",
    "            antag_update = k * (antag_wins - antag_win_probs)\n",
    "\n",
    "            ratings_mat[protag_idxs, stat_idxs] += protag_update\n",
    "            ratings_mat[antag_idxs, stat_idxs] += antag_update\n",
    "\n",
    "            if len(meta_adj) > 0:\n",
    "                protag_ratings -= meta_values\n",
    "\n",
    "            to_append = pd.DataFrame({\n",
    "                self.order_col: rating_period,\n",
    "                'protag': results[self.protag_col],\n",
    "                'antag': results[self.antag_col],\n",
    "                'stat': results['stat'],    \n",
    "                'protag_rating': protag_ratings,\n",
    "                'antag_rating': antag_ratings,\n",
    "                'protag_win_prob': protag_win_probs,\n",
    "                'antag_win_prob': antag_win_probs,\n",
    "                'protag_update': protag_update,\n",
    "                'antag_update': antag_update,\n",
    "                'protag_result': protag_wins,\n",
    "                'antag_result': antag_wins,\n",
    "                'protag_postgame_rating': protag_ratings+protag_update,\n",
    "                'antag_postgame_rating': antag_ratings+antag_update,\n",
    "            })\n",
    "\n",
    "            ratings.append(to_append)\n",
    "\n",
    "        ratings = pd.concat(ratings).reset_index(drop=True)\n",
    "\n",
    "        return ratings\n",
    "    \n",
    "\n",
    "elo = EloOptimizer(protag_col='team_name', antag_col='opp_name', stat_cols=['continuous_target','continuous_target_2'], order_col='date', meta_cols=['is_home'])\n",
    "elo.load_data(m_data)\n",
    "rtgs = elo.run_history(k=45, initial_rating=1500, meta_adj={'is_home':{\n",
    "    'continuous_target': 40,\n",
    "    'continuous_target_2': 25\n",
    "}})\n",
    "rtgs\n",
    "\n"
   ]
  },
  {
   "cell_type": "code",
   "execution_count": 32,
   "metadata": {},
   "outputs": [
    {
     "name": "stdout",
     "output_type": "stream",
     "text": [
      "|   iter    |  target   | is_hom... | is_hom... |     k     |\n",
      "-------------------------------------------------------------\n"
     ]
    },
    {
     "name": "stderr",
     "output_type": "stream",
     "text": [
      "100%|██████████| 2674/2674 [00:00<00:00, 3431.54it/s]\n"
     ]
    },
    {
     "name": "stdout",
     "output_type": "stream",
     "text": [
      "| \u001b[0m1        \u001b[0m | \u001b[0m-0.676   \u001b[0m | \u001b[0m29.47    \u001b[0m | \u001b[0m53.06    \u001b[0m | \u001b[0m22.45    \u001b[0m |\n"
     ]
    },
    {
     "name": "stderr",
     "output_type": "stream",
     "text": [
      "100%|██████████| 2674/2674 [00:00<00:00, 3009.64it/s]\n"
     ]
    },
    {
     "name": "stdout",
     "output_type": "stream",
     "text": [
      "| \u001b[0m2        \u001b[0m | \u001b[0m-0.6813  \u001b[0m | \u001b[0m6.79     \u001b[0m | \u001b[0m78.7     \u001b[0m | \u001b[0m52.66    \u001b[0m |\n"
     ]
    },
    {
     "name": "stderr",
     "output_type": "stream",
     "text": [
      "100%|██████████| 2674/2674 [00:00<00:00, 3416.80it/s]\n"
     ]
    },
    {
     "name": "stdout",
     "output_type": "stream",
     "text": [
      "| \u001b[0m3        \u001b[0m | \u001b[0m-0.681   \u001b[0m | \u001b[0m63.75    \u001b[0m | \u001b[0m57.56    \u001b[0m | \u001b[0m12.54    \u001b[0m |\n"
     ]
    },
    {
     "name": "stderr",
     "output_type": "stream",
     "text": [
      "100%|██████████| 2674/2674 [00:00<00:00, 3419.25it/s]\n"
     ]
    },
    {
     "name": "stdout",
     "output_type": "stream",
     "text": [
      "| \u001b[0m4        \u001b[0m | \u001b[0m-0.6866  \u001b[0m | \u001b[0m35.78    \u001b[0m | \u001b[0m94.57    \u001b[0m | \u001b[0m13.9     \u001b[0m |\n"
     ]
    },
    {
     "name": "stderr",
     "output_type": "stream",
     "text": [
      "100%|██████████| 2674/2674 [00:00<00:00, 3480.77it/s]\n"
     ]
    },
    {
     "name": "stdout",
     "output_type": "stream",
     "text": [
      "| \u001b[0m5        \u001b[0m | \u001b[0m-0.6919  \u001b[0m | \u001b[0m86.4     \u001b[0m | \u001b[0m87.73    \u001b[0m | \u001b[0m13.33    \u001b[0m |\n"
     ]
    },
    {
     "name": "stderr",
     "output_type": "stream",
     "text": [
      "100%|██████████| 2674/2674 [00:00<00:00, 3376.01it/s]\n"
     ]
    },
    {
     "name": "stdout",
     "output_type": "stream",
     "text": [
      "| \u001b[0m6        \u001b[0m | \u001b[0m-0.6801  \u001b[0m | \u001b[0m65.24    \u001b[0m | \u001b[0m55.18    \u001b[0m | \u001b[0m48.84    \u001b[0m |\n"
     ]
    },
    {
     "name": "stderr",
     "output_type": "stream",
     "text": [
      "100%|██████████| 2674/2674 [00:00<00:00, 3441.45it/s]\n"
     ]
    },
    {
     "name": "stdout",
     "output_type": "stream",
     "text": [
      "| \u001b[95m7        \u001b[0m | \u001b[95m-0.6742  \u001b[0m | \u001b[95m48.35    \u001b[0m | \u001b[95m28.3     \u001b[0m | \u001b[95m29.35    \u001b[0m |\n"
     ]
    },
    {
     "name": "stderr",
     "output_type": "stream",
     "text": [
      "100%|██████████| 2674/2674 [00:00<00:00, 3421.38it/s]\n"
     ]
    },
    {
     "name": "stdout",
     "output_type": "stream",
     "text": [
      "| \u001b[0m8        \u001b[0m | \u001b[0m-0.6765  \u001b[0m | \u001b[0m56.15    \u001b[0m | \u001b[0m39.6     \u001b[0m | \u001b[0m61.27    \u001b[0m |\n"
     ]
    },
    {
     "name": "stderr",
     "output_type": "stream",
     "text": [
      "100%|██████████| 2674/2674 [00:00<00:00, 2974.53it/s]\n"
     ]
    },
    {
     "name": "stdout",
     "output_type": "stream",
     "text": [
      "| \u001b[95m9        \u001b[0m | \u001b[95m-0.6732  \u001b[0m | \u001b[95m41.85    \u001b[0m | \u001b[95m14.39    \u001b[0m | \u001b[95m19.81    \u001b[0m |\n"
     ]
    },
    {
     "name": "stderr",
     "output_type": "stream",
     "text": [
      "100%|██████████| 2674/2674 [00:00<00:00, 3443.95it/s]\n"
     ]
    },
    {
     "name": "stdout",
     "output_type": "stream",
     "text": [
      "| \u001b[0m10       \u001b[0m | \u001b[0m-0.6794  \u001b[0m | \u001b[0m5.524    \u001b[0m | \u001b[0m71.8     \u001b[0m | \u001b[0m29.0     \u001b[0m |\n"
     ]
    },
    {
     "name": "stderr",
     "output_type": "stream",
     "text": [
      "100%|██████████| 2674/2674 [00:00<00:00, 2976.09it/s]\n"
     ]
    },
    {
     "name": "stdout",
     "output_type": "stream",
     "text": [
      "| \u001b[0m11       \u001b[0m | \u001b[0m-0.6735  \u001b[0m | \u001b[0m43.81    \u001b[0m | \u001b[0m14.71    \u001b[0m | \u001b[0m18.21    \u001b[0m |\n"
     ]
    },
    {
     "name": "stderr",
     "output_type": "stream",
     "text": [
      "100%|██████████| 2674/2674 [00:00<00:00, 3450.33it/s]\n"
     ]
    },
    {
     "name": "stdout",
     "output_type": "stream",
     "text": [
      "| \u001b[95m12       \u001b[0m | \u001b[95m-0.672   \u001b[0m | \u001b[95m0.0      \u001b[0m | \u001b[95m0.0      \u001b[0m | \u001b[95m75.0     \u001b[0m |\n"
     ]
    },
    {
     "name": "stderr",
     "output_type": "stream",
     "text": [
      "100%|██████████| 2674/2674 [00:00<00:00, 3463.73it/s]\n"
     ]
    },
    {
     "name": "stdout",
     "output_type": "stream",
     "text": [
      "| \u001b[0m13       \u001b[0m | \u001b[0m-0.6736  \u001b[0m | \u001b[0m0.0      \u001b[0m | \u001b[0m0.0      \u001b[0m | \u001b[0m10.0     \u001b[0m |\n"
     ]
    },
    {
     "name": "stderr",
     "output_type": "stream",
     "text": [
      "100%|██████████| 2674/2674 [00:00<00:00, 3384.65it/s]\n"
     ]
    },
    {
     "name": "stdout",
     "output_type": "stream",
     "text": [
      "| \u001b[0m14       \u001b[0m | \u001b[0m-0.673   \u001b[0m | \u001b[0m43.34    \u001b[0m | \u001b[0m0.0      \u001b[0m | \u001b[0m75.0     \u001b[0m |\n"
     ]
    },
    {
     "name": "stderr",
     "output_type": "stream",
     "text": [
      "100%|██████████| 2674/2674 [00:00<00:00, 3467.49it/s]\n"
     ]
    },
    {
     "name": "stdout",
     "output_type": "stream",
     "text": [
      "| \u001b[95m15       \u001b[0m | \u001b[95m-0.6713  \u001b[0m | \u001b[95m13.54    \u001b[0m | \u001b[95m0.0      \u001b[0m | \u001b[95m48.58    \u001b[0m |\n"
     ]
    },
    {
     "name": "stderr",
     "output_type": "stream",
     "text": [
      "100%|██████████| 2674/2674 [00:00<00:00, 3396.57it/s]\n"
     ]
    },
    {
     "name": "stdout",
     "output_type": "stream",
     "text": [
      "| \u001b[0m16       \u001b[0m | \u001b[0m-0.672   \u001b[0m | \u001b[0m0.0      \u001b[0m | \u001b[0m19.35    \u001b[0m | \u001b[0m46.77    \u001b[0m |\n"
     ]
    },
    {
     "name": "stderr",
     "output_type": "stream",
     "text": [
      "100%|██████████| 2674/2674 [00:00<00:00, 3494.27it/s]\n"
     ]
    },
    {
     "name": "stdout",
     "output_type": "stream",
     "text": [
      "| \u001b[0m17       \u001b[0m | \u001b[0m-0.6714  \u001b[0m | \u001b[0m18.54    \u001b[0m | \u001b[0m10.25    \u001b[0m | \u001b[0m62.18    \u001b[0m |\n"
     ]
    },
    {
     "name": "stderr",
     "output_type": "stream",
     "text": [
      "100%|██████████| 2674/2674 [00:00<00:00, 3445.88it/s]\n"
     ]
    },
    {
     "name": "stdout",
     "output_type": "stream",
     "text": [
      "| \u001b[0m18       \u001b[0m | \u001b[0m-0.6717  \u001b[0m | \u001b[0m31.76    \u001b[0m | \u001b[0m0.0      \u001b[0m | \u001b[0m46.86    \u001b[0m |\n"
     ]
    },
    {
     "name": "stderr",
     "output_type": "stream",
     "text": [
      "100%|██████████| 2674/2674 [00:00<00:00, 3472.73it/s]\n"
     ]
    },
    {
     "name": "stdout",
     "output_type": "stream",
     "text": [
      "| \u001b[0m19       \u001b[0m | \u001b[0m-0.6714  \u001b[0m | \u001b[0m19.24    \u001b[0m | \u001b[0m12.69    \u001b[0m | \u001b[0m44.0     \u001b[0m |\n"
     ]
    },
    {
     "name": "stderr",
     "output_type": "stream",
     "text": [
      "100%|██████████| 2674/2674 [00:00<00:00, 3380.53it/s]\n"
     ]
    },
    {
     "name": "stdout",
     "output_type": "stream",
     "text": [
      "| \u001b[0m20       \u001b[0m | \u001b[0m-0.6714  \u001b[0m | \u001b[0m15.69    \u001b[0m | \u001b[0m0.0      \u001b[0m | \u001b[0m61.53    \u001b[0m |\n"
     ]
    },
    {
     "name": "stderr",
     "output_type": "stream",
     "text": [
      "100%|██████████| 2674/2674 [00:00<00:00, 3417.50it/s]\n"
     ]
    },
    {
     "name": "stdout",
     "output_type": "stream",
     "text": [
      "| \u001b[95m21       \u001b[0m | \u001b[95m-0.6713  \u001b[0m | \u001b[95m14.43    \u001b[0m | \u001b[95m7.756    \u001b[0m | \u001b[95m54.02    \u001b[0m |\n"
     ]
    },
    {
     "name": "stderr",
     "output_type": "stream",
     "text": [
      "100%|██████████| 2674/2674 [00:00<00:00, 2966.24it/s]\n"
     ]
    },
    {
     "name": "stdout",
     "output_type": "stream",
     "text": [
      "| \u001b[95m22       \u001b[0m | \u001b[95m-0.6713  \u001b[0m | \u001b[95m19.02    \u001b[0m | \u001b[95m3.574    \u001b[0m | \u001b[95m52.07    \u001b[0m |\n"
     ]
    },
    {
     "name": "stderr",
     "output_type": "stream",
     "text": [
      "100%|██████████| 2674/2674 [00:00<00:00, 3454.54it/s]\n"
     ]
    },
    {
     "name": "stdout",
     "output_type": "stream",
     "text": [
      "| \u001b[95m23       \u001b[0m | \u001b[95m-0.6713  \u001b[0m | \u001b[95m14.21    \u001b[0m | \u001b[95m5.521    \u001b[0m | \u001b[95m41.15    \u001b[0m |\n"
     ]
    },
    {
     "name": "stderr",
     "output_type": "stream",
     "text": [
      "100%|██████████| 2674/2674 [00:00<00:00, 2965.34it/s]\n"
     ]
    },
    {
     "name": "stdout",
     "output_type": "stream",
     "text": [
      "| \u001b[0m24       \u001b[0m | \u001b[0m-0.6713  \u001b[0m | \u001b[0m18.7     \u001b[0m | \u001b[0m0.0      \u001b[0m | \u001b[0m40.61    \u001b[0m |\n"
     ]
    },
    {
     "name": "stderr",
     "output_type": "stream",
     "text": [
      "100%|██████████| 2674/2674 [00:00<00:00, 3441.44it/s]\n"
     ]
    },
    {
     "name": "stdout",
     "output_type": "stream",
     "text": [
      "| \u001b[95m25       \u001b[0m | \u001b[95m-0.6712  \u001b[0m | \u001b[95m14.42    \u001b[0m | \u001b[95m5.384    \u001b[0m | \u001b[95m45.51    \u001b[0m |\n"
     ]
    },
    {
     "name": "stderr",
     "output_type": "stream",
     "text": [
      "100%|██████████| 2674/2674 [00:00<00:00, 3402.04it/s]\n"
     ]
    },
    {
     "name": "stdout",
     "output_type": "stream",
     "text": [
      "| \u001b[0m26       \u001b[0m | \u001b[0m-0.6712  \u001b[0m | \u001b[0m17.13    \u001b[0m | \u001b[0m4.41     \u001b[0m | \u001b[0m44.57    \u001b[0m |\n"
     ]
    },
    {
     "name": "stderr",
     "output_type": "stream",
     "text": [
      "100%|██████████| 2674/2674 [00:00<00:00, 3426.49it/s]\n"
     ]
    },
    {
     "name": "stdout",
     "output_type": "stream",
     "text": [
      "| \u001b[0m27       \u001b[0m | \u001b[0m-0.6712  \u001b[0m | \u001b[0m14.93    \u001b[0m | \u001b[0m6.442    \u001b[0m | \u001b[0m49.43    \u001b[0m |\n"
     ]
    },
    {
     "name": "stderr",
     "output_type": "stream",
     "text": [
      "100%|██████████| 2674/2674 [00:00<00:00, 3448.20it/s]\n"
     ]
    },
    {
     "name": "stdout",
     "output_type": "stream",
     "text": [
      "| \u001b[0m28       \u001b[0m | \u001b[0m-0.6712  \u001b[0m | \u001b[0m17.38    \u001b[0m | \u001b[0m4.786    \u001b[0m | \u001b[0m44.03    \u001b[0m |\n"
     ]
    },
    {
     "name": "stderr",
     "output_type": "stream",
     "text": [
      "100%|██████████| 2674/2674 [00:00<00:00, 3386.46it/s]\n"
     ]
    },
    {
     "name": "stdout",
     "output_type": "stream",
     "text": [
      "| \u001b[95m29       \u001b[0m | \u001b[95m-0.6712  \u001b[0m | \u001b[95m15.14    \u001b[0m | \u001b[95m3.891    \u001b[0m | \u001b[95m46.5     \u001b[0m |\n"
     ]
    },
    {
     "name": "stderr",
     "output_type": "stream",
     "text": [
      "100%|██████████| 2674/2674 [00:00<00:00, 3402.16it/s]\n"
     ]
    },
    {
     "name": "stdout",
     "output_type": "stream",
     "text": [
      "| \u001b[95m30       \u001b[0m | \u001b[95m-0.6712  \u001b[0m | \u001b[95m14.5     \u001b[0m | \u001b[95m4.309    \u001b[0m | \u001b[95m48.37    \u001b[0m |\n"
     ]
    },
    {
     "name": "stderr",
     "output_type": "stream",
     "text": [
      "100%|██████████| 2674/2674 [00:00<00:00, 2966.54it/s]\n"
     ]
    },
    {
     "name": "stdout",
     "output_type": "stream",
     "text": [
      "| \u001b[0m31       \u001b[0m | \u001b[0m-0.6712  \u001b[0m | \u001b[0m14.68    \u001b[0m | \u001b[0m5.762    \u001b[0m | \u001b[0m46.79    \u001b[0m |\n"
     ]
    },
    {
     "name": "stderr",
     "output_type": "stream",
     "text": [
      "100%|██████████| 2674/2674 [00:00<00:00, 3481.77it/s]\n"
     ]
    },
    {
     "name": "stdout",
     "output_type": "stream",
     "text": [
      "| \u001b[95m32       \u001b[0m | \u001b[95m-0.6712  \u001b[0m | \u001b[95m16.03    \u001b[0m | \u001b[95m4.262    \u001b[0m | \u001b[95m46.96    \u001b[0m |\n"
     ]
    },
    {
     "name": "stderr",
     "output_type": "stream",
     "text": [
      "100%|██████████| 2674/2674 [00:00<00:00, 3004.18it/s]\n"
     ]
    },
    {
     "name": "stdout",
     "output_type": "stream",
     "text": [
      "| \u001b[0m33       \u001b[0m | \u001b[0m-0.6712  \u001b[0m | \u001b[0m16.12    \u001b[0m | \u001b[0m5.863    \u001b[0m | \u001b[0m46.82    \u001b[0m |\n"
     ]
    },
    {
     "name": "stderr",
     "output_type": "stream",
     "text": [
      "100%|██████████| 2674/2674 [00:00<00:00, 3523.41it/s]\n"
     ]
    },
    {
     "name": "stdout",
     "output_type": "stream",
     "text": [
      "| \u001b[0m34       \u001b[0m | \u001b[0m-0.6712  \u001b[0m | \u001b[0m15.56    \u001b[0m | \u001b[0m3.662    \u001b[0m | \u001b[0m48.12    \u001b[0m |\n"
     ]
    },
    {
     "name": "stderr",
     "output_type": "stream",
     "text": [
      "100%|██████████| 2674/2674 [00:00<00:00, 3426.40it/s]\n"
     ]
    },
    {
     "name": "stdout",
     "output_type": "stream",
     "text": [
      "| \u001b[0m35       \u001b[0m | \u001b[0m-0.6712  \u001b[0m | \u001b[0m14.22    \u001b[0m | \u001b[0m3.735    \u001b[0m | \u001b[0m47.81    \u001b[0m |\n"
     ]
    },
    {
     "name": "stderr",
     "output_type": "stream",
     "text": [
      "100%|██████████| 2674/2674 [00:00<00:00, 3504.34it/s]\n"
     ]
    },
    {
     "name": "stdout",
     "output_type": "stream",
     "text": [
      "| \u001b[95m36       \u001b[0m | \u001b[95m-0.6712  \u001b[0m | \u001b[95m15.8     \u001b[0m | \u001b[95m4.39     \u001b[0m | \u001b[95m49.69    \u001b[0m |\n"
     ]
    },
    {
     "name": "stderr",
     "output_type": "stream",
     "text": [
      "100%|██████████| 2674/2674 [00:00<00:00, 3397.72it/s]\n"
     ]
    },
    {
     "name": "stdout",
     "output_type": "stream",
     "text": [
      "| \u001b[0m37       \u001b[0m | \u001b[0m-0.6712  \u001b[0m | \u001b[0m15.19    \u001b[0m | \u001b[0m6.34     \u001b[0m | \u001b[0m46.15    \u001b[0m |\n"
     ]
    },
    {
     "name": "stderr",
     "output_type": "stream",
     "text": [
      "100%|██████████| 2674/2674 [00:00<00:00, 3035.44it/s]\n"
     ]
    },
    {
     "name": "stdout",
     "output_type": "stream",
     "text": [
      "| \u001b[0m38       \u001b[0m | \u001b[0m-0.6712  \u001b[0m | \u001b[0m14.84    \u001b[0m | \u001b[0m7.123    \u001b[0m | \u001b[0m44.66    \u001b[0m |\n"
     ]
    },
    {
     "name": "stderr",
     "output_type": "stream",
     "text": [
      "100%|██████████| 2674/2674 [00:00<00:00, 3471.32it/s]\n"
     ]
    },
    {
     "name": "stdout",
     "output_type": "stream",
     "text": [
      "| \u001b[95m39       \u001b[0m | \u001b[95m-0.6712  \u001b[0m | \u001b[95m15.35    \u001b[0m | \u001b[95m4.872    \u001b[0m | \u001b[95m48.64    \u001b[0m |\n"
     ]
    },
    {
     "name": "stderr",
     "output_type": "stream",
     "text": [
      "100%|██████████| 2674/2674 [00:00<00:00, 2999.15it/s]\n"
     ]
    },
    {
     "name": "stdout",
     "output_type": "stream",
     "text": [
      "| \u001b[0m40       \u001b[0m | \u001b[0m-0.6712  \u001b[0m | \u001b[0m16.1     \u001b[0m | \u001b[0m5.243    \u001b[0m | \u001b[0m49.31    \u001b[0m |\n"
     ]
    },
    {
     "name": "stderr",
     "output_type": "stream",
     "text": [
      "100%|██████████| 2674/2674 [00:00<00:00, 3419.80it/s]\n"
     ]
    },
    {
     "name": "stdout",
     "output_type": "stream",
     "text": [
      "| \u001b[0m41       \u001b[0m | \u001b[0m-0.6712  \u001b[0m | \u001b[0m13.37    \u001b[0m | \u001b[0m4.751    \u001b[0m | \u001b[0m51.76    \u001b[0m |\n"
     ]
    },
    {
     "name": "stderr",
     "output_type": "stream",
     "text": [
      "100%|██████████| 2674/2674 [00:00<00:00, 3513.80it/s]\n"
     ]
    },
    {
     "name": "stdout",
     "output_type": "stream",
     "text": [
      "| \u001b[0m42       \u001b[0m | \u001b[0m-0.6712  \u001b[0m | \u001b[0m13.76    \u001b[0m | \u001b[0m5.107    \u001b[0m | \u001b[0m45.15    \u001b[0m |\n"
     ]
    },
    {
     "name": "stderr",
     "output_type": "stream",
     "text": [
      "100%|██████████| 2674/2674 [00:00<00:00, 3477.25it/s]\n"
     ]
    },
    {
     "name": "stdout",
     "output_type": "stream",
     "text": [
      "| \u001b[0m43       \u001b[0m | \u001b[0m-0.6712  \u001b[0m | \u001b[0m13.68    \u001b[0m | \u001b[0m4.738    \u001b[0m | \u001b[0m49.57    \u001b[0m |\n"
     ]
    },
    {
     "name": "stderr",
     "output_type": "stream",
     "text": [
      "100%|██████████| 2674/2674 [00:00<00:00, 3416.23it/s]\n"
     ]
    },
    {
     "name": "stdout",
     "output_type": "stream",
     "text": [
      "| \u001b[0m44       \u001b[0m | \u001b[0m-0.6712  \u001b[0m | \u001b[0m15.3     \u001b[0m | \u001b[0m5.335    \u001b[0m | \u001b[0m45.31    \u001b[0m |\n"
     ]
    },
    {
     "name": "stderr",
     "output_type": "stream",
     "text": [
      "100%|██████████| 2674/2674 [00:00<00:00, 3445.31it/s]\n"
     ]
    },
    {
     "name": "stdout",
     "output_type": "stream",
     "text": [
      "| \u001b[0m45       \u001b[0m | \u001b[0m-0.6712  \u001b[0m | \u001b[0m15.37    \u001b[0m | \u001b[0m4.012    \u001b[0m | \u001b[0m47.35    \u001b[0m |\n",
      "=============================================================\n",
      "-0.6712318829093019 {'is_home_continuous_target': 15.348983572742537, 'is_home_continuous_target_2': 4.872094964602402, 'k': 48.63908768703055}\n"
     ]
    },
    {
     "data": {
      "text/plain": [
       "{'is_home_continuous_target': 15.348983572742537,\n",
       " 'is_home_continuous_target_2': 4.872094964602402,\n",
       " 'k': 48.63908768703055}"
      ]
     },
     "execution_count": 32,
     "metadata": {},
     "output_type": "execute_result"
    }
   ],
   "source": [
    "elo.optimize()"
   ]
  },
  {
   "cell_type": "code",
   "execution_count": null,
   "metadata": {},
   "outputs": [],
   "source": []
  },
  {
   "cell_type": "code",
   "execution_count": 10,
   "metadata": {},
   "outputs": [
    {
     "ename": "KeyError",
     "evalue": "'stat'",
     "output_type": "error",
     "traceback": [
      "\u001b[1;31m---------------------------------------------------------------------------\u001b[0m",
      "\u001b[1;31mKeyError\u001b[0m                                  Traceback (most recent call last)",
      "File \u001b[1;32mc:\\Users\\Blake\\anaconda3\\Lib\\site-packages\\pandas\\core\\indexes\\base.py:3802\u001b[0m, in \u001b[0;36mIndex.get_loc\u001b[1;34m(self, key, method, tolerance)\u001b[0m\n\u001b[0;32m   3801\u001b[0m \u001b[38;5;28;01mtry\u001b[39;00m:\n\u001b[1;32m-> 3802\u001b[0m     \u001b[38;5;28;01mreturn\u001b[39;00m \u001b[38;5;28mself\u001b[39m\u001b[38;5;241m.\u001b[39m_engine\u001b[38;5;241m.\u001b[39mget_loc(casted_key)\n\u001b[0;32m   3803\u001b[0m \u001b[38;5;28;01mexcept\u001b[39;00m \u001b[38;5;167;01mKeyError\u001b[39;00m \u001b[38;5;28;01mas\u001b[39;00m err:\n",
      "File \u001b[1;32mc:\\Users\\Blake\\anaconda3\\Lib\\site-packages\\pandas\\_libs\\index.pyx:138\u001b[0m, in \u001b[0;36mpandas._libs.index.IndexEngine.get_loc\u001b[1;34m()\u001b[0m\n",
      "File \u001b[1;32mc:\\Users\\Blake\\anaconda3\\Lib\\site-packages\\pandas\\_libs\\index.pyx:165\u001b[0m, in \u001b[0;36mpandas._libs.index.IndexEngine.get_loc\u001b[1;34m()\u001b[0m\n",
      "File \u001b[1;32mpandas\\_libs\\hashtable_class_helper.pxi:5745\u001b[0m, in \u001b[0;36mpandas._libs.hashtable.PyObjectHashTable.get_item\u001b[1;34m()\u001b[0m\n",
      "File \u001b[1;32mpandas\\_libs\\hashtable_class_helper.pxi:5753\u001b[0m, in \u001b[0;36mpandas._libs.hashtable.PyObjectHashTable.get_item\u001b[1;34m()\u001b[0m\n",
      "\u001b[1;31mKeyError\u001b[0m: 'stat'",
      "\nThe above exception was the direct cause of the following exception:\n",
      "\u001b[1;31mKeyError\u001b[0m                                  Traceback (most recent call last)",
      "Cell \u001b[1;32mIn[10], line 1\u001b[0m\n\u001b[1;32m----> 1\u001b[0m m_data[\u001b[38;5;124m'\u001b[39m\u001b[38;5;124mstat\u001b[39m\u001b[38;5;124m'\u001b[39m]\u001b[38;5;241m.\u001b[39mvalue_counts()\n",
      "File \u001b[1;32mc:\\Users\\Blake\\anaconda3\\Lib\\site-packages\\pandas\\core\\frame.py:3807\u001b[0m, in \u001b[0;36mDataFrame.__getitem__\u001b[1;34m(self, key)\u001b[0m\n\u001b[0;32m   3805\u001b[0m \u001b[38;5;28;01mif\u001b[39;00m \u001b[38;5;28mself\u001b[39m\u001b[38;5;241m.\u001b[39mcolumns\u001b[38;5;241m.\u001b[39mnlevels \u001b[38;5;241m>\u001b[39m \u001b[38;5;241m1\u001b[39m:\n\u001b[0;32m   3806\u001b[0m     \u001b[38;5;28;01mreturn\u001b[39;00m \u001b[38;5;28mself\u001b[39m\u001b[38;5;241m.\u001b[39m_getitem_multilevel(key)\n\u001b[1;32m-> 3807\u001b[0m indexer \u001b[38;5;241m=\u001b[39m \u001b[38;5;28mself\u001b[39m\u001b[38;5;241m.\u001b[39mcolumns\u001b[38;5;241m.\u001b[39mget_loc(key)\n\u001b[0;32m   3808\u001b[0m \u001b[38;5;28;01mif\u001b[39;00m is_integer(indexer):\n\u001b[0;32m   3809\u001b[0m     indexer \u001b[38;5;241m=\u001b[39m [indexer]\n",
      "File \u001b[1;32mc:\\Users\\Blake\\anaconda3\\Lib\\site-packages\\pandas\\core\\indexes\\base.py:3804\u001b[0m, in \u001b[0;36mIndex.get_loc\u001b[1;34m(self, key, method, tolerance)\u001b[0m\n\u001b[0;32m   3802\u001b[0m     \u001b[38;5;28;01mreturn\u001b[39;00m \u001b[38;5;28mself\u001b[39m\u001b[38;5;241m.\u001b[39m_engine\u001b[38;5;241m.\u001b[39mget_loc(casted_key)\n\u001b[0;32m   3803\u001b[0m \u001b[38;5;28;01mexcept\u001b[39;00m \u001b[38;5;167;01mKeyError\u001b[39;00m \u001b[38;5;28;01mas\u001b[39;00m err:\n\u001b[1;32m-> 3804\u001b[0m     \u001b[38;5;28;01mraise\u001b[39;00m \u001b[38;5;167;01mKeyError\u001b[39;00m(key) \u001b[38;5;28;01mfrom\u001b[39;00m \u001b[38;5;21;01merr\u001b[39;00m\n\u001b[0;32m   3805\u001b[0m \u001b[38;5;28;01mexcept\u001b[39;00m \u001b[38;5;167;01mTypeError\u001b[39;00m:\n\u001b[0;32m   3806\u001b[0m     \u001b[38;5;66;03m# If we have a listlike key, _check_indexing_error will raise\u001b[39;00m\n\u001b[0;32m   3807\u001b[0m     \u001b[38;5;66;03m#  InvalidIndexError. Otherwise we fall through and re-raise\u001b[39;00m\n\u001b[0;32m   3808\u001b[0m     \u001b[38;5;66;03m#  the TypeError.\u001b[39;00m\n\u001b[0;32m   3809\u001b[0m     \u001b[38;5;28mself\u001b[39m\u001b[38;5;241m.\u001b[39m_check_indexing_error(key)\n",
      "\u001b[1;31mKeyError\u001b[0m: 'stat'"
     ]
    }
   ],
   "source": []
  },
  {
   "cell_type": "code",
   "execution_count": 6,
   "metadata": {},
   "outputs": [
    {
     "ename": "NameError",
     "evalue": "name 'rtgs' is not defined",
     "output_type": "error",
     "traceback": [
      "\u001b[1;31m---------------------------------------------------------------------------\u001b[0m",
      "\u001b[1;31mNameError\u001b[0m                                 Traceback (most recent call last)",
      "Cell \u001b[1;32mIn[6], line 1\u001b[0m\n\u001b[1;32m----> 1\u001b[0m last_rating \u001b[38;5;241m=\u001b[39mrtgs\u001b[38;5;241m.\u001b[39mdrop_duplicates(subset\u001b[38;5;241m=\u001b[39m[\u001b[38;5;124m'\u001b[39m\u001b[38;5;124mprotag\u001b[39m\u001b[38;5;124m'\u001b[39m,\u001b[38;5;124m'\u001b[39m\u001b[38;5;124mstat\u001b[39m\u001b[38;5;124m'\u001b[39m], keep\u001b[38;5;241m=\u001b[39m\u001b[38;5;124m'\u001b[39m\u001b[38;5;124mlast\u001b[39m\u001b[38;5;124m'\u001b[39m)[[\u001b[38;5;124m'\u001b[39m\u001b[38;5;124mdate\u001b[39m\u001b[38;5;124m'\u001b[39m,\u001b[38;5;124m'\u001b[39m\u001b[38;5;124mprotag\u001b[39m\u001b[38;5;124m'\u001b[39m,\u001b[38;5;124m'\u001b[39m\u001b[38;5;124mstat\u001b[39m\u001b[38;5;124m'\u001b[39m,\u001b[38;5;124m'\u001b[39m\u001b[38;5;124mprotag_postgame_rating\u001b[39m\u001b[38;5;124m'\u001b[39m]]\u001b[38;5;241m.\u001b[39mcopy()\n\u001b[0;32m      2\u001b[0m last_rating\u001b[38;5;241m.\u001b[39msort_values(by\u001b[38;5;241m=\u001b[39m[\u001b[38;5;124m'\u001b[39m\u001b[38;5;124mprotag_postgame_rating\u001b[39m\u001b[38;5;124m'\u001b[39m], ascending\u001b[38;5;241m=\u001b[39m[\u001b[38;5;28;01mFalse\u001b[39;00m], inplace\u001b[38;5;241m=\u001b[39m\u001b[38;5;28;01mTrue\u001b[39;00m)\n\u001b[0;32m      3\u001b[0m last_rating\n",
      "\u001b[1;31mNameError\u001b[0m: name 'rtgs' is not defined"
     ]
    }
   ],
   "source": [
    "\n",
    "last_rating =rtgs.drop_duplicates(subset=['protag','stat'], keep='last')[['date','protag','stat','protag_postgame_rating']].copy()\n",
    "last_rating.sort_values(by=['protag_postgame_rating'], ascending=[False], inplace=True)\n",
    "last_rating"
   ]
  },
  {
   "cell_type": "code",
   "execution_count": 42,
   "metadata": {},
   "outputs": [],
   "source": [
    "test2 = last_rating.pivot(index=['date','protag'], columns=['stat'], values=['protag_postgame_rating']).reset_index()\n",
    "test2.columns=['date','protag','ppg','fg%']"
   ]
  },
  {
   "cell_type": "code",
   "execution_count": 43,
   "metadata": {},
   "outputs": [
    {
     "name": "stderr",
     "output_type": "stream",
     "text": [
      "C:\\Users\\Blake\\AppData\\Local\\Temp\\ipykernel_35324\\1000051891.py:1: FutureWarning: The default value of numeric_only in DataFrame.corr is deprecated. In a future version, it will default to False. Select only valid columns or specify the value of numeric_only to silence this warning.\n",
      "  test2.corr()\n"
     ]
    },
    {
     "data": {
      "text/html": [
       "<div>\n",
       "<style scoped>\n",
       "    .dataframe tbody tr th:only-of-type {\n",
       "        vertical-align: middle;\n",
       "    }\n",
       "\n",
       "    .dataframe tbody tr th {\n",
       "        vertical-align: top;\n",
       "    }\n",
       "\n",
       "    .dataframe thead th {\n",
       "        text-align: right;\n",
       "    }\n",
       "</style>\n",
       "<table border=\"1\" class=\"dataframe\">\n",
       "  <thead>\n",
       "    <tr style=\"text-align: right;\">\n",
       "      <th></th>\n",
       "      <th>ppg</th>\n",
       "      <th>fg%</th>\n",
       "    </tr>\n",
       "  </thead>\n",
       "  <tbody>\n",
       "    <tr>\n",
       "      <th>ppg</th>\n",
       "      <td>1.000000</td>\n",
       "      <td>0.818036</td>\n",
       "    </tr>\n",
       "    <tr>\n",
       "      <th>fg%</th>\n",
       "      <td>0.818036</td>\n",
       "      <td>1.000000</td>\n",
       "    </tr>\n",
       "  </tbody>\n",
       "</table>\n",
       "</div>"
      ],
      "text/plain": [
       "          ppg       fg%\n",
       "ppg  1.000000  0.818036\n",
       "fg%  0.818036  1.000000"
      ]
     },
     "execution_count": 43,
     "metadata": {},
     "output_type": "execute_result"
    }
   ],
   "source": [
    "test2.corr()"
   ]
  },
  {
   "cell_type": "code",
   "execution_count": 34,
   "metadata": {},
   "outputs": [
    {
     "data": {
      "text/html": [
       "<div>\n",
       "<style scoped>\n",
       "    .dataframe tbody tr th:only-of-type {\n",
       "        vertical-align: middle;\n",
       "    }\n",
       "\n",
       "    .dataframe tbody tr th {\n",
       "        vertical-align: top;\n",
       "    }\n",
       "\n",
       "    .dataframe thead th {\n",
       "        text-align: right;\n",
       "    }\n",
       "</style>\n",
       "<table border=\"1\" class=\"dataframe\">\n",
       "  <thead>\n",
       "    <tr style=\"text-align: right;\">\n",
       "      <th></th>\n",
       "      <th>date</th>\n",
       "      <th>team_name</th>\n",
       "      <th>opp_name</th>\n",
       "      <th>is_home</th>\n",
       "      <th>stat</th>\n",
       "      <th>stat_value</th>\n",
       "    </tr>\n",
       "  </thead>\n",
       "  <tbody>\n",
       "    <tr>\n",
       "      <th>0</th>\n",
       "      <td>2002-11-14</td>\n",
       "      <td>Alabama</td>\n",
       "      <td>Oklahoma</td>\n",
       "      <td>0</td>\n",
       "      <td>continuous_target</td>\n",
       "      <td>0.380952</td>\n",
       "    </tr>\n",
       "    <tr>\n",
       "      <th>1</th>\n",
       "      <td>2002-11-14</td>\n",
       "      <td>Memphis</td>\n",
       "      <td>Syracuse</td>\n",
       "      <td>0</td>\n",
       "      <td>continuous_target</td>\n",
       "      <td>0.404762</td>\n",
       "    </tr>\n",
       "    <tr>\n",
       "      <th>2</th>\n",
       "      <td>2002-11-14</td>\n",
       "      <td>Oklahoma</td>\n",
       "      <td>Alabama</td>\n",
       "      <td>0</td>\n",
       "      <td>continuous_target</td>\n",
       "      <td>0.309524</td>\n",
       "    </tr>\n",
       "    <tr>\n",
       "      <th>3</th>\n",
       "      <td>2002-11-14</td>\n",
       "      <td>Syracuse</td>\n",
       "      <td>Memphis</td>\n",
       "      <td>0</td>\n",
       "      <td>continuous_target</td>\n",
       "      <td>0.321429</td>\n",
       "    </tr>\n",
       "    <tr>\n",
       "      <th>4</th>\n",
       "      <td>2002-11-15</td>\n",
       "      <td>E Washington</td>\n",
       "      <td>Wisconsin</td>\n",
       "      <td>-1</td>\n",
       "      <td>continuous_target</td>\n",
       "      <td>0.226190</td>\n",
       "    </tr>\n",
       "    <tr>\n",
       "      <th>...</th>\n",
       "      <td>...</td>\n",
       "      <td>...</td>\n",
       "      <td>...</td>\n",
       "      <td>...</td>\n",
       "      <td>...</td>\n",
       "      <td>...</td>\n",
       "    </tr>\n",
       "    <tr>\n",
       "      <th>413115</th>\n",
       "      <td>2022-04-02</td>\n",
       "      <td>Kansas</td>\n",
       "      <td>Villanova</td>\n",
       "      <td>0</td>\n",
       "      <td>continuous_target_2</td>\n",
       "      <td>0.537037</td>\n",
       "    </tr>\n",
       "    <tr>\n",
       "      <th>413116</th>\n",
       "      <td>2022-04-02</td>\n",
       "      <td>North Carolina</td>\n",
       "      <td>Duke</td>\n",
       "      <td>0</td>\n",
       "      <td>continuous_target_2</td>\n",
       "      <td>0.421875</td>\n",
       "    </tr>\n",
       "    <tr>\n",
       "      <th>413117</th>\n",
       "      <td>2022-04-02</td>\n",
       "      <td>Villanova</td>\n",
       "      <td>Kansas</td>\n",
       "      <td>0</td>\n",
       "      <td>continuous_target_2</td>\n",
       "      <td>0.385965</td>\n",
       "    </tr>\n",
       "    <tr>\n",
       "      <th>413118</th>\n",
       "      <td>2022-04-04</td>\n",
       "      <td>Kansas</td>\n",
       "      <td>North Carolina</td>\n",
       "      <td>0</td>\n",
       "      <td>continuous_target_2</td>\n",
       "      <td>0.439394</td>\n",
       "    </tr>\n",
       "    <tr>\n",
       "      <th>413119</th>\n",
       "      <td>2022-04-04</td>\n",
       "      <td>North Carolina</td>\n",
       "      <td>Kansas</td>\n",
       "      <td>0</td>\n",
       "      <td>continuous_target_2</td>\n",
       "      <td>0.315068</td>\n",
       "    </tr>\n",
       "  </tbody>\n",
       "</table>\n",
       "<p>413120 rows × 6 columns</p>\n",
       "</div>"
      ],
      "text/plain": [
       "             date       team_name        opp_name  is_home  \\\n",
       "0      2002-11-14         Alabama        Oklahoma        0   \n",
       "1      2002-11-14         Memphis        Syracuse        0   \n",
       "2      2002-11-14        Oklahoma         Alabama        0   \n",
       "3      2002-11-14        Syracuse         Memphis        0   \n",
       "4      2002-11-15    E Washington       Wisconsin       -1   \n",
       "...           ...             ...             ...      ...   \n",
       "413115 2022-04-02          Kansas       Villanova        0   \n",
       "413116 2022-04-02  North Carolina            Duke        0   \n",
       "413117 2022-04-02       Villanova          Kansas        0   \n",
       "413118 2022-04-04          Kansas  North Carolina        0   \n",
       "413119 2022-04-04  North Carolina          Kansas        0   \n",
       "\n",
       "                       stat  stat_value  \n",
       "0         continuous_target    0.380952  \n",
       "1         continuous_target    0.404762  \n",
       "2         continuous_target    0.309524  \n",
       "3         continuous_target    0.321429  \n",
       "4         continuous_target    0.226190  \n",
       "...                     ...         ...  \n",
       "413115  continuous_target_2    0.537037  \n",
       "413116  continuous_target_2    0.421875  \n",
       "413117  continuous_target_2    0.385965  \n",
       "413118  continuous_target_2    0.439394  \n",
       "413119  continuous_target_2    0.315068  \n",
       "\n",
       "[413120 rows x 6 columns]"
      ]
     },
     "execution_count": 34,
     "metadata": {},
     "output_type": "execute_result"
    }
   ],
   "source": [
    "m_data.melt(id_vars=['date', 'team_name', 'opp_name', 'is_home'], value_vars=['continuous_target', 'continuous_target_2'], var_name='stat', value_name='stat_value')"
   ]
  },
  {
   "cell_type": "code",
   "execution_count": null,
   "metadata": {},
   "outputs": [],
   "source": []
  },
  {
   "cell_type": "code",
   "execution_count": null,
   "metadata": {},
   "outputs": [],
   "source": []
  },
  {
   "cell_type": "code",
   "execution_count": 33,
   "metadata": {},
   "outputs": [
    {
     "data": {
      "text/html": [
       "<div>\n",
       "<style scoped>\n",
       "    .dataframe tbody tr th:only-of-type {\n",
       "        vertical-align: middle;\n",
       "    }\n",
       "\n",
       "    .dataframe tbody tr th {\n",
       "        vertical-align: top;\n",
       "    }\n",
       "\n",
       "    .dataframe thead th {\n",
       "        text-align: right;\n",
       "    }\n",
       "</style>\n",
       "<table border=\"1\" class=\"dataframe\">\n",
       "  <thead>\n",
       "    <tr style=\"text-align: right;\">\n",
       "      <th></th>\n",
       "      <th>season</th>\n",
       "      <th>team_score</th>\n",
       "      <th>opp_score</th>\n",
       "      <th>is_home</th>\n",
       "      <th>numot</th>\n",
       "      <th>team_fgm</th>\n",
       "      <th>team_fga</th>\n",
       "      <th>team_fgm3</th>\n",
       "      <th>team_fga3</th>\n",
       "      <th>team_ftm</th>\n",
       "      <th>...</th>\n",
       "      <th>opp_ast</th>\n",
       "      <th>opp_to</th>\n",
       "      <th>opp_stl</th>\n",
       "      <th>opp_blk</th>\n",
       "      <th>opp_pf</th>\n",
       "      <th>team_name</th>\n",
       "      <th>opp_name</th>\n",
       "      <th>date</th>\n",
       "      <th>continuous_target</th>\n",
       "      <th>continuous_target_2</th>\n",
       "    </tr>\n",
       "  </thead>\n",
       "  <tbody>\n",
       "    <tr>\n",
       "      <th>0</th>\n",
       "      <td>2003</td>\n",
       "      <td>68</td>\n",
       "      <td>62</td>\n",
       "      <td>0</td>\n",
       "      <td>0</td>\n",
       "      <td>27</td>\n",
       "      <td>58</td>\n",
       "      <td>3</td>\n",
       "      <td>14</td>\n",
       "      <td>11</td>\n",
       "      <td>...</td>\n",
       "      <td>8</td>\n",
       "      <td>18</td>\n",
       "      <td>9</td>\n",
       "      <td>2</td>\n",
       "      <td>20</td>\n",
       "      <td>Alabama</td>\n",
       "      <td>Oklahoma</td>\n",
       "      <td>2002-11-14</td>\n",
       "      <td>0.380952</td>\n",
       "      <td>0.465517</td>\n",
       "    </tr>\n",
       "    <tr>\n",
       "      <th>1</th>\n",
       "      <td>2003</td>\n",
       "      <td>70</td>\n",
       "      <td>63</td>\n",
       "      <td>0</td>\n",
       "      <td>0</td>\n",
       "      <td>26</td>\n",
       "      <td>62</td>\n",
       "      <td>8</td>\n",
       "      <td>20</td>\n",
       "      <td>10</td>\n",
       "      <td>...</td>\n",
       "      <td>7</td>\n",
       "      <td>12</td>\n",
       "      <td>8</td>\n",
       "      <td>6</td>\n",
       "      <td>16</td>\n",
       "      <td>Memphis</td>\n",
       "      <td>Syracuse</td>\n",
       "      <td>2002-11-14</td>\n",
       "      <td>0.404762</td>\n",
       "      <td>0.419355</td>\n",
       "    </tr>\n",
       "    <tr>\n",
       "      <th>2</th>\n",
       "      <td>2003</td>\n",
       "      <td>62</td>\n",
       "      <td>68</td>\n",
       "      <td>0</td>\n",
       "      <td>0</td>\n",
       "      <td>22</td>\n",
       "      <td>53</td>\n",
       "      <td>2</td>\n",
       "      <td>10</td>\n",
       "      <td>16</td>\n",
       "      <td>...</td>\n",
       "      <td>13</td>\n",
       "      <td>23</td>\n",
       "      <td>7</td>\n",
       "      <td>1</td>\n",
       "      <td>22</td>\n",
       "      <td>Oklahoma</td>\n",
       "      <td>Alabama</td>\n",
       "      <td>2002-11-14</td>\n",
       "      <td>0.309524</td>\n",
       "      <td>0.415094</td>\n",
       "    </tr>\n",
       "    <tr>\n",
       "      <th>3</th>\n",
       "      <td>2003</td>\n",
       "      <td>63</td>\n",
       "      <td>70</td>\n",
       "      <td>0</td>\n",
       "      <td>0</td>\n",
       "      <td>24</td>\n",
       "      <td>67</td>\n",
       "      <td>6</td>\n",
       "      <td>24</td>\n",
       "      <td>9</td>\n",
       "      <td>...</td>\n",
       "      <td>16</td>\n",
       "      <td>13</td>\n",
       "      <td>4</td>\n",
       "      <td>4</td>\n",
       "      <td>18</td>\n",
       "      <td>Syracuse</td>\n",
       "      <td>Memphis</td>\n",
       "      <td>2002-11-14</td>\n",
       "      <td>0.321429</td>\n",
       "      <td>0.358209</td>\n",
       "    </tr>\n",
       "    <tr>\n",
       "      <th>4</th>\n",
       "      <td>2003</td>\n",
       "      <td>55</td>\n",
       "      <td>81</td>\n",
       "      <td>-1</td>\n",
       "      <td>0</td>\n",
       "      <td>20</td>\n",
       "      <td>46</td>\n",
       "      <td>3</td>\n",
       "      <td>11</td>\n",
       "      <td>12</td>\n",
       "      <td>...</td>\n",
       "      <td>12</td>\n",
       "      <td>9</td>\n",
       "      <td>9</td>\n",
       "      <td>3</td>\n",
       "      <td>18</td>\n",
       "      <td>E Washington</td>\n",
       "      <td>Wisconsin</td>\n",
       "      <td>2002-11-15</td>\n",
       "      <td>0.226190</td>\n",
       "      <td>0.434783</td>\n",
       "    </tr>\n",
       "    <tr>\n",
       "      <th>...</th>\n",
       "      <td>...</td>\n",
       "      <td>...</td>\n",
       "      <td>...</td>\n",
       "      <td>...</td>\n",
       "      <td>...</td>\n",
       "      <td>...</td>\n",
       "      <td>...</td>\n",
       "      <td>...</td>\n",
       "      <td>...</td>\n",
       "      <td>...</td>\n",
       "      <td>...</td>\n",
       "      <td>...</td>\n",
       "      <td>...</td>\n",
       "      <td>...</td>\n",
       "      <td>...</td>\n",
       "      <td>...</td>\n",
       "      <td>...</td>\n",
       "      <td>...</td>\n",
       "      <td>...</td>\n",
       "      <td>...</td>\n",
       "      <td>...</td>\n",
       "    </tr>\n",
       "    <tr>\n",
       "      <th>206555</th>\n",
       "      <td>2022</td>\n",
       "      <td>81</td>\n",
       "      <td>65</td>\n",
       "      <td>0</td>\n",
       "      <td>0</td>\n",
       "      <td>29</td>\n",
       "      <td>54</td>\n",
       "      <td>13</td>\n",
       "      <td>24</td>\n",
       "      <td>10</td>\n",
       "      <td>...</td>\n",
       "      <td>12</td>\n",
       "      <td>9</td>\n",
       "      <td>3</td>\n",
       "      <td>0</td>\n",
       "      <td>11</td>\n",
       "      <td>Kansas</td>\n",
       "      <td>Villanova</td>\n",
       "      <td>2022-04-02</td>\n",
       "      <td>0.535714</td>\n",
       "      <td>0.537037</td>\n",
       "    </tr>\n",
       "    <tr>\n",
       "      <th>206556</th>\n",
       "      <td>2022</td>\n",
       "      <td>81</td>\n",
       "      <td>77</td>\n",
       "      <td>0</td>\n",
       "      <td>0</td>\n",
       "      <td>27</td>\n",
       "      <td>64</td>\n",
       "      <td>10</td>\n",
       "      <td>26</td>\n",
       "      <td>17</td>\n",
       "      <td>...</td>\n",
       "      <td>12</td>\n",
       "      <td>4</td>\n",
       "      <td>7</td>\n",
       "      <td>4</td>\n",
       "      <td>18</td>\n",
       "      <td>North Carolina</td>\n",
       "      <td>Duke</td>\n",
       "      <td>2022-04-02</td>\n",
       "      <td>0.535714</td>\n",
       "      <td>0.421875</td>\n",
       "    </tr>\n",
       "    <tr>\n",
       "      <th>206557</th>\n",
       "      <td>2022</td>\n",
       "      <td>65</td>\n",
       "      <td>81</td>\n",
       "      <td>0</td>\n",
       "      <td>0</td>\n",
       "      <td>22</td>\n",
       "      <td>57</td>\n",
       "      <td>13</td>\n",
       "      <td>31</td>\n",
       "      <td>8</td>\n",
       "      <td>...</td>\n",
       "      <td>18</td>\n",
       "      <td>7</td>\n",
       "      <td>4</td>\n",
       "      <td>4</td>\n",
       "      <td>8</td>\n",
       "      <td>Villanova</td>\n",
       "      <td>Kansas</td>\n",
       "      <td>2022-04-02</td>\n",
       "      <td>0.345238</td>\n",
       "      <td>0.385965</td>\n",
       "    </tr>\n",
       "    <tr>\n",
       "      <th>206558</th>\n",
       "      <td>2022</td>\n",
       "      <td>72</td>\n",
       "      <td>69</td>\n",
       "      <td>0</td>\n",
       "      <td>0</td>\n",
       "      <td>29</td>\n",
       "      <td>66</td>\n",
       "      <td>6</td>\n",
       "      <td>17</td>\n",
       "      <td>8</td>\n",
       "      <td>...</td>\n",
       "      <td>9</td>\n",
       "      <td>13</td>\n",
       "      <td>2</td>\n",
       "      <td>6</td>\n",
       "      <td>13</td>\n",
       "      <td>Kansas</td>\n",
       "      <td>North Carolina</td>\n",
       "      <td>2022-04-04</td>\n",
       "      <td>0.428571</td>\n",
       "      <td>0.439394</td>\n",
       "    </tr>\n",
       "    <tr>\n",
       "      <th>206559</th>\n",
       "      <td>2022</td>\n",
       "      <td>69</td>\n",
       "      <td>72</td>\n",
       "      <td>0</td>\n",
       "      <td>0</td>\n",
       "      <td>23</td>\n",
       "      <td>73</td>\n",
       "      <td>5</td>\n",
       "      <td>23</td>\n",
       "      <td>18</td>\n",
       "      <td>...</td>\n",
       "      <td>11</td>\n",
       "      <td>9</td>\n",
       "      <td>6</td>\n",
       "      <td>5</td>\n",
       "      <td>16</td>\n",
       "      <td>North Carolina</td>\n",
       "      <td>Kansas</td>\n",
       "      <td>2022-04-04</td>\n",
       "      <td>0.392857</td>\n",
       "      <td>0.315068</td>\n",
       "    </tr>\n",
       "  </tbody>\n",
       "</table>\n",
       "<p>206560 rows × 36 columns</p>\n",
       "</div>"
      ],
      "text/plain": [
       "        season  team_score  opp_score  is_home  numot  team_fgm  team_fga  \\\n",
       "0         2003          68         62        0      0        27        58   \n",
       "1         2003          70         63        0      0        26        62   \n",
       "2         2003          62         68        0      0        22        53   \n",
       "3         2003          63         70        0      0        24        67   \n",
       "4         2003          55         81       -1      0        20        46   \n",
       "...        ...         ...        ...      ...    ...       ...       ...   \n",
       "206555    2022          81         65        0      0        29        54   \n",
       "206556    2022          81         77        0      0        27        64   \n",
       "206557    2022          65         81        0      0        22        57   \n",
       "206558    2022          72         69        0      0        29        66   \n",
       "206559    2022          69         72        0      0        23        73   \n",
       "\n",
       "        team_fgm3  team_fga3  team_ftm  ...  opp_ast  opp_to  opp_stl  \\\n",
       "0               3         14        11  ...        8      18        9   \n",
       "1               8         20        10  ...        7      12        8   \n",
       "2               2         10        16  ...       13      23        7   \n",
       "3               6         24         9  ...       16      13        4   \n",
       "4               3         11        12  ...       12       9        9   \n",
       "...           ...        ...       ...  ...      ...     ...      ...   \n",
       "206555         13         24        10  ...       12       9        3   \n",
       "206556         10         26        17  ...       12       4        7   \n",
       "206557         13         31         8  ...       18       7        4   \n",
       "206558          6         17         8  ...        9      13        2   \n",
       "206559          5         23        18  ...       11       9        6   \n",
       "\n",
       "        opp_blk  opp_pf       team_name        opp_name       date  \\\n",
       "0             2      20         Alabama        Oklahoma 2002-11-14   \n",
       "1             6      16         Memphis        Syracuse 2002-11-14   \n",
       "2             1      22        Oklahoma         Alabama 2002-11-14   \n",
       "3             4      18        Syracuse         Memphis 2002-11-14   \n",
       "4             3      18    E Washington       Wisconsin 2002-11-15   \n",
       "...         ...     ...             ...             ...        ...   \n",
       "206555        0      11          Kansas       Villanova 2022-04-02   \n",
       "206556        4      18  North Carolina            Duke 2022-04-02   \n",
       "206557        4       8       Villanova          Kansas 2022-04-02   \n",
       "206558        6      13          Kansas  North Carolina 2022-04-04   \n",
       "206559        5      16  North Carolina          Kansas 2022-04-04   \n",
       "\n",
       "        continuous_target  continuous_target_2  \n",
       "0                0.380952             0.465517  \n",
       "1                0.404762             0.419355  \n",
       "2                0.309524             0.415094  \n",
       "3                0.321429             0.358209  \n",
       "4                0.226190             0.434783  \n",
       "...                   ...                  ...  \n",
       "206555           0.535714             0.537037  \n",
       "206556           0.535714             0.421875  \n",
       "206557           0.345238             0.385965  \n",
       "206558           0.428571             0.439394  \n",
       "206559           0.392857             0.315068  \n",
       "\n",
       "[206560 rows x 36 columns]"
      ]
     },
     "execution_count": 33,
     "metadata": {},
     "output_type": "execute_result"
    }
   ],
   "source": [
    "m_data"
   ]
  },
  {
   "cell_type": "code",
   "execution_count": 7,
   "metadata": {},
   "outputs": [
    {
     "data": {
      "text/plain": [
       "149"
      ]
     },
     "execution_count": 7,
     "metadata": {},
     "output_type": "execute_result"
    }
   ],
   "source": []
  },
  {
   "cell_type": "code",
   "execution_count": null,
   "metadata": {},
   "outputs": [],
   "source": []
  },
  {
   "cell_type": "code",
   "execution_count": null,
   "metadata": {},
   "outputs": [],
   "source": []
  },
  {
   "cell_type": "code",
   "execution_count": null,
   "metadata": {},
   "outputs": [],
   "source": []
  },
  {
   "cell_type": "code",
   "execution_count": null,
   "metadata": {},
   "outputs": [],
   "source": []
  },
  {
   "cell_type": "code",
   "execution_count": null,
   "metadata": {},
   "outputs": [],
   "source": []
  },
  {
   "cell_type": "code",
   "execution_count": null,
   "metadata": {},
   "outputs": [],
   "source": []
  }
 ],
 "metadata": {
  "kernelspec": {
   "display_name": "base",
   "language": "python",
   "name": "python3"
  },
  "language_info": {
   "codemirror_mode": {
    "name": "ipython",
    "version": 3
   },
   "file_extension": ".py",
   "mimetype": "text/x-python",
   "name": "python",
   "nbconvert_exporter": "python",
   "pygments_lexer": "ipython3",
   "version": "3.11.4"
  }
 },
 "nbformat": 4,
 "nbformat_minor": 2
}
