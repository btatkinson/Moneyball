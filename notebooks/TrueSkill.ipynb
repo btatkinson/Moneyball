{
 "cells": [
  {
   "cell_type": "markdown",
   "id": "84183b3e",
   "metadata": {},
   "source": [
    "# TrueSkill\n",
    "\n",
    "TrueSkill was developed in 2006 by a team at Microsoft. It was a step forward for state space models. It relies on Bayesian methods to fit player skill, and has the advantage that it is even *more* flexible than Elo because it can handle various team formats. Whereas Elo has no natural notion of teammate skill, TrueSkill takes into account if a player has strong or weak teammates. It is designed to handle one v one, one v many, and many v many competitions. It can even cope with teams of unequal size. TrueSkill still makes a couple of assumptions, like team skill is equal to adding player skills. This is probably not true in a sport like basketball, where there is only one ball, and so there is diminishing returns on adding offensively talented players. I.e., a 5 person team of 45% shooters will likely not shoot 15% better than a 5 person team of 42% shooters. \n",
    "\n",
    "### Advantages\n",
    "- Flexibility/Universality\n",
    "- Converges very quickly\n",
    "- Because it is a hidden markov style rating, it is usually still faster than the methods that look at global results at every iteration.\n",
    "\n",
    "### Disadvantages\n",
    "- Slower/more computationally intense than other hidden markov methods because it relies on Bayesian convergence\n",
    "- Parameter sensitivity - slightly wrong parameters can give bad results\n",
    "- Does not account for score difference\n"
   ]
  },
  {
   "cell_type": "code",
   "execution_count": null,
   "id": "b97ada4c",
   "metadata": {},
   "outputs": [],
   "source": []
  }
 ],
 "metadata": {
  "kernelspec": {
   "display_name": "Python 3 (ipykernel)",
   "language": "python",
   "name": "python3"
  },
  "language_info": {
   "codemirror_mode": {
    "name": "ipython",
    "version": 3
   },
   "file_extension": ".py",
   "mimetype": "text/x-python",
   "name": "python",
   "nbconvert_exporter": "python",
   "pygments_lexer": "ipython3",
   "version": "3.9.13"
  }
 },
 "nbformat": 4,
 "nbformat_minor": 5
}
