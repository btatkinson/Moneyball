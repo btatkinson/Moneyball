{
 "cells": [
  {
   "cell_type": "code",
   "execution_count": 1,
   "id": "a67feae3",
   "metadata": {},
   "outputs": [
    {
     "ename": "ModuleNotFoundError",
     "evalue": "No module named 'faker'",
     "output_type": "error",
     "traceback": [
      "\u001b[1;31m---------------------------------------------------------------------------\u001b[0m",
      "\u001b[1;31mModuleNotFoundError\u001b[0m                       Traceback (most recent call last)",
      "Cell \u001b[1;32mIn[1], line 10\u001b[0m\n\u001b[0;32m      6\u001b[0m \u001b[38;5;28;01mimport\u001b[39;00m \u001b[38;5;21;01mseaborn\u001b[39;00m \u001b[38;5;28;01mas\u001b[39;00m \u001b[38;5;21;01msns\u001b[39;00m\n\u001b[0;32m      9\u001b[0m \u001b[38;5;28;01mfrom\u001b[39;00m \u001b[38;5;21;01mtqdm\u001b[39;00m \u001b[38;5;28;01mimport\u001b[39;00m tqdm\n\u001b[1;32m---> 10\u001b[0m \u001b[38;5;28;01mfrom\u001b[39;00m \u001b[38;5;21;01mfaker\u001b[39;00m \u001b[38;5;28;01mimport\u001b[39;00m Faker\n\u001b[0;32m     11\u001b[0m \u001b[38;5;28;01mfrom\u001b[39;00m \u001b[38;5;21;01mitertools\u001b[39;00m \u001b[38;5;28;01mimport\u001b[39;00m combinations\n",
      "\u001b[1;31mModuleNotFoundError\u001b[0m: No module named 'faker'"
     ]
    }
   ],
   "source": [
    "\n",
    "import random\n",
    "\n",
    "import numpy as np\n",
    "import pandas as pd\n",
    "import networkx as nx\n",
    "import seaborn as sns\n",
    "\n",
    "\n",
    "from tqdm import tqdm\n",
    "from faker import Faker\n",
    "from itertools import combinations\n"
   ]
  },
  {
   "cell_type": "code",
   "execution_count": 2,
   "id": "415dee89",
   "metadata": {},
   "outputs": [
    {
     "name": "stdout",
     "output_type": "stream",
     "text": [
      "Collecting faker\n",
      "  Downloading Faker-19.2.0-py3-none-any.whl (1.7 MB)\n",
      "                                              0.0/1.7 MB ? eta -:--:--\n",
      "                                              0.0/1.7 MB ? eta -:--:--\n",
      "                                              0.0/1.7 MB ? eta -:--:--\n",
      "     --                                       0.1/1.7 MB 581.0 kB/s eta 0:00:03\n",
      "     --                                       0.1/1.7 MB 581.0 kB/s eta 0:00:03\n",
      "     --                                       0.1/1.7 MB 581.0 kB/s eta 0:00:03\n",
      "     --                                       0.1/1.7 MB 581.0 kB/s eta 0:00:03\n",
      "     --                                       0.1/1.7 MB 581.0 kB/s eta 0:00:03\n",
      "     ---                                      0.2/1.7 MB 392.8 kB/s eta 0:00:04\n",
      "     -----                                    0.2/1.7 MB 550.0 kB/s eta 0:00:03\n",
      "     -----                                    0.2/1.7 MB 480.3 kB/s eta 0:00:04\n",
      "     ------                                   0.3/1.7 MB 570.1 kB/s eta 0:00:03\n",
      "     ------                                   0.3/1.7 MB 570.1 kB/s eta 0:00:03\n",
      "     ------------                             0.5/1.7 MB 852.0 kB/s eta 0:00:02\n",
      "     ------------                             0.5/1.7 MB 852.0 kB/s eta 0:00:02\n",
      "     ---------------                          0.7/1.7 MB 932.2 kB/s eta 0:00:02\n",
      "     ---------------                          0.7/1.7 MB 932.2 kB/s eta 0:00:02\n",
      "     ---------------                          0.7/1.7 MB 932.2 kB/s eta 0:00:02\n",
      "     ----------------------                   1.0/1.7 MB 1.1 MB/s eta 0:00:01\n",
      "     ----------------------                   1.0/1.7 MB 1.1 MB/s eta 0:00:01\n",
      "     ----------------------                   1.0/1.7 MB 1.1 MB/s eta 0:00:01\n",
      "     ----------------------                   1.0/1.7 MB 1.1 MB/s eta 0:00:01\n",
      "     ----------------------                   1.0/1.7 MB 1.1 MB/s eta 0:00:01\n",
      "     ----------------------                   1.0/1.7 MB 1.1 MB/s eta 0:00:01\n",
      "     ----------------------                   1.0/1.7 MB 1.1 MB/s eta 0:00:01\n",
      "     ----------------------                   1.0/1.7 MB 1.1 MB/s eta 0:00:01\n",
      "     ----------------------------------       1.5/1.7 MB 1.2 MB/s eta 0:00:01\n",
      "     ------------------------------------     1.5/1.7 MB 1.2 MB/s eta 0:00:01\n",
      "     ------------------------------------     1.5/1.7 MB 1.2 MB/s eta 0:00:01\n",
      "     ---------------------------------------- 1.7/1.7 MB 1.3 MB/s eta 0:00:00\n",
      "Requirement already satisfied: python-dateutil>=2.4 in c:\\users\\blake\\anaconda3\\lib\\site-packages (from faker) (2.8.2)\n",
      "Requirement already satisfied: six>=1.5 in c:\\users\\blake\\anaconda3\\lib\\site-packages (from python-dateutil>=2.4->faker) (1.16.0)\n",
      "Installing collected packages: faker\n",
      "Successfully installed faker-19.2.0\n"
     ]
    }
   ],
   "source": [
    "\n",
    "!pip install faker\n",
    "\n"
   ]
  },
  {
   "cell_type": "code",
   "execution_count": null,
   "id": "988b69c8",
   "metadata": {},
   "outputs": [],
   "source": []
  },
  {
   "cell_type": "code",
   "execution_count": null,
   "id": "7b0b98d3",
   "metadata": {},
   "outputs": [],
   "source": []
  },
  {
   "cell_type": "code",
   "execution_count": null,
   "id": "a1a6d827",
   "metadata": {},
   "outputs": [],
   "source": []
  },
  {
   "cell_type": "code",
   "execution_count": null,
   "id": "e3d352d6",
   "metadata": {},
   "outputs": [],
   "source": []
  },
  {
   "cell_type": "code",
   "execution_count": null,
   "id": "cdb67e33",
   "metadata": {},
   "outputs": [],
   "source": []
  }
 ],
 "metadata": {
  "kernelspec": {
   "display_name": "Python 3 (ipykernel)",
   "language": "python",
   "name": "python3"
  },
  "language_info": {
   "codemirror_mode": {
    "name": "ipython",
    "version": 3
   },
   "file_extension": ".py",
   "mimetype": "text/x-python",
   "name": "python",
   "nbconvert_exporter": "python",
   "pygments_lexer": "ipython3",
   "version": "3.11.3"
  }
 },
 "nbformat": 4,
 "nbformat_minor": 5
}
