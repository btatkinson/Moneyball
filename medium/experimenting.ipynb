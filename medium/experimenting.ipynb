{
 "cells": [
  {
   "cell_type": "code",
   "execution_count": 141,
   "id": "6fde8802",
   "metadata": {},
   "outputs": [],
   "source": [
    "\n",
    "# import torch\n",
    "import gc\n",
    "import os\n",
    "gc.collect()\n",
    "import random\n",
    "import itertools\n",
    "\n",
    "import numpy as np\n",
    "import pandas as pd\n",
    "import networkx as nx\n",
    "import seaborn as sns\n",
    "import matplotlib.pyplot as plt\n",
    "\n",
    "from tqdm import tqdm\n",
    "from faker import Faker\n",
    "from itertools import combinations\n",
    "from scipy.stats import entropy,spearmanr\n"
   ]
  },
  {
   "cell_type": "code",
   "execution_count": 58,
   "id": "7ba587c4",
   "metadata": {},
   "outputs": [],
   "source": [
    "\n",
    "\n",
    "def pagerank(A, num_iterations=10, d=0.99):\n",
    "    \"\"\"\n",
    "    Calculate PageRank for a transition matrix A using the power iteration method.\n",
    "    \n",
    "    Parameters:\n",
    "    - A: numpy array, the transition matrix where A[i][j] is the probability of moving from node i to node j.\n",
    "    - num_iterations: int, the number of power iterations to perform.\n",
    "    - d: float, the dampening factor.\n",
    "    \n",
    "    Returns:\n",
    "    - v: numpy array, the PageRank vector.\n",
    "    \"\"\"\n",
    "    \n",
    "    # Number of nodes\n",
    "    N = A.shape[0]\n",
    "\n",
    "    # Normalize the matrix so that columns sum to 1\n",
    "    epsilon = 1e-6\n",
    "    col_sums = A.sum(axis=0, keepdims=True) + epsilon\n",
    "    normalized_matrix = A / col_sums\n",
    "\n",
    "    # Apply dampening\n",
    "    S = np.ones((N, N)) / N\n",
    "    M = d * normalized_matrix + (1 - d) * S\n",
    "\n",
    "    # Initialize the PageRank vector\n",
    "    v = np.ones(N) / N\n",
    "\n",
    "    # Power iteration\n",
    "    for _ in range(num_iterations):\n",
    "        v = M @ v\n",
    "\n",
    "    # Normalize the result\n",
    "    v /= v.sum()\n",
    "\n",
    "    return v\n"
   ]
  },
  {
   "cell_type": "code",
   "execution_count": 69,
   "id": "432aa92d",
   "metadata": {},
   "outputs": [
    {
     "data": {
      "text/plain": [
       "array([0.36785193, 0.35165667, 0.19468157, 0.08580984])"
      ]
     },
     "execution_count": 69,
     "metadata": {},
     "output_type": "execute_result"
    }
   ],
   "source": [
    "## Four team system\n",
    "## A beats B\n",
    "## C beats D\n",
    "## Four team system\n",
    "## A beats B\n",
    "## C beats D\n",
    "A = np.array([\n",
    "    [0, 76, 91, 97],\n",
    "    [24, 0, 76, 91],\n",
    "    [9, 24, 0, 76],\n",
    "    [3, 9, 24, 0]\n",
    "])\n",
    "\n",
    "t1 = pagerank(A, d=0.99)\n",
    "t1\n"
   ]
  },
  {
   "cell_type": "code",
   "execution_count": 132,
   "id": "fa86d75a",
   "metadata": {},
   "outputs": [
    {
     "data": {
      "text/plain": [
       "array([0.8332678 , 0.11728554, 0.03430878, 0.01513788])"
      ]
     },
     "execution_count": 132,
     "metadata": {},
     "output_type": "execute_result"
    }
   ],
   "source": [
    "\n",
    "\n",
    "A = np.array([\n",
    "    [0, 76-24, 91-9, 97-3],\n",
    "    [0, 0, 76-24, 91-9],\n",
    "    [0, 0, 0, 76-24],\n",
    "    [0, 0, 0, 0]\n",
    "])\n",
    "\n",
    "t2 = pagerank(A, d=0.99)\n",
    "t2\n"
   ]
  },
  {
   "cell_type": "code",
   "execution_count": 152,
   "id": "97829ab6",
   "metadata": {},
   "outputs": [],
   "source": [
    "\n",
    "# Function to calculate win probability based on Elo ratings\n",
    "def win_probability(elo_a, elo_b):\n",
    "    return 1 / (1 + 10**((elo_b - elo_a) / 400))\n",
    "\n",
    "def simulate_games(elo_avgs= {'North': 1600, 'East': 1500, 'South': 1400}, \n",
    "                   elo_std_dev = 50, \n",
    "                   num_teams_per_division=6):\n",
    "    \n",
    "    # Generate Elo ratings\n",
    "    elo_ratings = {}\n",
    "    team_names = []\n",
    "    for division, avg in elo_avgs.items():\n",
    "        elo_ratings[division] = np.random.normal(avg, elo_std, num_teams_per_division)\n",
    "        for i in range(num_teams_per_division):\n",
    "            team_names.append(f\"{division}_Team{i+1}\")\n",
    "            \n",
    "            \n",
    "            \n",
    "    # Setting up the schedule\n",
    "    conference_games = []\n",
    "    non_conference_games = []\n",
    "\n",
    "    # Conference games\n",
    "    for division, teams_elo in elo_ratings.items():\n",
    "        already_played = []\n",
    "        for i in range(num_teams_per_division):\n",
    "            for j in range(num_teams_per_division):\n",
    "                if i != j:  # A team doesn't play against itself\n",
    "                    if (j,i) not in already_played:\n",
    "                        if (i,j) not in already_played:\n",
    "                            already_played.append((j, i))\n",
    "                            already_played.append((i, j))\n",
    "                            conference_games.append((f\"{division}_Team{i+1}\", f\"{division}_Team{j+1}\"))\n",
    "                            conference_games.append((f\"{division}_Team{j+1}\", f\"{division}_Team{i+1}\"))\n",
    "\n",
    "    # Correcting the non-conference games setup\n",
    "    non_conference_games = []\n",
    "    # Ensure we have 5 non-conference games for each team\n",
    "    non_conference_counts = {team: 0 for team in team_names}\n",
    "\n",
    "    non_con_poss = combinations(team_names, 2)\n",
    "    non_conference_games = []\n",
    "    for ncp in non_con_poss:\n",
    "        ## remove same division matchups\n",
    "        if ncp[0][:ncp[0].find('_')] != ncp[1][:ncp[1].find('_')]:\n",
    "            ## only play four non cons\n",
    "            if ((ncp[0][-1] == ncp[1][-1])|\\\n",
    "                (str(int(ncp[0][-1])+1) == ncp[1][-1])|\\\n",
    "                ((ncp[0][-1]==str(num_teams_per_division)) & (ncp[1][-1]==str(1)))):\n",
    "                non_conference_games.append(ncp)\n",
    "        \n",
    "    # Simulate game outcomes\n",
    "    results = []\n",
    "    for game in conference_games + non_conference_games:\n",
    "        team_a, team_b = game\n",
    "        division_a, division_b = team_a.split('_')[0], team_b.split('_')[0]\n",
    "        elo_a, elo_b = elo_ratings[division_a][int(team_a.split('_')[1][-1])-1], elo_ratings[division_b][int(team_b.split('_')[1][-1])-1]\n",
    "        prob_a_wins = win_probability(elo_a, elo_b)\n",
    "        result = 'A' if np.random.rand() < prob_a_wins else 'B'\n",
    "        results.append((team_a, team_b, result))\n",
    "\n",
    "\n",
    "    # Construct the matrices\n",
    "    mutual_matrix = np.zeros((num_teams, num_teams))\n",
    "    directed_matrix = np.zeros((num_teams, num_teams))\n",
    "    for game in results:\n",
    "        team_a_idx = team_names.index(game[0])\n",
    "        team_b_idx = team_names.index(game[1])\n",
    "        if game[2] == 'A':  # Team A won\n",
    "            mutual_matrix[team_a_idx][team_b_idx] += 1\n",
    "            mutual_matrix[team_b_idx][team_a_idx] -= 1\n",
    "            directed_matrix[team_a_idx][team_b_idx] += 1\n",
    "        else:  # Team B won\n",
    "            mutual_matrix[team_a_idx][team_b_idx] -= 1\n",
    "            mutual_matrix[team_b_idx][team_a_idx] += 1\n",
    "            directed_matrix[team_b_idx][team_a_idx] += 1\n",
    "            \n",
    "    return mutual_matrix, directed_matrix, elo_ratings, team_names\n",
    "    \n",
    "def compute_rankings(matrix):\n",
    "    \"\"\"\n",
    "    Compute rankings of teams based on the given matrix.\n",
    "    \"\"\"\n",
    "    scores = pagerank(matrix, d=0.99)\n",
    "    ranked_teams = [x for _, x in sorted(zip(scores, team_names), reverse=True)]\n",
    "    return scores, ranked_teams\n",
    "\n",
    "def evaluate_rankings(true_ratings, ranked_teams):\n",
    "    \"\"\"\n",
    "    Evaluate the rankings using Spearman rank correlation.\n",
    "    \"\"\"\n",
    "    true_ranked = sorted(true_ratings, key=true_ratings.get, reverse=True)\n",
    "    correlation, _ = spearmanr(true_ranked, ranked_teams)\n",
    "    return correlation\n",
    "\n",
    "# Test the process\n",
    "mutual_matrix, directed_matrix, true_ratings, team_names = simulate_games()\n",
    "team_pr, ranked_teams_directed = compute_rankings(directed_matrix)\n",
    "# Flatten the true_ratings dictionary to have team names as keys\n",
    "flattened_true_ratings = {}\n",
    "for division, ratings in true_ratings.items():\n",
    "    for i, rating in enumerate(ratings):\n",
    "        flattened_true_ratings[f\"{division}_Team{i+1}\"] = rating\n",
    "correlation = evaluate_rankings(flattened_true_ratings, ranked_teams_directed)\n",
    "test_res = pd.DataFrame(list([(k,v) for k,v in flattened_true_ratings.items()]), columns=['team','true_rating'])\n",
    "test_res['pagerank'] = team_pr\n"
   ]
  },
  {
   "cell_type": "code",
   "execution_count": 157,
   "id": "ef9489fe",
   "metadata": {},
   "outputs": [
    {
     "data": {
      "text/html": [
       "<div>\n",
       "<style scoped>\n",
       "    .dataframe tbody tr th:only-of-type {\n",
       "        vertical-align: middle;\n",
       "    }\n",
       "\n",
       "    .dataframe tbody tr th {\n",
       "        vertical-align: top;\n",
       "    }\n",
       "\n",
       "    .dataframe thead th {\n",
       "        text-align: right;\n",
       "    }\n",
       "</style>\n",
       "<table border=\"1\" class=\"dataframe\">\n",
       "  <thead>\n",
       "    <tr style=\"text-align: right;\">\n",
       "      <th></th>\n",
       "      <th>true_rating</th>\n",
       "      <th>pagerank</th>\n",
       "    </tr>\n",
       "  </thead>\n",
       "  <tbody>\n",
       "    <tr>\n",
       "      <th>true_rating</th>\n",
       "      <td>1.000000</td>\n",
       "      <td>0.762642</td>\n",
       "    </tr>\n",
       "    <tr>\n",
       "      <th>pagerank</th>\n",
       "      <td>0.762642</td>\n",
       "      <td>1.000000</td>\n",
       "    </tr>\n",
       "  </tbody>\n",
       "</table>\n",
       "</div>"
      ],
      "text/plain": [
       "             true_rating  pagerank\n",
       "true_rating     1.000000  0.762642\n",
       "pagerank        0.762642  1.000000"
      ]
     },
     "execution_count": 157,
     "metadata": {},
     "output_type": "execute_result"
    }
   ],
   "source": [
    "\n",
    "test_res.corr('spearman', numeric_only=True)\n"
   ]
  },
  {
   "cell_type": "code",
   "execution_count": 158,
   "id": "56456c5f",
   "metadata": {},
   "outputs": [
    {
     "data": {
      "text/html": [
       "<div>\n",
       "<style scoped>\n",
       "    .dataframe tbody tr th:only-of-type {\n",
       "        vertical-align: middle;\n",
       "    }\n",
       "\n",
       "    .dataframe tbody tr th {\n",
       "        vertical-align: top;\n",
       "    }\n",
       "\n",
       "    .dataframe thead th {\n",
       "        text-align: right;\n",
       "    }\n",
       "</style>\n",
       "<table border=\"1\" class=\"dataframe\">\n",
       "  <thead>\n",
       "    <tr style=\"text-align: right;\">\n",
       "      <th></th>\n",
       "      <th>true_rating</th>\n",
       "      <th>pagerank</th>\n",
       "    </tr>\n",
       "  </thead>\n",
       "  <tbody>\n",
       "    <tr>\n",
       "      <th>true_rating</th>\n",
       "      <td>1.000000</td>\n",
       "      <td>0.856091</td>\n",
       "    </tr>\n",
       "    <tr>\n",
       "      <th>pagerank</th>\n",
       "      <td>0.856091</td>\n",
       "      <td>1.000000</td>\n",
       "    </tr>\n",
       "  </tbody>\n",
       "</table>\n",
       "</div>"
      ],
      "text/plain": [
       "             true_rating  pagerank\n",
       "true_rating     1.000000  0.856091\n",
       "pagerank        0.856091  1.000000"
      ]
     },
     "execution_count": 158,
     "metadata": {},
     "output_type": "execute_result"
    }
   ],
   "source": [
    "\n",
    "test_res.corr(numeric_only=True)\n"
   ]
  },
  {
   "cell_type": "code",
   "execution_count": 159,
   "id": "9f81b027",
   "metadata": {},
   "outputs": [
    {
     "data": {
      "text/html": [
       "<div>\n",
       "<style scoped>\n",
       "    .dataframe tbody tr th:only-of-type {\n",
       "        vertical-align: middle;\n",
       "    }\n",
       "\n",
       "    .dataframe tbody tr th {\n",
       "        vertical-align: top;\n",
       "    }\n",
       "\n",
       "    .dataframe thead th {\n",
       "        text-align: right;\n",
       "    }\n",
       "</style>\n",
       "<table border=\"1\" class=\"dataframe\">\n",
       "  <thead>\n",
       "    <tr style=\"text-align: right;\">\n",
       "      <th></th>\n",
       "      <th>team</th>\n",
       "      <th>true_rating</th>\n",
       "      <th>pagerank</th>\n",
       "    </tr>\n",
       "  </thead>\n",
       "  <tbody>\n",
       "    <tr>\n",
       "      <th>0</th>\n",
       "      <td>North_Team1</td>\n",
       "      <td>1721.002689</td>\n",
       "      <td>0.107911</td>\n",
       "    </tr>\n",
       "    <tr>\n",
       "      <th>1</th>\n",
       "      <td>North_Team2</td>\n",
       "      <td>1531.338492</td>\n",
       "      <td>0.070356</td>\n",
       "    </tr>\n",
       "    <tr>\n",
       "      <th>2</th>\n",
       "      <td>North_Team3</td>\n",
       "      <td>1618.178396</td>\n",
       "      <td>0.090546</td>\n",
       "    </tr>\n",
       "    <tr>\n",
       "      <th>3</th>\n",
       "      <td>North_Team4</td>\n",
       "      <td>1553.092306</td>\n",
       "      <td>0.075476</td>\n",
       "    </tr>\n",
       "    <tr>\n",
       "      <th>4</th>\n",
       "      <td>North_Team5</td>\n",
       "      <td>1562.074367</td>\n",
       "      <td>0.083488</td>\n",
       "    </tr>\n",
       "    <tr>\n",
       "      <th>5</th>\n",
       "      <td>North_Team6</td>\n",
       "      <td>1668.897759</td>\n",
       "      <td>0.122131</td>\n",
       "    </tr>\n",
       "    <tr>\n",
       "      <th>6</th>\n",
       "      <td>East_Team1</td>\n",
       "      <td>1403.623879</td>\n",
       "      <td>0.044801</td>\n",
       "    </tr>\n",
       "    <tr>\n",
       "      <th>7</th>\n",
       "      <td>East_Team2</td>\n",
       "      <td>1454.517720</td>\n",
       "      <td>0.029629</td>\n",
       "    </tr>\n",
       "    <tr>\n",
       "      <th>8</th>\n",
       "      <td>East_Team3</td>\n",
       "      <td>1457.656059</td>\n",
       "      <td>0.021405</td>\n",
       "    </tr>\n",
       "    <tr>\n",
       "      <th>9</th>\n",
       "      <td>East_Team4</td>\n",
       "      <td>1557.627889</td>\n",
       "      <td>0.044624</td>\n",
       "    </tr>\n",
       "    <tr>\n",
       "      <th>10</th>\n",
       "      <td>East_Team5</td>\n",
       "      <td>1496.707701</td>\n",
       "      <td>0.060168</td>\n",
       "    </tr>\n",
       "    <tr>\n",
       "      <th>11</th>\n",
       "      <td>East_Team6</td>\n",
       "      <td>1581.687902</td>\n",
       "      <td>0.049168</td>\n",
       "    </tr>\n",
       "    <tr>\n",
       "      <th>12</th>\n",
       "      <td>South_Team1</td>\n",
       "      <td>1395.542884</td>\n",
       "      <td>0.037878</td>\n",
       "    </tr>\n",
       "    <tr>\n",
       "      <th>13</th>\n",
       "      <td>South_Team2</td>\n",
       "      <td>1338.310842</td>\n",
       "      <td>0.023651</td>\n",
       "    </tr>\n",
       "    <tr>\n",
       "      <th>14</th>\n",
       "      <td>South_Team3</td>\n",
       "      <td>1396.809883</td>\n",
       "      <td>0.024260</td>\n",
       "    </tr>\n",
       "    <tr>\n",
       "      <th>15</th>\n",
       "      <td>South_Team4</td>\n",
       "      <td>1406.304207</td>\n",
       "      <td>0.038853</td>\n",
       "    </tr>\n",
       "    <tr>\n",
       "      <th>16</th>\n",
       "      <td>South_Team5</td>\n",
       "      <td>1448.528669</td>\n",
       "      <td>0.024965</td>\n",
       "    </tr>\n",
       "    <tr>\n",
       "      <th>17</th>\n",
       "      <td>South_Team6</td>\n",
       "      <td>1400.979343</td>\n",
       "      <td>0.050689</td>\n",
       "    </tr>\n",
       "  </tbody>\n",
       "</table>\n",
       "</div>"
      ],
      "text/plain": [
       "           team  true_rating  pagerank\n",
       "0   North_Team1  1721.002689  0.107911\n",
       "1   North_Team2  1531.338492  0.070356\n",
       "2   North_Team3  1618.178396  0.090546\n",
       "3   North_Team4  1553.092306  0.075476\n",
       "4   North_Team5  1562.074367  0.083488\n",
       "5   North_Team6  1668.897759  0.122131\n",
       "6    East_Team1  1403.623879  0.044801\n",
       "7    East_Team2  1454.517720  0.029629\n",
       "8    East_Team3  1457.656059  0.021405\n",
       "9    East_Team4  1557.627889  0.044624\n",
       "10   East_Team5  1496.707701  0.060168\n",
       "11   East_Team6  1581.687902  0.049168\n",
       "12  South_Team1  1395.542884  0.037878\n",
       "13  South_Team2  1338.310842  0.023651\n",
       "14  South_Team3  1396.809883  0.024260\n",
       "15  South_Team4  1406.304207  0.038853\n",
       "16  South_Team5  1448.528669  0.024965\n",
       "17  South_Team6  1400.979343  0.050689"
      ]
     },
     "execution_count": 159,
     "metadata": {},
     "output_type": "execute_result"
    }
   ],
   "source": [
    "test_res"
   ]
  },
  {
   "cell_type": "code",
   "execution_count": null,
   "id": "1875060f",
   "metadata": {},
   "outputs": [],
   "source": []
  },
  {
   "cell_type": "code",
   "execution_count": 85,
   "id": "1f76a0d2",
   "metadata": {},
   "outputs": [
    {
     "data": {
      "text/plain": [
       "({'North': array([1636.87851246, 1570.18016067, 1575.50974332, 1603.72273168,\n",
       "         1630.46131608, 1640.74881825]),\n",
       "  'East': array([1547.2191816 , 1467.09309237, 1522.01735531, 1590.11357419,\n",
       "         1538.68090615, 1412.73559594]),\n",
       "  'South': array([1414.32809342, 1454.54759725, 1389.04688903, 1392.09527074,\n",
       "         1454.06825167, 1373.73934664])},\n",
       " ['North_Team1',\n",
       "  'North_Team2',\n",
       "  'North_Team3',\n",
       "  'North_Team4',\n",
       "  'North_Team5',\n",
       "  'North_Team6',\n",
       "  'East_Team1',\n",
       "  'East_Team2',\n",
       "  'East_Team3',\n",
       "  'East_Team4',\n",
       "  'East_Team5',\n",
       "  'East_Team6',\n",
       "  'South_Team1',\n",
       "  'South_Team2',\n",
       "  'South_Team3',\n",
       "  'South_Team4',\n",
       "  'South_Team5',\n",
       "  'South_Team6'])"
      ]
     },
     "execution_count": 85,
     "metadata": {},
     "output_type": "execute_result"
    }
   ],
   "source": [
    "\n",
    "\n",
    "# Number of teams and divisions\n",
    "num_teams_per_division = 6\n",
    "num_divisions = 3\n",
    "\n",
    "# Elo settings\n",
    "elo_avgs = {'North': 1600, 'East': 1500, 'South': 1400}\n",
    "elo_std = 50\n",
    "\n",
    "# Generate Elo ratings\n",
    "elo_ratings = {}\n",
    "team_names = []\n",
    "for division, avg in elo_avgs.items():\n",
    "    elo_ratings[division] = np.random.normal(avg, elo_std, num_teams_per_division)\n",
    "    for i in range(num_teams_per_division):\n",
    "        team_names.append(f\"{division}_Team{i+1}\")\n",
    "\n",
    "elo_ratings, team_names\n",
    "\n",
    "\n"
   ]
  },
  {
   "cell_type": "code",
   "execution_count": 124,
   "id": "64196909",
   "metadata": {},
   "outputs": [],
   "source": [
    "\n",
    "\n"
   ]
  },
  {
   "cell_type": "code",
   "execution_count": 126,
   "id": "1ec2d4e0",
   "metadata": {},
   "outputs": [
    {
     "name": "stdout",
     "output_type": "stream",
     "text": [
      "126.0 126\n"
     ]
    }
   ],
   "source": [
    "print((14*18)/2, len(results))\n"
   ]
  },
  {
   "cell_type": "code",
   "execution_count": 129,
   "id": "7c62d9bd",
   "metadata": {},
   "outputs": [],
   "source": [
    "num_teams = 18\n",
    "\n",
    "# Construct the matrices again\n",
    "mutual_matrix = np.zeros((num_teams, num_teams))\n",
    "directed_matrix = np.zeros((num_teams, num_teams))\n",
    "\n",
    "for game in results:\n",
    "    team_a_idx = team_names.index(game[0])\n",
    "    team_b_idx = team_names.index(game[1])\n",
    "    \n",
    "    if game[2] == 'A':  # Team A won\n",
    "        mutual_matrix[team_a_idx][team_b_idx] += 1\n",
    "        mutual_matrix[team_b_idx][team_a_idx] -= 1\n",
    "        directed_matrix[team_a_idx][team_b_idx] += 1\n",
    "    else:  # Team B won\n",
    "        mutual_matrix[team_a_idx][team_b_idx] -= 1\n",
    "        mutual_matrix[team_b_idx][team_a_idx] += 1\n",
    "        directed_matrix[team_b_idx][team_a_idx] += 1\n"
   ]
  },
  {
   "cell_type": "code",
   "execution_count": 130,
   "id": "72199b96",
   "metadata": {},
   "outputs": [
    {
     "data": {
      "text/plain": [
       "array([ 6.17328614e+04, -4.09519516e+11,  1.87003619e+12, -8.19035521e+11,\n",
       "       -6.41483644e+11,  8.19035038e+11,  8.19036953e+11, -1.37027193e+06,\n",
       "        4.47032993e+12, -2.52870131e+12, -9.79408751e+11,  2.60029461e+12,\n",
       "       -2.60029368e+12, -3.24177521e+12, -2.60029182e+12,  3.20745275e+11,\n",
       "        4.22118215e+12, -1.30014939e+12])"
      ]
     },
     "execution_count": 130,
     "metadata": {},
     "output_type": "execute_result"
    }
   ],
   "source": [
    "\n",
    "pagerank(mutual_matrix)\n"
   ]
  },
  {
   "cell_type": "code",
   "execution_count": 131,
   "id": "f3656fec",
   "metadata": {},
   "outputs": [
    {
     "data": {
      "text/plain": [
       "array([0.05095547, 0.05227351, 0.07155906, 0.06809909, 0.07683491,\n",
       "       0.08490955, 0.05080398, 0.06990573, 0.0514212 , 0.08186263,\n",
       "       0.05325508, 0.07131009, 0.02655616, 0.04032125, 0.03729009,\n",
       "       0.03426004, 0.03064464, 0.04773752])"
      ]
     },
     "execution_count": 131,
     "metadata": {},
     "output_type": "execute_result"
    }
   ],
   "source": [
    "pagerank(directed_matrix)"
   ]
  },
  {
   "cell_type": "code",
   "execution_count": null,
   "id": "e35ebed3",
   "metadata": {},
   "outputs": [],
   "source": []
  },
  {
   "cell_type": "code",
   "execution_count": null,
   "id": "4c6314d1",
   "metadata": {},
   "outputs": [],
   "source": []
  },
  {
   "cell_type": "code",
   "execution_count": null,
   "id": "288f2113",
   "metadata": {},
   "outputs": [],
   "source": []
  },
  {
   "cell_type": "code",
   "execution_count": null,
   "id": "c343a7ea",
   "metadata": {},
   "outputs": [],
   "source": []
  },
  {
   "cell_type": "code",
   "execution_count": 10,
   "id": "36482a2d",
   "metadata": {},
   "outputs": [
    {
     "name": "stdout",
     "output_type": "stream",
     "text": [
      "0 [[0.57735027]\n",
      " [0.57735027]\n",
      " [0.57735027]\n",
      " [0.        ]]\n",
      "1 [[0.70710678]\n",
      " [0.70710678]\n",
      " [0.        ]\n",
      " [0.        ]]\n",
      "2 [[1.]\n",
      " [0.]\n",
      " [0.]\n",
      " [0.]]\n",
      "3 [[nan]\n",
      " [nan]\n",
      " [nan]\n",
      " [nan]]\n",
      "4 [[nan]\n",
      " [nan]\n",
      " [nan]\n",
      " [nan]]\n",
      "5 [[nan]\n",
      " [nan]\n",
      " [nan]\n",
      " [nan]]\n",
      "6 [[nan]\n",
      " [nan]\n",
      " [nan]\n",
      " [nan]]\n",
      "7 [[nan]\n",
      " [nan]\n",
      " [nan]\n",
      " [nan]]\n",
      "8 [[nan]\n",
      " [nan]\n",
      " [nan]\n",
      " [nan]]\n",
      "9 [[nan]\n",
      " [nan]\n",
      " [nan]\n",
      " [nan]]\n"
     ]
    },
    {
     "name": "stderr",
     "output_type": "stream",
     "text": [
      "C:\\Users\\Blake\\AppData\\Local\\Temp\\ipykernel_6552\\2059090309.py:16: RuntimeWarning: invalid value encountered in divide\n",
      "  v = v/norm\n"
     ]
    }
   ],
   "source": [
    "\n",
    "## Four team system\n",
    "## A beats B\n",
    "## C beats D\n",
    "A = np.array([\n",
    "    [0, 1, 0, 0],\n",
    "    [0, 0, 1, 0],\n",
    "    [0, 0, 0, 1],\n",
    "    [0, 0, 0, 0]\n",
    "])\n",
    "\n",
    "v = np.array([1, 1, 1, 1]).reshape(-1,1)\n",
    "\n",
    "for i in range(10):\n",
    "    v = A@v\n",
    "    norm = np.linalg.norm(v, axis=0)\n",
    "    v = v/norm\n",
    "    print(i, v)\n"
   ]
  },
  {
   "cell_type": "code",
   "execution_count": null,
   "id": "9a6ab6f5",
   "metadata": {},
   "outputs": [],
   "source": [
    "\n",
    "##\n"
   ]
  },
  {
   "cell_type": "code",
   "execution_count": 161,
   "id": "ca92f269",
   "metadata": {},
   "outputs": [
    {
     "data": {
      "text/plain": [
       "array([0.        , 0.69314718, 1.03972077, 1.27703426, 0.        ])"
      ]
     },
     "execution_count": 161,
     "metadata": {},
     "output_type": "execute_result"
    }
   ],
   "source": [
    "\n",
    "A1 = np.array([\n",
    "    [0,1,2,3,1],\n",
    "    [0,0,1,2,1],\n",
    "    [0,0,0,1,1],\n",
    "    [0,0,0,0,1],\n",
    "    [0,0,0,0,0]\n",
    "])\n",
    "\n",
    "entropy(A1)\n",
    "\n",
    "\n"
   ]
  },
  {
   "cell_type": "code",
   "execution_count": 146,
   "id": "a7141881",
   "metadata": {},
   "outputs": [
    {
     "data": {
      "text/plain": [
       "array([      -inf,       -inf, 1.01140426, 1.27985423])"
      ]
     },
     "execution_count": 146,
     "metadata": {},
     "output_type": "execute_result"
    }
   ],
   "source": [
    "\n",
    "A2 = np.array([\n",
    "    [1,1,2,3],\n",
    "    [0,1,1,2],\n",
    "    [0,0,1,1],\n",
    "    [0,0,0,1]\n",
    "])\n",
    "\n",
    "entropy(A1)\n"
   ]
  },
  {
   "cell_type": "code",
   "execution_count": null,
   "id": "afe01711",
   "metadata": {},
   "outputs": [],
   "source": [
    "\n",
    "\n"
   ]
  },
  {
   "cell_type": "code",
   "execution_count": null,
   "id": "21716523",
   "metadata": {},
   "outputs": [],
   "source": []
  },
  {
   "cell_type": "code",
   "execution_count": null,
   "id": "fa9816a0",
   "metadata": {},
   "outputs": [],
   "source": []
  },
  {
   "cell_type": "code",
   "execution_count": 28,
   "id": "3ad7fb25-c277-4cee-899d-cefa2607e5e2",
   "metadata": {},
   "outputs": [],
   "source": [
    "\n",
    "### 8 team system\n",
    "ratings = {\n",
    "    'A':4,\n",
    "    'B':3,\n",
    "    'C':2,\n",
    "    'D':1,\n",
    "    'E':-1,\n",
    "    'F':-2,\n",
    "    'G':-3,\n",
    "    'H':-4\n",
    "}\n",
    "def play_game(skill_1, skill_2, variation = 4):\n",
    "    return np.random.normal(skill_1-skill_2, variation)\n",
    "name2idx = {team_name:i for i, team_name in enumerate(ratings.keys())}\n",
    "n_players = 8\n",
    "schedule = list(combinations(['A','B','C','D','E','F','G','H'], 2))\n",
    "rating_matrix = np.zeros((n_players, n_players))\n",
    "schedule = pd.DataFrame(schedule, columns=['team_1','team_2'])\n",
    "schedule['game_result'] = schedule.apply(lambda x: play_game(ratings[x.team_1], ratings[x.team_2]), axis=1)\n",
    "for index, row in schedule.iterrows():\n",
    "    if row['game_result']>0:\n",
    "        rating_matrix[name2idx[row['team_1']], name2idx[row['team_2']]] = row['game_result']\n",
    "    else:\n",
    "        rating_matrix[name2idx[row['team_2']], name2idx[row['team_1']]] = np.abs(row['game_result'])\n",
    "\n",
    "def calc_multiple_ratings(A, D, num_iterations=100):\n",
    "\n",
    "#         dampen = 1/(num_players**2)\n",
    "#         A = (dampen * A + (1 - dampen) / num_players) \n",
    "\n",
    "        for i in range(num_iterations):\n",
    "            v = np.matmul(A, v)\n",
    "            norm = np.linalg.norm(v, axis=0)\n",
    "            v = v/norm\n",
    "        return v*num_players\n",
    "    \n",
    "ratings_vector = np.random.random(8)\n",
    "\n"
   ]
  },
  {
   "cell_type": "code",
   "execution_count": 121,
   "id": "64028c37",
   "metadata": {},
   "outputs": [
    {
     "data": {
      "image/png": "[encoded data removed]",
      "text/plain": [
       "<Figure size 640x480 with 1 Axes>"
      ]
     },
     "metadata": {},
     "output_type": "display_data"
    }
   ],
   "source": [
    "\n",
    "%matplotlib inline \n",
    "from matplotlib import pyplot as plt\n",
    "plt.imshow(A, interpolation='nearest')\n",
    "plt.show()\n"
   ]
  },
  {
   "cell_type": "code",
   "execution_count": 124,
   "id": "ec6e1fb9",
   "metadata": {},
   "outputs": [
    {
     "data": {
      "text/plain": [
       "array([[0.85018224],\n",
       "       [0.84291062],\n",
       "       [0.8000487 ],\n",
       "       [0.68251425],\n",
       "       [0.35448491]])"
      ]
     },
     "execution_count": 124,
     "metadata": {},
     "output_type": "execute_result"
    }
   ],
   "source": [
    "np.matmul(A, v)"
   ]
  },
  {
   "cell_type": "code",
   "execution_count": 33,
   "id": "d149eb53",
   "metadata": {},
   "outputs": [],
   "source": [
    "\n",
    "one_way_rtg = calc_multiple_ratings(rating_matrix, ratings_vector, 8)\n"
   ]
  },
  {
   "cell_type": "code",
   "execution_count": null,
   "id": "2b24e889",
   "metadata": {},
   "outputs": [],
   "source": [
    "\n",
    "one_way_rtg = \n"
   ]
  },
  {
   "cell_type": "code",
   "execution_count": 31,
   "id": "5e583b5a",
   "metadata": {},
   "outputs": [
    {
     "data": {
      "text/plain": [
       "array([0.89321062, 0.98868803, 0.65785616, 2.16030061, 2.44533437,\n",
       "       3.23212466, 3.5770015 , 5.28240168])"
      ]
     },
     "execution_count": 31,
     "metadata": {},
     "output_type": "execute_result"
    }
   ],
   "source": [
    "\n",
    " avg_rtg = (calc_multiple_ratings(rating_matrix, ratings_vector, 8) + -1*calc_multiple_ratings(rating_matrix.T, ratings_vector, 8))/2\n",
    "\n"
   ]
  },
  {
   "cell_type": "code",
   "execution_count": 37,
   "id": "e3162b2f",
   "metadata": {},
   "outputs": [
    {
     "name": "stdout",
     "output_type": "stream",
     "text": [
      "[[5.]\n",
      " [5.]\n",
      " [5.]\n",
      " [5.]\n",
      " [0.]]\n",
      "[[25.]\n",
      " [25.]\n",
      " [25.]\n",
      " [ 0.]\n",
      " [ 0.]]\n"
     ]
    }
   ],
   "source": [
    "A = np.array([\n",
    "    [0,5,0,0,0],\n",
    "    [0,0,5,0,0],\n",
    "    [0,0,0,5,0],\n",
    "    [0,0,0,0,5],\n",
    "    [0,0,0,0,0]\n",
    "])\n",
    "v = np.ones(5).reshape(-1,1)\n",
    "v_1 = np.matmul(A, v)\n",
    "print(v_1)\n",
    "v_2 = np.matmul(A, v_1)\n",
    "print(v_2)\n"
   ]
  },
  {
   "cell_type": "code",
   "execution_count": 141,
   "id": "dd503008",
   "metadata": {},
   "outputs": [
    {
     "data": {
      "text/plain": [
       "array([[ 0.03034551],\n",
       "       [ 0.00031434],\n",
       "       [-0.0015252 ],\n",
       "       [-0.0011311 ],\n",
       "       [-0.00558418],\n",
       "       [-0.0254219 ]])"
      ]
     },
     "execution_count": 141,
     "metadata": {},
     "output_type": "execute_result"
    }
   ],
   "source": [
    "D = np.array([\n",
    "    [0,1,0,0,0,1],\n",
    "    [1,0,1,0,0,1],\n",
    "    [0,1,0,1,0,1],\n",
    "    [0,0,1,0,1,1],\n",
    "    [0,0,0,1,0,1],\n",
    "    [1,1,1,1,1,1]\n",
    "])\n",
    "## Experiment with different relative skills\n",
    "A = np.array([\n",
    "    [0,5,0,0,0,1],\n",
    "    [0,0,4,0,0,1],\n",
    "    [0,0,0,3,0,1],\n",
    "    [0,0,0,0,2,1],\n",
    "    [0,0,0,0,0,1],\n",
    "    [0,0,0,0,0,0],\n",
    "])\n",
    "num_players=6\n",
    "dampen = 1/(num_players**2)\n",
    "A = (dampen * A + (1 - dampen) / num_players) \n",
    "D = (dampen * D + (1 - dampen) / num_players) \n",
    "# print(D-A)\n",
    "v = np.ones(6).reshape(-1,1)\n",
    "for i in range(25):\n",
    "    v = np.matmul(A/D, v)\n",
    "    norm = np.linalg.norm(v, axis=0)\n",
    "    v = v/norm\n",
    "    v2 = np.ones(6).reshape(-1,1)\n",
    "for i in range(25):\n",
    "    v2 = np.matmul((A.T/D), v2)\n",
    "    norm = np.linalg.norm(v2, axis=0)\n",
    "    v2 = v2/norm\n",
    "(v + -1*v2)/2\n",
    "\n"
   ]
  },
  {
   "cell_type": "code",
   "execution_count": 139,
   "id": "f6ce81d4",
   "metadata": {},
   "outputs": [
    {
     "data": {
      "text/plain": [
       "array([[ 0.16507776],\n",
       "       [ 0.03613809],\n",
       "       [-0.02547549],\n",
       "       [-0.03941757],\n",
       "       [-0.04118805],\n",
       "       [-0.1233999 ]])"
      ]
     },
     "execution_count": 139,
     "metadata": {},
     "output_type": "execute_result"
    }
   ],
   "source": [
    "## Experiment with different relative skills\n",
    "A = np.array([\n",
    "    [0,5,0,0,0,1],\n",
    "    [0,0,4,0,0,1],\n",
    "    [0,0,0,3,0,1],\n",
    "    [0,0,0,0,2,1],\n",
    "    [0,0,0,0,0,1],\n",
    "    [0,0,0,0,0,0],\n",
    "])\n",
    "\n",
    "num_players=6\n",
    "dampen = 1/(num_players)\n",
    "A = (dampen * A + (1 - dampen) / num_players) \n",
    "\n",
    "v = np.ones(6).reshape(-1,1)\n",
    "for i in range(30):\n",
    "    v = np.matmul(A, v)\n",
    "    norm = np.linalg.norm(v, axis=0)\n",
    "    v = v/norm\n",
    "v2 = np.ones(6).reshape(-1,1)\n",
    "\n",
    "for i in range(30):\n",
    "    v2 = np.matmul((A.T), v2)\n",
    "    norm = np.linalg.norm(v2, axis=0)\n",
    "    v2 = v2/norm\n",
    "\n",
    "## key insight: for small systems like this, it's good to average between A\n",
    "## and -1*A.T\n",
    "(v + -1*v2)/2\n"
   ]
  },
  {
   "cell_type": "code",
   "execution_count": 147,
   "id": "65c7ad73",
   "metadata": {},
   "outputs": [
    {
     "data": {
      "text/plain": [
       "array([[ 0.18613352],\n",
       "       [ 0.02116258],\n",
       "       [-0.06575858],\n",
       "       [-0.08582143],\n",
       "       [-0.07889244]])"
      ]
     },
     "execution_count": 147,
     "metadata": {},
     "output_type": "execute_result"
    }
   ],
   "source": [
    "\n",
    "## Experiment with different relative skills\n",
    "A = np.array([\n",
    "    [0,5,0,0,0],\n",
    "    [0,0,4,0,0],\n",
    "    [0,0,0,3,0],\n",
    "    [0,0,0,0,2],\n",
    "    [0,0,0,0,0],\n",
    "])\n",
    "\n",
    "num_players=5\n",
    "dampen = 1/(num_players)\n",
    "A = (dampen * A + (1 - dampen) / num_players) \n",
    "\n",
    "v = np.ones(5).reshape(-1,1)\n",
    "for i in range(30):\n",
    "    v = np.matmul(A, v)\n",
    "    norm = np.linalg.norm(v, axis=0)\n",
    "    v = v/norm\n",
    "v2 = np.ones(5).reshape(-1,1)\n",
    "\n",
    "for i in range(30):\n",
    "    v2 = np.matmul((A.T), v2)\n",
    "    norm = np.linalg.norm(v2, axis=0)\n",
    "    v2 = v2/norm\n",
    "\n",
    "## key insight: for small systems like this, it's good to average between A\n",
    "## and -1*A.T\n",
    "(v + -1*v2)/2\n",
    "\n"
   ]
  },
  {
   "cell_type": "code",
   "execution_count": 156,
   "id": "95c69629",
   "metadata": {},
   "outputs": [
    {
     "data": {
      "text/plain": [
       "array([[ 0.16507776],\n",
       "       [ 0.03613809],\n",
       "       [-0.02547549],\n",
       "       [-0.03941757],\n",
       "       [-0.04118805],\n",
       "       [-0.1233999 ]])"
      ]
     },
     "execution_count": 156,
     "metadata": {},
     "output_type": "execute_result"
    }
   ],
   "source": [
    "\n",
    "\n",
    "## Experiment with different relative skills\n",
    "A = np.array([\n",
    "    [0,5,0,0,0,1],\n",
    "    [0,0,4,0,0,1],\n",
    "    [0,0,0,3,0,1],\n",
    "    [0,0,0,0,2,1],\n",
    "    [0,0,0,0,0,1],\n",
    "    [0,0,0,0,0,0]\n",
    "])\n",
    "\n",
    "num_players=6\n",
    "dampen = 1/(num_players)\n",
    "A = (dampen * A + (1 - dampen) / num_players) \n",
    "\n",
    "v = np.ones(6).reshape(-1,1)\n",
    "for i in range(30):\n",
    "    v = np.matmul(A, v)\n",
    "    norm = np.linalg.norm(v, axis=0)\n",
    "    v = v/norm\n",
    "v2 = np.ones(6).reshape(-1,1)\n",
    "\n",
    "for i in range(30):\n",
    "    v2 = np.matmul((A.T), v2)\n",
    "    norm = np.linalg.norm(v2, axis=0)\n",
    "    v2 = v2/norm\n",
    "\n",
    "## key insight: for small systems like this, it's good to average between A\n",
    "## and -1*A.T\n",
    "(v + -1*v2)/2\n"
   ]
  },
  {
   "cell_type": "code",
   "execution_count": null,
   "id": "2fc1d985",
   "metadata": {},
   "outputs": [],
   "source": []
  },
  {
   "cell_type": "code",
   "execution_count": 120,
   "id": "89fd4fe5",
   "metadata": {},
   "outputs": [
    {
     "data": {
      "text/plain": [
       "array([[1.        , 2.07142857, 1.        , 1.        , 1.        ],\n",
       "       [0.28571429, 1.        , 3.22222222, 1.        , 1.        ],\n",
       "       [1.        , 0.44444444, 1.        , 3.22222222, 1.        ],\n",
       "       [1.        , 1.        , 0.44444444, 1.        , 3.22222222],\n",
       "       [1.        , 1.        , 1.        , 0.44444444, 1.        ]])"
      ]
     },
     "execution_count": 120,
     "metadata": {},
     "output_type": "execute_result"
    }
   ],
   "source": [
    "A/D"
   ]
  },
  {
   "cell_type": "code",
   "execution_count": 69,
   "id": "b594ffd2",
   "metadata": {},
   "outputs": [
    {
     "data": {
      "text/plain": [
       "array([[7.59803922],\n",
       "       [8.08823529],\n",
       "       [8.18965517],\n",
       "       [8.18965517],\n",
       "       [4.02298851]])"
      ]
     },
     "execution_count": 69,
     "metadata": {},
     "output_type": "execute_result"
    }
   ],
   "source": [
    "L = A/D\n",
    "v = np.ones(5).reshape(-1,1)\n",
    "v = np.matmul(A/D, v)\n",
    "v"
   ]
  },
  {
   "cell_type": "code",
   "execution_count": null,
   "id": "a65671c9",
   "metadata": {},
   "outputs": [],
   "source": []
  },
  {
   "cell_type": "code",
   "execution_count": 8,
   "id": "5eea5bb6",
   "metadata": {},
   "outputs": [
    {
     "data": {
      "text/plain": [
       "array([[ 0.        ,  0.        ,  0.05760158,  0.        ,  0.        ,\n",
       "         0.        ,  0.        ,  0.        ],\n",
       "       [ 2.62489519,  0.        ,  0.        ,  0.        ,  0.        ,\n",
       "         0.        ,  0.        ,  0.        ],\n",
       "       [ 0.        ,  0.85995336,  0.        ,  0.        ,  0.        ,\n",
       "         0.        ,  0.        ,  0.        ],\n",
       "       [ 3.76332862,  3.86000261,  6.05640029,  0.        ,  0.        ,\n",
       "         0.        ,  0.        ,  0.        ],\n",
       "       [ 7.56259201,  8.52798376,  5.22562779,  8.35293767,  0.        ,\n",
       "         0.        ,  0.        ,  0.        ],\n",
       "       [ 3.4032825 , 10.18248646,  4.3882451 ,  2.0850992 ,  0.3411896 ,\n",
       "         0.        ,  3.7425629 ,  0.        ],\n",
       "       [ 7.61736012, 10.47983922, 12.26508833,  4.86301124,  6.45095098,\n",
       "         0.        ,  0.        ,  0.        ],\n",
       "       [ 4.3874254 ,  0.74097548,  7.78092284,  5.5404988 ,  1.14060716,\n",
       "         8.75901256,  5.35766935,  0.        ]])"
      ]
     },
     "execution_count": 8,
     "metadata": {},
     "output_type": "execute_result"
    }
   ],
   "source": [
    "\n",
    "\n",
    "\n",
    "# def calc_multiple_ratings(rtg_matrix, player_rtgs, num_players, num_iterations=100):\n",
    "\n",
    "#         dampen = 1/(num_players**2)\n",
    "#         A = (dampen * rtg_matrix + (1 - dampen) / num_players) \n",
    "#         v = torch.clone(player_rtgs)\n",
    "\n",
    "#         for i in range(num_iterations):\n",
    "#             v = torch.einsum('ijk,jk->ik', A, v)\n",
    "#             norm = torch.linalg.norm(v, axis=0)\n",
    "#             v = v/norm\n",
    "#         return v*num_players\n"
   ]
  },
  {
   "cell_type": "code",
   "execution_count": null,
   "id": "496bf913",
   "metadata": {},
   "outputs": [],
   "source": []
  }
 ],
 "metadata": {
  "kernelspec": {
   "display_name": "Python 3 (ipykernel)",
   "language": "python",
   "name": "python3"
  },
  "language_info": {
   "codemirror_mode": {
    "name": "ipython",
    "version": 3
   },
   "file_extension": ".py",
   "mimetype": "text/x-python",
   "name": "python",
   "nbconvert_exporter": "python",
   "pygments_lexer": "ipython3",
   "version": "3.11.4"
  }
 },
 "nbformat": 4,
 "nbformat_minor": 5
}
